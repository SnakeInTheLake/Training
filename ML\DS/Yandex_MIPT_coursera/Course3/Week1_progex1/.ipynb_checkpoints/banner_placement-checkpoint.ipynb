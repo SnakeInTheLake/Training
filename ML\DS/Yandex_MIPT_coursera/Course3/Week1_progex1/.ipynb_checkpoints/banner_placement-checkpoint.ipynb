{
 "cells": [
  {
   "cell_type": "markdown",
   "metadata": {},
   "source": [
    "# Programming Assignment: Размещение баннеров\n",
    "\n",
    "Представим, что международное круизное агентство Carnival Cruise Line решило себя разрекламировать с помощью баннеров и обратилось для этого к вам. Чтобы протестировать, велика ли от таких баннеров польза, их будет размещено всего 20 штук по всему миру. Вам надо выбрать 20 таких локаций для размещения, чтобы польза была большой и агентство продолжило с вами сотрудничать.\n",
    "\n",
    "Агентство крупное, и у него есть несколько офисов по всему миру. Вблизи этих офисов оно и хочет разместить баннеры — легче договариваться и проверять результат. Также эти места должны быть популярны среди туристов.\n",
    "\n",
    "Для поиска оптимальных мест воспользуемся базой данных крупнейшей социальной сети, основанной на локациях — Foursquare.\n",
    "\n",
    "Часть открытых данных есть, например, на сайте archive.org:\n",
    "\n",
    "https://archive.org/details/201309_foursquare_dataset_umn\n",
    "\n",
    "Скачаем любым удобным образом архив fsq.zip с этой страницы.\n",
    "\n",
    "Нас будет интересовать файл checkins.dat. Для удобной работы с этим документом преобразуем его к формату csv, удалив строки, не содержащие координат — они неинформативны для нас."
   ]
  },
  {
   "cell_type": "code",
   "execution_count": 1,
   "metadata": {
    "colab": {},
    "colab_type": "code",
    "executionInfo": {
     "elapsed": 956,
     "status": "ok",
     "timestamp": 1595227369613,
     "user": {
      "displayName": "Павел Ананьев",
      "photoUrl": "",
      "userId": "07746041064703407151"
     },
     "user_tz": 0
    },
    "id": "pv4seWUn8P6x"
   },
   "outputs": [],
   "source": [
    "import os\n",
    "import pandas as pd\n",
    "import numpy as np"
   ]
  },
  {
   "cell_type": "code",
   "execution_count": 2,
   "metadata": {
    "colab": {},
    "colab_type": "code",
    "executionInfo": {
     "elapsed": 787,
     "status": "ok",
     "timestamp": 1595227562471,
     "user": {
      "displayName": "Павел Ананьев",
      "photoUrl": "",
      "userId": "07746041064703407151"
     },
     "user_tz": 0
    },
    "id": "hkOdQrvt8P1H"
   },
   "outputs": [],
   "source": [
    "path_to_datasets = 'umn_foursquare_datasets/'\n",
    "data_path = os.path.join(path_to_datasets, 'checkins.dat')"
   ]
  },
  {
   "cell_type": "code",
   "execution_count": 3,
   "metadata": {},
   "outputs": [
    {
     "name": "stdout",
     "output_type": "stream",
     "text": [
      "   id    | user_id | venue_id |     latitude      |     longitude     |     created_at      \n",
      "---------+---------+----------+-------------------+-------------------+---------------------\n",
      "  984301 | 2041916 |     5222 |                   |                   | 2012-04-21 17:39:01\n",
      "  984222 |   15824 |     5222 |        38.8951118 |       -77.0363658 | 2012-04-21 17:43:47\n",
      "  984315 | 1764391 |     5222 |                   |                   | 2012-04-21 17:37:18\n"
     ]
    }
   ],
   "source": [
    "# Посмотрим на структуру файла\n",
    "! head -5 $data_path"
   ]
  },
  {
   "cell_type": "code",
   "execution_count": 4,
   "metadata": {
    "colab": {
     "base_uri": "https://localhost:8080/",
     "height": 238
    },
    "colab_type": "code",
    "executionInfo": {
     "elapsed": 2738,
     "status": "ok",
     "timestamp": 1595231046017,
     "user": {
      "displayName": "Павел Ананьев",
      "photoUrl": "",
      "userId": "07746041064703407151"
     },
     "user_tz": 0
    },
    "id": "HHc8znZF8Pxs",
    "outputId": "a07f4d5e-9abb-45b2-bbb3-4f73f4fd1448"
   },
   "outputs": [
    {
     "name": "stderr",
     "output_type": "stream",
     "text": [
      "/home/snake/miniconda3/lib/python3.7/site-packages/IPython/core/interactiveshell.py:3146: DtypeWarning: Columns (0) have mixed types.Specify dtype option on import or set low_memory=False.\n",
      "  interactivity=interactivity, compiler=compiler, result=result)\n"
     ]
    },
    {
     "data": {
      "text/html": [
       "<div>\n",
       "<style scoped>\n",
       "    .dataframe tbody tr th:only-of-type {\n",
       "        vertical-align: middle;\n",
       "    }\n",
       "\n",
       "    .dataframe tbody tr th {\n",
       "        vertical-align: top;\n",
       "    }\n",
       "\n",
       "    .dataframe thead th {\n",
       "        text-align: right;\n",
       "    }\n",
       "</style>\n",
       "<table border=\"1\" class=\"dataframe\">\n",
       "  <thead>\n",
       "    <tr style=\"text-align: right;\">\n",
       "      <th></th>\n",
       "      <th>id</th>\n",
       "      <th>user_id</th>\n",
       "      <th>venue_id</th>\n",
       "      <th>latitude</th>\n",
       "      <th>longitude</th>\n",
       "      <th>created_at</th>\n",
       "    </tr>\n",
       "  </thead>\n",
       "  <tbody>\n",
       "    <tr>\n",
       "      <th>0</th>\n",
       "      <td>984301</td>\n",
       "      <td>2041916.0</td>\n",
       "      <td>5222.0</td>\n",
       "      <td>NaN</td>\n",
       "      <td>NaN</td>\n",
       "      <td>2012-04-21 17:39:01</td>\n",
       "    </tr>\n",
       "    <tr>\n",
       "      <th>1</th>\n",
       "      <td>984222</td>\n",
       "      <td>15824.0</td>\n",
       "      <td>5222.0</td>\n",
       "      <td>38.895112</td>\n",
       "      <td>-77.036366</td>\n",
       "      <td>2012-04-21 17:43:47</td>\n",
       "    </tr>\n",
       "    <tr>\n",
       "      <th>2</th>\n",
       "      <td>984315</td>\n",
       "      <td>1764391.0</td>\n",
       "      <td>5222.0</td>\n",
       "      <td>NaN</td>\n",
       "      <td>NaN</td>\n",
       "      <td>2012-04-21 17:37:18</td>\n",
       "    </tr>\n",
       "    <tr>\n",
       "      <th>3</th>\n",
       "      <td>984234</td>\n",
       "      <td>44652.0</td>\n",
       "      <td>5222.0</td>\n",
       "      <td>33.800745</td>\n",
       "      <td>-84.410520</td>\n",
       "      <td>2012-04-21 17:43:43</td>\n",
       "    </tr>\n",
       "    <tr>\n",
       "      <th>4</th>\n",
       "      <td>984249</td>\n",
       "      <td>2146840.0</td>\n",
       "      <td>5222.0</td>\n",
       "      <td>NaN</td>\n",
       "      <td>NaN</td>\n",
       "      <td>2012-04-21 17:42:58</td>\n",
       "    </tr>\n",
       "  </tbody>\n",
       "</table>\n",
       "</div>"
      ],
      "text/plain": [
       "       id    user_id  venue_id   latitude  longitude          created_at\n",
       "0  984301  2041916.0    5222.0        NaN        NaN 2012-04-21 17:39:01\n",
       "1  984222    15824.0    5222.0  38.895112 -77.036366 2012-04-21 17:43:47\n",
       "2  984315  1764391.0    5222.0        NaN        NaN 2012-04-21 17:37:18\n",
       "3  984234    44652.0    5222.0  33.800745 -84.410520 2012-04-21 17:43:43\n",
       "4  984249  2146840.0    5222.0        NaN        NaN 2012-04-21 17:42:58"
      ]
     },
     "execution_count": 4,
     "metadata": {},
     "output_type": "execute_result"
    }
   ],
   "source": [
    "# Считаем данные в pandas\n",
    "data = pd.read_csv(data_path, sep='|', header=0, skiprows=[1], skipinitialspace=True)\n",
    "data.rename(columns=lambda x: x.strip(), inplace=True)\n",
    "data.drop(data.tail(1).index, inplace=True)\n",
    "data['created_at'] = pd.to_datetime(data['created_at'])\n",
    "data.head()"
   ]
  },
  {
   "cell_type": "code",
   "execution_count": 5,
   "metadata": {
    "colab": {
     "base_uri": "https://localhost:8080/",
     "height": 136
    },
    "colab_type": "code",
    "executionInfo": {
     "elapsed": 638,
     "status": "ok",
     "timestamp": 1595231059482,
     "user": {
      "displayName": "Павел Ананьев",
      "photoUrl": "",
      "userId": "07746041064703407151"
     },
     "user_tz": 0
    },
    "id": "uFkxrVT28Pub",
    "outputId": "caf92d00-fc94-468f-9e23-95952100a8ce"
   },
   "outputs": [
    {
     "name": "stdout",
     "output_type": "stream",
     "text": [
      "<class 'pandas.core.frame.DataFrame'>\n",
      "Int64Index: 1021966 entries, 0 to 1021965\n",
      "Data columns (total 6 columns):\n",
      " #   Column      Non-Null Count    Dtype         \n",
      "---  ------      --------------    -----         \n",
      " 0   id          1021966 non-null  object        \n",
      " 1   user_id     1021966 non-null  float64       \n",
      " 2   venue_id    1021966 non-null  float64       \n",
      " 3   latitude    396634 non-null   float64       \n",
      " 4   longitude   396634 non-null   float64       \n",
      " 5   created_at  1021966 non-null  datetime64[ns]\n",
      "dtypes: datetime64[ns](1), float64(4), object(1)\n",
      "memory usage: 54.6+ MB\n"
     ]
    }
   ],
   "source": [
    "data.info()"
   ]
  },
  {
   "cell_type": "code",
   "execution_count": 6,
   "metadata": {
    "colab": {},
    "colab_type": "code",
    "executionInfo": {
     "elapsed": 1489,
     "status": "ok",
     "timestamp": 1595231618779,
     "user": {
      "displayName": "Павел Ананьев",
      "photoUrl": "",
      "userId": "07746041064703407151"
     },
     "user_tz": 0
    },
    "id": "V6PgSJcb8Pi_"
   },
   "outputs": [],
   "source": [
    "# Уберём строки с пропусками\n",
    "cleaned_data = data[~( (data['latitude'].isna()) | (data['longitude'].isna()) )] \\\n",
    "    .reset_index(drop=True) \\\n",
    "    .astype({'id': int, 'user_id': int, 'venue_id': int})"
   ]
  },
  {
   "cell_type": "code",
   "execution_count": 7,
   "metadata": {
    "colab": {
     "base_uri": "https://localhost:8080/",
     "height": 238
    },
    "colab_type": "code",
    "executionInfo": {
     "elapsed": 770,
     "status": "ok",
     "timestamp": 1595231824463,
     "user": {
      "displayName": "Павел Ананьев",
      "photoUrl": "",
      "userId": "07746041064703407151"
     },
     "user_tz": 0
    },
    "id": "yJU1l4mt8Pfv",
    "outputId": "c321573e-ef8b-41c4-a5d3-6a2e2a9d595b"
   },
   "outputs": [
    {
     "name": "stdout",
     "output_type": "stream",
     "text": [
      "<class 'pandas.core.frame.DataFrame'>\n",
      "RangeIndex: 396634 entries, 0 to 396633\n",
      "Data columns (total 6 columns):\n",
      " #   Column      Non-Null Count   Dtype         \n",
      "---  ------      --------------   -----         \n",
      " 0   id          396634 non-null  int64         \n",
      " 1   user_id     396634 non-null  int64         \n",
      " 2   venue_id    396634 non-null  int64         \n",
      " 3   latitude    396634 non-null  float64       \n",
      " 4   longitude   396634 non-null  float64       \n",
      " 5   created_at  396634 non-null  datetime64[ns]\n",
      "dtypes: datetime64[ns](1), float64(2), int64(3)\n",
      "memory usage: 18.2 MB\n"
     ]
    }
   ],
   "source": [
    "cleaned_data.info()"
   ]
  },
  {
   "cell_type": "code",
   "execution_count": 8,
   "metadata": {
    "colab": {},
    "colab_type": "code",
    "executionInfo": {
     "elapsed": 3737,
     "status": "ok",
     "timestamp": 1595231924284,
     "user": {
      "displayName": "Павел Ананьев",
      "photoUrl": "",
      "userId": "07746041064703407151"
     },
     "user_tz": 0
    },
    "id": "38Fekj2z8PbO"
   },
   "outputs": [],
   "source": [
    "# Сохраним на будущее в csv файл\n",
    "cleaned_data.to_csv(os.path.join(path_to_datasets, 'checkins.csv'))"
   ]
  },
  {
   "cell_type": "code",
   "execution_count": 9,
   "metadata": {
    "colab": {
     "base_uri": "https://localhost:8080/",
     "height": 238
    },
    "colab_type": "code",
    "executionInfo": {
     "elapsed": 703,
     "status": "ok",
     "timestamp": 1595232089459,
     "user": {
      "displayName": "Павел Ананьев",
      "photoUrl": "",
      "userId": "07746041064703407151"
     },
     "user_tz": 0
    },
    "id": "JghHqV3G8PSM",
    "outputId": "bdc9f5df-4a32-4474-e6fa-ea9477754751"
   },
   "outputs": [
    {
     "name": "stdout",
     "output_type": "stream",
     "text": [
      "<class 'pandas.core.frame.DataFrame'>\n",
      "RangeIndex: 100000 entries, 0 to 99999\n",
      "Data columns (total 6 columns):\n",
      " #   Column      Non-Null Count   Dtype         \n",
      "---  ------      --------------   -----         \n",
      " 0   id          100000 non-null  int64         \n",
      " 1   user_id     100000 non-null  int64         \n",
      " 2   venue_id    100000 non-null  int64         \n",
      " 3   latitude    100000 non-null  float64       \n",
      " 4   longitude   100000 non-null  float64       \n",
      " 5   created_at  100000 non-null  datetime64[ns]\n",
      "dtypes: datetime64[ns](1), float64(2), int64(3)\n",
      "memory usage: 4.6 MB\n"
     ]
    }
   ],
   "source": [
    "# Для экономии времени возьмём первые 100000 строк\n",
    "truncated_data = cleaned_data[:100000]\n",
    "truncated_data.info()"
   ]
  },
  {
   "cell_type": "markdown",
   "metadata": {},
   "source": [
    "Теперь необходимо кластеризовать данные координаты, чтобы выявить центры скоплений туристов. Поскольку баннеры имеют сравнительно небольшую площадь действия, нам нужен алгоритм, позволяющий ограничить размер кластера и не зависящий от количества кластеров.\n",
    "\n",
    "Эта задача — хороший повод познакомиться с алгоритмом MeanShift, который мы обошли стороной в основной части лекций. Его описание при желании можно посмотреть в sklearn user guide, а чуть позже появится дополнительное видео с обзором этого и некоторых других алгоритмов кластеризации. Используйте MeanShift, указав bandwidth=0.1, что в переводе из градусов в метры колеблется примерно от 5 до 10 км в средних широтах."
   ]
  },
  {
   "cell_type": "code",
   "execution_count": 10,
   "metadata": {
    "colab": {},
    "colab_type": "code",
    "executionInfo": {
     "elapsed": 577,
     "status": "ok",
     "timestamp": 1595234390626,
     "user": {
      "displayName": "Павел Ананьев",
      "photoUrl": "",
      "userId": "07746041064703407151"
     },
     "user_tz": 0
    },
    "id": "rd0751-YPk3E"
   },
   "outputs": [],
   "source": [
    "from sklearn.cluster import MeanShift"
   ]
  },
  {
   "cell_type": "code",
   "execution_count": 11,
   "metadata": {
    "colab": {
     "base_uri": "https://localhost:8080/",
     "height": 34
    },
    "colab_type": "code",
    "executionInfo": {
     "elapsed": 288515,
     "status": "ok",
     "timestamp": 1595234748279,
     "user": {
      "displayName": "Павел Ананьев",
      "photoUrl": "",
      "userId": "07746041064703407151"
     },
     "user_tz": 0
    },
    "id": "gz-l1zZ9Pkwd",
    "outputId": "bf5b84f3-dad6-4227-da33-93d79f2fce75"
   },
   "outputs": [
    {
     "name": "stdout",
     "output_type": "stream",
     "text": [
      "CPU times: user 2min 52s, sys: 1.1 s, total: 2min 53s\n",
      "Wall time: 2min 53s\n"
     ]
    },
    {
     "data": {
      "text/plain": [
       "array([ 5,  7, 30, ..., 25, 19,  4])"
      ]
     },
     "execution_count": 11,
     "metadata": {},
     "output_type": "execute_result"
    }
   ],
   "source": [
    "%%time\n",
    "ms = MeanShift(bandwidth=0.1)\n",
    "ms.fit_predict(truncated_data[['latitude', 'longitude']])"
   ]
  },
  {
   "cell_type": "code",
   "execution_count": 12,
   "metadata": {
    "colab": {
     "base_uri": "https://localhost:8080/",
     "height": 136
    },
    "colab_type": "code",
    "executionInfo": {
     "elapsed": 707,
     "status": "ok",
     "timestamp": 1595234842484,
     "user": {
      "displayName": "Павел Ананьев",
      "photoUrl": "",
      "userId": "07746041064703407151"
     },
     "user_tz": 0
    },
    "id": "NHIhIsEoPkmo",
    "outputId": "2eac2328-d11d-44ea-c8f1-bb25c58ab9c6"
   },
   "outputs": [
    {
     "name": "stdout",
     "output_type": "stream",
     "text": [
      "Первые 5 центров кластеров:\n",
      " [[  40.7177164   -73.99183542]\n",
      " [  33.44943805 -112.00213969]\n",
      " [  33.44638027 -111.90188756]\n",
      " [  41.87824378  -87.62984336]\n",
      " [  37.68868157 -122.40933037]]\n"
     ]
    }
   ],
   "source": [
    "print(f'Первые 5 центров кластеров:\\n {ms.cluster_centers_[:5]}')"
   ]
  },
  {
   "cell_type": "markdown",
   "metadata": {},
   "source": [
    "Некоторые из получившихся кластеров содержат слишком мало точек — такие кластеры не интересны рекламодателям. Поэтому надо определить, какие из кластеров содержат, скажем, больше 15 элементов. Центры этих кластеров и являются оптимальными для размещения."
   ]
  },
  {
   "cell_type": "code",
   "execution_count": 13,
   "metadata": {
    "colab": {
     "base_uri": "https://localhost:8080/",
     "height": 136
    },
    "colab_type": "code",
    "executionInfo": {
     "elapsed": 672,
     "status": "ok",
     "timestamp": 1595235114020,
     "user": {
      "displayName": "Павел Ананьев",
      "photoUrl": "",
      "userId": "07746041064703407151"
     },
     "user_tz": 0
    },
    "id": "RgWmrtVCPkjH",
    "outputId": "398b2e38-e2cb-40b3-ddaa-f8f6874b9fb3"
   },
   "outputs": [
    {
     "name": "stdout",
     "output_type": "stream",
     "text": [
      "Первые 5 центров кластеров, имеющих больше 15 элементов: [[  40.7177164   -73.99183542]\n",
      " [  33.44943805 -112.00213969]\n",
      " [  33.44638027 -111.90188756]\n",
      " [  41.87824378  -87.62984336]\n",
      " [  37.68868157 -122.40933037]]\n"
     ]
    }
   ],
   "source": [
    "ind, counts = np.unique(ms.labels_, return_counts=True)\n",
    "optimal_ind = ind[counts > 15]\n",
    "optimal_centers = ms.cluster_centers_[optimal_ind]\n",
    "print(f'Первые 5 центров кластеров, имеющих больше 15 элементов: {ms.cluster_centers_[:5]}')"
   ]
  },
  {
   "cell_type": "markdown",
   "metadata": {},
   "source": [
    "Как мы помним, 20 баннеров надо разместить близ офисов компании. Найдем на Google Maps по запросу Carnival Cruise Line адреса всех офисов:"
   ]
  },
  {
   "cell_type": "code",
   "execution_count": 14,
   "metadata": {
    "colab": {},
    "colab_type": "code",
    "executionInfo": {
     "elapsed": 587,
     "status": "ok",
     "timestamp": 1595236406476,
     "user": {
      "displayName": "Павел Ананьев",
      "photoUrl": "",
      "userId": "07746041064703407151"
     },
     "user_tz": 0
    },
    "id": "SHUNZrD4PkeF"
   },
   "outputs": [],
   "source": [
    "offices = np.array(\n",
    "    [[33.751277, -118.188740],\n",
    "    [25.867736, -80.324116],\n",
    "    [51.503016, -0.075479],\n",
    "    [52.378894, 4.885084],\n",
    "    [39.366487, 117.036146], \n",
    "    [-33.868457, 151.205134]])"
   ]
  },
  {
   "cell_type": "markdown",
   "metadata": {},
   "source": [
    "Осталось определить 20 ближайших к ним центров кластеров. Т.е. посчитать дистанцию до ближайшего офиса для каждой точки и выбрать 20 с наименьшим значением."
   ]
  },
  {
   "cell_type": "code",
   "execution_count": 15,
   "metadata": {
    "colab": {},
    "colab_type": "code",
    "executionInfo": {
     "elapsed": 509,
     "status": "ok",
     "timestamp": 1595236443509,
     "user": {
      "displayName": "Павел Ананьев",
      "photoUrl": "",
      "userId": "07746041064703407151"
     },
     "user_tz": 0
    },
    "id": "6RuOtKBjPkal"
   },
   "outputs": [],
   "source": [
    "from scipy.spatial.distance import cdist\n",
    "np.set_printoptions(suppress=True)"
   ]
  },
  {
   "cell_type": "code",
   "execution_count": 16,
   "metadata": {
    "colab": {},
    "colab_type": "code",
    "executionInfo": {
     "elapsed": 527,
     "status": "ok",
     "timestamp": 1595236536678,
     "user": {
      "displayName": "Павел Ананьев",
      "photoUrl": "",
      "userId": "07746041064703407151"
     },
     "user_tz": 0
    },
    "id": "nzuhgiRfPkVW"
   },
   "outputs": [
    {
     "name": "stdout",
     "output_type": "stream",
     "text": [
      "Координаты центров кластеров, наименее удалённых от местонахождения офисов:\n",
      "[[  25.78581242  -80.21793804]\n",
      " [  26.01009825  -80.19999059]\n",
      " [  25.70534972  -80.28342874]\n",
      " [  26.13884379  -80.33434684]\n",
      " [ -33.86063043  151.20477593]\n",
      " [  52.37296399    4.89231722]\n",
      " [  25.84567226  -80.3188906 ]\n",
      " [  33.87298601 -118.36209115]\n",
      " [  51.50299126   -0.12553729]\n",
      " [  33.98393587 -118.00740497]\n",
      " [  33.80987796 -118.14892381]\n",
      " [  33.97257482 -118.16837067]\n",
      " [  33.88832534 -118.04892817]\n",
      " [  26.12086266  -80.15890668]\n",
      " [  33.81730643 -117.89124917]\n",
      " [  34.06039755 -118.24870903]\n",
      " [  33.67430266 -117.85878927]\n",
      " [  26.20058464  -80.25071613]\n",
      " [  34.03548695 -118.43899772]\n",
      " [  34.13146015 -118.11801181]]\n"
     ]
    }
   ],
   "source": [
    "distances = cdist(offices, optimal_centers)\n",
    "twenty_dists = np.partition(distances.flatten(), 20)[:20]\n",
    "min_centers = np.array([np.where(distances == d)[1] for d in twenty_dists]).flatten()\n",
    "print(f'Координаты центров кластеров, наименее удалённых от местонахождения офисов:\\n{optimal_centers[min_centers]}')"
   ]
  },
  {
   "cell_type": "markdown",
   "metadata": {},
   "source": [
    "Для сдачи задания выберите из получившихся 20 центров тот, который наименее удален от ближайшего к нему офиса. Ответ в этом задании — широта и долгота этого центра, записанные через пробел."
   ]
  },
  {
   "cell_type": "code",
   "execution_count": 17,
   "metadata": {
    "colab": {},
    "colab_type": "code",
    "executionInfo": {
     "elapsed": 1052,
     "status": "ok",
     "timestamp": 1595237035310,
     "user": {
      "displayName": "Павел Ананьев",
      "photoUrl": "",
      "userId": "07746041064703407151"
     },
     "user_tz": 0
    },
    "id": "GiKYLFOKPkQr"
   },
   "outputs": [
    {
     "name": "stdout",
     "output_type": "stream",
     "text": [
      "Минимальное расстояние от центра кластера до одного из офисов: 0.0078\n",
      "Координаты этого центра: [-33.86063043 151.20477593]\n"
     ]
    }
   ],
   "source": [
    "min_dist = np.amin(distances)\n",
    "min_center_ind = np.unravel_index(np.argmin(distances), shape=distances.shape)[1]\n",
    "print(f'Минимальное расстояние от центра кластера до одного из офисов: {round(min_dist, 4)}')\n",
    "print(f'Координаты этого центра: {optimal_centers[min_center_ind]}')"
   ]
  }
 ],
 "metadata": {
  "colab": {
   "authorship_tag": "ABX9TyNisvKRIPELHVF/CQgsiapi",
   "collapsed_sections": [],
   "mount_file_id": "15iGsad3-H98ggVNwMYuW6Zn4t69kj-qT",
   "name": "banner_placement.ipynb",
   "provenance": []
  },
  "kernelspec": {
   "display_name": "Python 3",
   "language": "python",
   "name": "python3"
  },
  "language_info": {
   "codemirror_mode": {
    "name": "ipython",
    "version": 3
   },
   "file_extension": ".py",
   "mimetype": "text/x-python",
   "name": "python",
   "nbconvert_exporter": "python",
   "pygments_lexer": "ipython3",
   "version": "3.7.8"
  }
 },
 "nbformat": 4,
 "nbformat_minor": 4
}
