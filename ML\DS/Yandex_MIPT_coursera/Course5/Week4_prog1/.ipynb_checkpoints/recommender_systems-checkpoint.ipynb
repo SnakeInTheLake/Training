{
 "cells": [
  {
   "cell_type": "markdown",
   "metadata": {},
   "source": [
    "Описание задачи\n",
    "\n",
    "Небольшой интернет-магазин попросил вас добавить ранжирование товаров в блок \"Смотрели ранее\" - в нем теперь надо показывать не последние просмотренные пользователем товары, а те товары из просмотренных, которые он наиболее вероятно купит. Качество вашего решения будет оцениваться по количеству покупок в сравнении с прошлым решением в ходе А/В теста, т.к. по доходу от продаж статзначимость будет достигаться дольше из-за разброса цен. Таким образом, ничего заранее не зная про корреляцию оффлайновых и онлайновых метрик качества, в начале проекта вы можете лишь постараться оптимизировать recall@k и precision@k.\n",
    "\n",
    "Это задание посвящено построению простых бейзлайнов для этой задачи: ранжирование просмотренных товаров по частоте просмотров и по частоте покупок. Эти бейзлайны, с одной стороны, могут помочь вам грубо оценить возможный эффект от ранжирования товаров в блоке - например, чтобы вписать какие-то числа в коммерческое предложение заказчику, а с другой стороны, могут оказаться самым хорошим вариантом, если данных очень мало (недостаточно для обучения даже простых моделей).\n",
    "\n",
    "Входные данные\n",
    "\n",
    "Вам дается две выборки с пользовательскими сессиями - id-шниками просмотренных и id-шниками купленных товаров. Одна выборка будет использоваться для обучения (оценки популярностей товаров), а другая - для теста.\n",
    "\n",
    "В файлах записаны сессии по одной в каждой строке. Формат сессии: id просмотренных товаров через , затем идёт ; после чего следуют id купленных товаров (если такие имеются), разделённые запятой. Например, 1,2,3,4; или 1,2,3,4;5,6.\n",
    "\n",
    "Гарантируется, что среди id купленных товаров все различные.\n",
    "\n",
    "Важно:\n",
    "\n",
    "- Сессии, в которых пользователь ничего не купил, исключаем из оценки качества.\n",
    "-    Если товар не встречался в обучающей выборке, его популярность равна 0.\n",
    "-    Рекомендуем разные товары. И их число должно быть не больше, чем количество различных просмотренных пользователем товаров.\n",
    "-    Рекомендаций всегда не больше, чем минимум из двух чисел: количество просмотренных пользователем товаров и k в recall@k / precision@k.\n",
    "\n",
    "Задание\n",
    "\n",
    "1.    На обучении постройте частоты появления id в просмотренных и в купленных (id может несколько раз появляться в просмотренных, все появления надо учитывать)\n",
    "2. Реализуйте два алгоритма рекомендаций:\n",
    "\n",
    "- сортировка просмотренных id по популярности (частота появления в просмотренных),\n",
    "- сортировка просмотренных id по покупаемости (частота появления в покупках).\n",
    "\n",
    "3. Для данных алгоритмов выпишите через пробел AverageRecall@1, AveragePrecision@1, AverageRecall@5, AveragePrecision@5 на обучающей и тестовых выборках, округляя до 2 знака после запятой. Это будут ваши ответы в этом задании. Посмотрите, как они соотносятся друг с другом. Где качество получилось выше? Значимо ли это различие? Обратите внимание на различие качества на обучающей и тестовой выборке в случае рекомендаций по частотам покупки.\n",
    "\n",
    "Если частота одинаковая, то сортировать нужно по возрастанию момента просмотра (чем раньше появился в просмотренных, тем больше приоритет)"
   ]
  },
  {
   "cell_type": "code",
   "execution_count": 2,
   "metadata": {
    "colab": {},
    "colab_type": "code",
    "executionInfo": {
     "elapsed": 1536,
     "status": "ok",
     "timestamp": 1597125781042,
     "user": {
      "displayName": "Павел Ананьев",
      "photoUrl": "",
      "userId": "07746041064703407151"
     },
     "user_tz": -180
    },
    "id": "ZrL_B6X0Hum6"
   },
   "outputs": [],
   "source": [
    "import pandas as pd\n",
    "import numpy as np"
   ]
  },
  {
   "cell_type": "code",
   "execution_count": 3,
   "metadata": {
    "colab": {
     "base_uri": "https://localhost:8080/",
     "height": 204
    },
    "colab_type": "code",
    "executionInfo": {
     "elapsed": 1195,
     "status": "ok",
     "timestamp": 1597125781053,
     "user": {
      "displayName": "Павел Ананьев",
      "photoUrl": "",
      "userId": "07746041064703407151"
     },
     "user_tz": -180
    },
    "id": "GOsj9H3_HupL",
    "outputId": "ec2c1dc1-94eb-4f59-c365-a4f9dbd406c5"
   },
   "outputs": [
    {
     "data": {
      "text/html": [
       "<div>\n",
       "<style scoped>\n",
       "    .dataframe tbody tr th:only-of-type {\n",
       "        vertical-align: middle;\n",
       "    }\n",
       "\n",
       "    .dataframe tbody tr th {\n",
       "        vertical-align: top;\n",
       "    }\n",
       "\n",
       "    .dataframe thead th {\n",
       "        text-align: right;\n",
       "    }\n",
       "</style>\n",
       "<table border=\"1\" class=\"dataframe\">\n",
       "  <thead>\n",
       "    <tr style=\"text-align: right;\">\n",
       "      <th></th>\n",
       "      <th>watched</th>\n",
       "      <th>bought</th>\n",
       "    </tr>\n",
       "  </thead>\n",
       "  <tbody>\n",
       "    <tr>\n",
       "      <th>0</th>\n",
       "      <td>0,1,2,3,4,5</td>\n",
       "      <td>NaN</td>\n",
       "    </tr>\n",
       "    <tr>\n",
       "      <th>1</th>\n",
       "      <td>9,10,11,9,11,12,9,11</td>\n",
       "      <td>NaN</td>\n",
       "    </tr>\n",
       "    <tr>\n",
       "      <th>2</th>\n",
       "      <td>16,17,18,19,20,21</td>\n",
       "      <td>NaN</td>\n",
       "    </tr>\n",
       "    <tr>\n",
       "      <th>3</th>\n",
       "      <td>24,25,26,27,24</td>\n",
       "      <td>NaN</td>\n",
       "    </tr>\n",
       "    <tr>\n",
       "      <th>4</th>\n",
       "      <td>34,35,36,34,37,35,36,37,38,39,38,39</td>\n",
       "      <td>NaN</td>\n",
       "    </tr>\n",
       "  </tbody>\n",
       "</table>\n",
       "</div>"
      ],
      "text/plain": [
       "                               watched bought\n",
       "0                          0,1,2,3,4,5    NaN\n",
       "1                 9,10,11,9,11,12,9,11    NaN\n",
       "2                    16,17,18,19,20,21    NaN\n",
       "3                       24,25,26,27,24    NaN\n",
       "4  34,35,36,34,37,35,36,37,38,39,38,39    NaN"
      ]
     },
     "execution_count": 3,
     "metadata": {
      "tags": []
     },
     "output_type": "execute_result"
    }
   ],
   "source": [
    "train_data = pd.read_csv('train.txt', sep=';', header=None, names=['watched', 'bought'])\n",
    "test_data = pd.read_csv('test.txt', sep=';', header=None, names=['watched', 'bought'])\n",
    "train_data.head()"
   ]
  },
  {
   "cell_type": "code",
   "execution_count": 4,
   "metadata": {
    "colab": {
     "base_uri": "https://localhost:8080/",
     "height": 204
    },
    "colab_type": "code",
    "executionInfo": {
     "elapsed": 1824,
     "status": "ok",
     "timestamp": 1597125783114,
     "user": {
      "displayName": "Павел Ананьев",
      "photoUrl": "",
      "userId": "07746041064703407151"
     },
     "user_tz": -180
    },
    "id": "7QoRtnXxHurh",
    "outputId": "64f13cfc-c3b0-4669-90fc-0e468f08a525"
   },
   "outputs": [
    {
     "data": {
      "text/html": [
       "<div>\n",
       "<style scoped>\n",
       "    .dataframe tbody tr th:only-of-type {\n",
       "        vertical-align: middle;\n",
       "    }\n",
       "\n",
       "    .dataframe tbody tr th {\n",
       "        vertical-align: top;\n",
       "    }\n",
       "\n",
       "    .dataframe thead th {\n",
       "        text-align: right;\n",
       "    }\n",
       "</style>\n",
       "<table border=\"1\" class=\"dataframe\">\n",
       "  <thead>\n",
       "    <tr style=\"text-align: right;\">\n",
       "      <th></th>\n",
       "      <th>watched</th>\n",
       "      <th>bought</th>\n",
       "    </tr>\n",
       "  </thead>\n",
       "  <tbody>\n",
       "    <tr>\n",
       "      <th>0</th>\n",
       "      <td>6,7,8</td>\n",
       "      <td>NaN</td>\n",
       "    </tr>\n",
       "    <tr>\n",
       "      <th>1</th>\n",
       "      <td>13,14,15</td>\n",
       "      <td>NaN</td>\n",
       "    </tr>\n",
       "    <tr>\n",
       "      <th>2</th>\n",
       "      <td>22,23</td>\n",
       "      <td>NaN</td>\n",
       "    </tr>\n",
       "    <tr>\n",
       "      <th>3</th>\n",
       "      <td>28,29,30,31,32,33</td>\n",
       "      <td>NaN</td>\n",
       "    </tr>\n",
       "    <tr>\n",
       "      <th>4</th>\n",
       "      <td>40,41</td>\n",
       "      <td>NaN</td>\n",
       "    </tr>\n",
       "  </tbody>\n",
       "</table>\n",
       "</div>"
      ],
      "text/plain": [
       "             watched bought\n",
       "0              6,7,8    NaN\n",
       "1           13,14,15    NaN\n",
       "2              22,23    NaN\n",
       "3  28,29,30,31,32,33    NaN\n",
       "4              40,41    NaN"
      ]
     },
     "execution_count": 4,
     "metadata": {
      "tags": []
     },
     "output_type": "execute_result"
    }
   ],
   "source": [
    "test_data.head()"
   ]
  },
  {
   "cell_type": "code",
   "execution_count": 5,
   "metadata": {
    "colab": {},
    "colab_type": "code",
    "executionInfo": {
     "elapsed": 1454,
     "status": "ok",
     "timestamp": 1597125788930,
     "user": {
      "displayName": "Павел Ананьев",
      "photoUrl": "",
      "userId": "07746041064703407151"
     },
     "user_tz": -180
    },
    "id": "8fs_S4bbHutn"
   },
   "outputs": [],
   "source": [
    "from collections import Counter, OrderedDict"
   ]
  },
  {
   "cell_type": "code",
   "execution_count": 6,
   "metadata": {
    "colab": {
     "base_uri": "https://localhost:8080/",
     "height": 85
    },
    "colab_type": "code",
    "executionInfo": {
     "elapsed": 1194,
     "status": "ok",
     "timestamp": 1597125791081,
     "user": {
      "displayName": "Павел Ананьев",
      "photoUrl": "",
      "userId": "07746041064703407151"
     },
     "user_tz": -180
    },
    "id": "SeeHwVJ5Huvw",
    "outputId": "734d1aa0-3e5b-4f08-eb76-915ee1073757"
   },
   "outputs": [
    {
     "data": {
      "text/plain": [
       "array(['0,1,2,3,4,5', '9,10,11,9,11,12,9,11', '16,17,18,19,20,21', ...,\n",
       "       '980,20025,980,20025,980,20025,980,20025',\n",
       "       '8844,42500,8838,8172,29237,352,8847,6681,8827,8844',\n",
       "       '39047,102806,27774'], dtype=object)"
      ]
     },
     "execution_count": 6,
     "metadata": {
      "tags": []
     },
     "output_type": "execute_result"
    }
   ],
   "source": [
    "train_data.watched.values"
   ]
  },
  {
   "cell_type": "code",
   "execution_count": 10,
   "metadata": {
    "colab": {},
    "colab_type": "code",
    "executionInfo": {
     "elapsed": 643,
     "status": "ok",
     "timestamp": 1597126023792,
     "user": {
      "displayName": "Павел Ананьев",
      "photoUrl": "",
      "userId": "07746041064703407151"
     },
     "user_tz": -180
    },
    "id": "cQbffdR1Hux1"
   },
   "outputs": [],
   "source": [
    "w_ids = [list(map(int, x.split(','))) for x in train_data.watched.values]\n",
    "b_ids = [list(map(int, x.split(','))) for x in train_data.bought[~train_data.bought.isna()].values]"
   ]
  },
  {
   "cell_type": "code",
   "execution_count": 12,
   "metadata": {
    "colab": {},
    "colab_type": "code",
    "executionInfo": {
     "elapsed": 1195,
     "status": "ok",
     "timestamp": 1597126112526,
     "user": {
      "displayName": "Павел Ананьев",
      "photoUrl": "",
      "userId": "07746041064703407151"
     },
     "user_tz": -180
    },
    "id": "uZsMJfwglBei"
   },
   "outputs": [],
   "source": [
    "w_count = Counter()\n",
    "for x in w_ids:\n",
    "    w_count.update(x)"
   ]
  },
  {
   "cell_type": "code",
   "execution_count": 13,
   "metadata": {
    "colab": {},
    "colab_type": "code",
    "executionInfo": {
     "elapsed": 739,
     "status": "ok",
     "timestamp": 1597126112529,
     "user": {
      "displayName": "Павел Ананьев",
      "photoUrl": "",
      "userId": "07746041064703407151"
     },
     "user_tz": -180
    },
    "id": "BqjsepZElBcF"
   },
   "outputs": [],
   "source": [
    "b_count = Counter()\n",
    "for x in b_ids:\n",
    "    b_count.update(x)"
   ]
  },
  {
   "cell_type": "code",
   "execution_count": 33,
   "metadata": {
    "colab": {},
    "colab_type": "code",
    "executionInfo": {
     "elapsed": 558,
     "status": "ok",
     "timestamp": 1597127188938,
     "user": {
      "displayName": "Павел Ананьев",
      "photoUrl": "",
      "userId": "07746041064703407151"
     },
     "user_tz": -180
    },
    "id": "5FsQV6RLHu6T"
   },
   "outputs": [],
   "source": [
    "train = train_data.dropna()\n",
    "test = test_data.dropna()"
   ]
  },
  {
   "cell_type": "code",
   "execution_count": 40,
   "metadata": {
    "colab": {},
    "colab_type": "code",
    "executionInfo": {
     "elapsed": 998,
     "status": "ok",
     "timestamp": 1597127392981,
     "user": {
      "displayName": "Павел Ананьев",
      "photoUrl": "",
      "userId": "07746041064703407151"
     },
     "user_tz": -180
    },
    "id": "PsqyL-CDMvqt"
   },
   "outputs": [],
   "source": [
    "train = train.applymap(lambda x: list(map(int, x.split(','))))\n",
    "test = test.applymap(lambda x: list(map(int, x.split(','))))"
   ]
  },
  {
   "cell_type": "code",
   "execution_count": 44,
   "metadata": {
    "colab": {},
    "colab_type": "code",
    "executionInfo": {
     "elapsed": 628,
     "status": "ok",
     "timestamp": 1597127593205,
     "user": {
      "displayName": "Павел Ананьев",
      "photoUrl": "",
      "userId": "07746041064703407151"
     },
     "user_tz": -180
    },
    "id": "pX6V6BvzNiVF"
   },
   "outputs": [],
   "source": [
    "def sort_by_freq(lst, counts):\n",
    "    return sorted(list(OrderedDict.fromkeys(lst)), key=lambda x: counts[x], reverse=True)"
   ]
  },
  {
   "cell_type": "code",
   "execution_count": 49,
   "metadata": {
    "colab": {},
    "colab_type": "code",
    "executionInfo": {
     "elapsed": 976,
     "status": "ok",
     "timestamp": 1597127804648,
     "user": {
      "displayName": "Павел Ананьев",
      "photoUrl": "",
      "userId": "07746041064703407151"
     },
     "user_tz": -180
    },
    "id": "uNGh60AGOCO2"
   },
   "outputs": [],
   "source": [
    "train['watched_sorted'] = train.watched.apply(lambda x: sort_by_freq(x, w_count))\n",
    "train['watched_sorted_by_bought'] = train.watched.apply(lambda x: sort_by_freq(x, b_count))"
   ]
  },
  {
   "cell_type": "code",
   "execution_count": 58,
   "metadata": {
    "colab": {},
    "colab_type": "code",
    "executionInfo": {
     "elapsed": 1194,
     "status": "ok",
     "timestamp": 1597128736484,
     "user": {
      "displayName": "Павел Ананьев",
      "photoUrl": "",
      "userId": "07746041064703407151"
     },
     "user_tz": 0
    },
    "id": "z_-MVtd9PE5t"
   },
   "outputs": [],
   "source": [
    "train_by_watched_inter5 = train.loc[:, ['watched_sorted', 'bought']].apply(lambda x: set(x.watched_sorted[:5]) & set(x.bought), axis=1)\n",
    "train_by_watched_inter1 = train.loc[:, ['watched_sorted', 'bought']].apply(lambda x: set(x.watched_sorted[:1]) & set(x.bought), axis=1)\n",
    "\n",
    "train_by_bought_inter5 = train.loc[:, ['watched_sorted_by_bought', 'bought']].apply(lambda x: set(x.watched_sorted_by_bought[:5]) & set(x.bought), axis=1)\n",
    "train_by_bought_inter1 = train.loc[:, ['watched_sorted_by_bought', 'bought']].apply(lambda x: set(x.watched_sorted_by_bought[:1]) & set(x.bought), axis=1)"
   ]
  },
  {
   "cell_type": "code",
   "execution_count": 56,
   "metadata": {
    "colab": {
     "base_uri": "https://localhost:8080/",
     "height": 419
    },
    "colab_type": "code",
    "executionInfo": {
     "elapsed": 1218,
     "status": "ok",
     "timestamp": 1597128271119,
     "user": {
      "displayName": "Павел Ананьев",
      "photoUrl": "",
      "userId": "07746041064703407151"
     },
     "user_tz": 0
    },
    "id": "9qkrAihTOyEP",
    "outputId": "546a302b-5492-4c48-af38-6d3e8a627d34"
   },
   "outputs": [
    {
     "data": {
      "text/html": [
       "<div>\n",
       "<style scoped>\n",
       "    .dataframe tbody tr th:only-of-type {\n",
       "        vertical-align: middle;\n",
       "    }\n",
       "\n",
       "    .dataframe tbody tr th {\n",
       "        vertical-align: top;\n",
       "    }\n",
       "\n",
       "    .dataframe thead th {\n",
       "        text-align: right;\n",
       "    }\n",
       "</style>\n",
       "<table border=\"1\" class=\"dataframe\">\n",
       "  <thead>\n",
       "    <tr style=\"text-align: right;\">\n",
       "      <th></th>\n",
       "      <th>watched</th>\n",
       "      <th>bought</th>\n",
       "      <th>watched_sorted</th>\n",
       "      <th>watched_sorted_by_bought</th>\n",
       "    </tr>\n",
       "  </thead>\n",
       "  <tbody>\n",
       "    <tr>\n",
       "      <th>7</th>\n",
       "      <td>[59, 60, 61, 62, 60, 63, 64, 65, 66, 61, 67, 6...</td>\n",
       "      <td>[67, 60, 63]</td>\n",
       "      <td>[63, 64, 60, 61, 65, 66, 67, 68, 59, 62]</td>\n",
       "      <td>[60, 63, 67, 59, 61, 62, 64, 65, 66, 68]</td>\n",
       "    </tr>\n",
       "    <tr>\n",
       "      <th>10</th>\n",
       "      <td>[84, 85, 86, 87, 88, 89, 84, 90, 91, 92, 93, 86]</td>\n",
       "      <td>[86]</td>\n",
       "      <td>[85, 93, 89, 90, 84, 92, 86, 87, 91, 88]</td>\n",
       "      <td>[86, 85, 93, 84, 87, 88, 89, 90, 91, 92]</td>\n",
       "    </tr>\n",
       "    <tr>\n",
       "      <th>19</th>\n",
       "      <td>[138, 198, 199, 127]</td>\n",
       "      <td>[199]</td>\n",
       "      <td>[127, 138, 198, 199]</td>\n",
       "      <td>[138, 199, 127, 198]</td>\n",
       "    </tr>\n",
       "    <tr>\n",
       "      <th>30</th>\n",
       "      <td>[303, 304, 305, 306, 307, 308, 309, 310, 311, ...</td>\n",
       "      <td>[303]</td>\n",
       "      <td>[303, 306, 304, 307, 309, 310, 305, 308, 311, ...</td>\n",
       "      <td>[303, 304, 305, 306, 307, 308, 309, 310, 311, ...</td>\n",
       "    </tr>\n",
       "    <tr>\n",
       "      <th>33</th>\n",
       "      <td>[352, 353, 352]</td>\n",
       "      <td>[352]</td>\n",
       "      <td>[352, 353]</td>\n",
       "      <td>[352, 353]</td>\n",
       "    </tr>\n",
       "    <tr>\n",
       "      <th>...</th>\n",
       "      <td>...</td>\n",
       "      <td>...</td>\n",
       "      <td>...</td>\n",
       "      <td>...</td>\n",
       "    </tr>\n",
       "    <tr>\n",
       "      <th>49943</th>\n",
       "      <td>[41795, 4337, 4335, 4337, 4335, 24087, 4335, 4...</td>\n",
       "      <td>[4335]</td>\n",
       "      <td>[4335, 4337, 24073, 41795, 57885, 24087, 4344,...</td>\n",
       "      <td>[4335, 41795, 4337, 24087, 24073, 4344, 57885,...</td>\n",
       "    </tr>\n",
       "    <tr>\n",
       "      <th>49964</th>\n",
       "      <td>[6366, 15269, 6366, 5895, 6366, 5895]</td>\n",
       "      <td>[5895]</td>\n",
       "      <td>[5895, 6366, 15269]</td>\n",
       "      <td>[5895, 6366, 15269]</td>\n",
       "    </tr>\n",
       "    <tr>\n",
       "      <th>49981</th>\n",
       "      <td>[64552, 25931, 2807]</td>\n",
       "      <td>[25935, 2807]</td>\n",
       "      <td>[2807, 25931, 64552]</td>\n",
       "      <td>[2807, 64552, 25931]</td>\n",
       "    </tr>\n",
       "    <tr>\n",
       "      <th>49991</th>\n",
       "      <td>[91921, 20251, 5063, 21742, 5063, 20251, 34927]</td>\n",
       "      <td>[91921]</td>\n",
       "      <td>[5063, 21742, 20251, 91921, 34927]</td>\n",
       "      <td>[91921, 5063, 20251, 21742, 34927]</td>\n",
       "    </tr>\n",
       "    <tr>\n",
       "      <th>49995</th>\n",
       "      <td>[32291, 60520, 32291, 38220]</td>\n",
       "      <td>[32291]</td>\n",
       "      <td>[32291, 38220, 60520]</td>\n",
       "      <td>[32291, 60520, 38220]</td>\n",
       "    </tr>\n",
       "  </tbody>\n",
       "</table>\n",
       "<p>3608 rows × 4 columns</p>\n",
       "</div>"
      ],
      "text/plain": [
       "                                                 watched  ...                           watched_sorted_by_bought\n",
       "7      [59, 60, 61, 62, 60, 63, 64, 65, 66, 61, 67, 6...  ...           [60, 63, 67, 59, 61, 62, 64, 65, 66, 68]\n",
       "10      [84, 85, 86, 87, 88, 89, 84, 90, 91, 92, 93, 86]  ...           [86, 85, 93, 84, 87, 88, 89, 90, 91, 92]\n",
       "19                                  [138, 198, 199, 127]  ...                               [138, 199, 127, 198]\n",
       "30     [303, 304, 305, 306, 307, 308, 309, 310, 311, ...  ...  [303, 304, 305, 306, 307, 308, 309, 310, 311, ...\n",
       "33                                       [352, 353, 352]  ...                                         [352, 353]\n",
       "...                                                  ...  ...                                                ...\n",
       "49943  [41795, 4337, 4335, 4337, 4335, 24087, 4335, 4...  ...  [4335, 41795, 4337, 24087, 24073, 4344, 57885,...\n",
       "49964              [6366, 15269, 6366, 5895, 6366, 5895]  ...                                [5895, 6366, 15269]\n",
       "49981                               [64552, 25931, 2807]  ...                               [2807, 64552, 25931]\n",
       "49991    [91921, 20251, 5063, 21742, 5063, 20251, 34927]  ...                 [91921, 5063, 20251, 21742, 34927]\n",
       "49995                       [32291, 60520, 32291, 38220]  ...                              [32291, 60520, 38220]\n",
       "\n",
       "[3608 rows x 4 columns]"
      ]
     },
     "execution_count": 56,
     "metadata": {
      "tags": []
     },
     "output_type": "execute_result"
    }
   ],
   "source": [
    "train"
   ]
  },
  {
   "cell_type": "code",
   "execution_count": 64,
   "metadata": {
    "colab": {},
    "colab_type": "code",
    "executionInfo": {
     "elapsed": 1063,
     "status": "ok",
     "timestamp": 1597129033081,
     "user": {
      "displayName": "Павел Ананьев",
      "photoUrl": "",
      "userId": "07746041064703407151"
     },
     "user_tz": 0
    },
    "id": "xLa3Iu_DZsyr"
   },
   "outputs": [],
   "source": [
    "def avrecall(intersected, bought):\n",
    "    return (intersected.apply(len) / bought.apply(len)).mean()"
   ]
  },
  {
   "cell_type": "code",
   "execution_count": 66,
   "metadata": {
    "colab": {},
    "colab_type": "code",
    "executionInfo": {
     "elapsed": 964,
     "status": "ok",
     "timestamp": 1597129243921,
     "user": {
      "displayName": "Павел Ананьев",
      "photoUrl": "",
      "userId": "07746041064703407151"
     },
     "user_tz": 0
    },
    "id": "k7Ks9t7KZsw_"
   },
   "outputs": [],
   "source": [
    "def avprecision(intersected, n):\n",
    "    return (intersected.apply(len) / n).mean() "
   ]
  },
  {
   "cell_type": "code",
   "execution_count": 67,
   "metadata": {
    "colab": {
     "base_uri": "https://localhost:8080/",
     "height": 102
    },
    "colab_type": "code",
    "executionInfo": {
     "elapsed": 1277,
     "status": "ok",
     "timestamp": 1597129272417,
     "user": {
      "displayName": "Павел Ананьев",
      "photoUrl": "",
      "userId": "07746041064703407151"
     },
     "user_tz": 0
    },
    "id": "u_bE0Eapd3Jw",
    "outputId": "10d5eae3-c924-47f5-9ebc-ae7353251a6b"
   },
   "outputs": [
    {
     "name": "stdout",
     "output_type": "stream",
     "text": [
      "Train results sorted by watched:\n",
      "0.4426343165949593\n",
      "0.5121951219512195\n",
      "0.8246918247126122\n",
      "0.21252771618625918\n"
     ]
    }
   ],
   "source": [
    "print('Train results sorted by watched:')\n",
    "print(avrecall(train_by_watched_inter1, train.bought))\n",
    "print(avprecision(train_by_watched_inter1, 1))\n",
    "print(avrecall(train_by_watched_inter5, train.bought))\n",
    "print(avprecision(train_by_watched_inter5, 5))"
   ]
  },
  {
   "cell_type": "code",
   "execution_count": 76,
   "metadata": {
    "colab": {
     "base_uri": "https://localhost:8080/",
     "height": 102
    },
    "colab_type": "code",
    "executionInfo": {
     "elapsed": 555,
     "status": "ok",
     "timestamp": 1597129601909,
     "user": {
      "displayName": "Павел Ананьев",
      "photoUrl": "",
      "userId": "07746041064703407151"
     },
     "user_tz": 0
    },
    "id": "DXqFwXP_ZsqK",
    "outputId": "26c1feb0-44c9-4b36-f737-ba01bd3e8eaf"
   },
   "outputs": [
    {
     "name": "stdout",
     "output_type": "stream",
     "text": [
      "Train results sorted by bought:\n",
      "0.6884494924267653\n",
      "0.8037694013303769\n",
      "0.9263073024228787\n",
      "0.2525498891352649\n"
     ]
    }
   ],
   "source": [
    "print('Train results sorted by bought:')\n",
    "print(avrecall(train_by_bought_inter1, train.bought))\n",
    "print(avprecision(train_by_bought_inter1, 1))\n",
    "print(avrecall(train_by_bought_inter5, train.bought))\n",
    "print(avprecision(train_by_bought_inter5, 5))"
   ]
  },
  {
   "cell_type": "code",
   "execution_count": 77,
   "metadata": {
    "colab": {
     "base_uri": "https://localhost:8080/",
     "height": 419
    },
    "colab_type": "code",
    "executionInfo": {
     "elapsed": 678,
     "status": "ok",
     "timestamp": 1597129683837,
     "user": {
      "displayName": "Павел Ананьев",
      "photoUrl": "",
      "userId": "07746041064703407151"
     },
     "user_tz": 0
    },
    "id": "_JfLkpS1Zsnu",
    "outputId": "3bd50015-1097-4cc1-afba-dccad51edab6"
   },
   "outputs": [
    {
     "data": {
      "text/html": [
       "<div>\n",
       "<style scoped>\n",
       "    .dataframe tbody tr th:only-of-type {\n",
       "        vertical-align: middle;\n",
       "    }\n",
       "\n",
       "    .dataframe tbody tr th {\n",
       "        vertical-align: top;\n",
       "    }\n",
       "\n",
       "    .dataframe thead th {\n",
       "        text-align: right;\n",
       "    }\n",
       "</style>\n",
       "<table border=\"1\" class=\"dataframe\">\n",
       "  <thead>\n",
       "    <tr style=\"text-align: right;\">\n",
       "      <th></th>\n",
       "      <th>watched</th>\n",
       "      <th>bought</th>\n",
       "    </tr>\n",
       "  </thead>\n",
       "  <tbody>\n",
       "    <tr>\n",
       "      <th>7</th>\n",
       "      <td>[63, 68, 69, 70, 66, 61, 59, 61, 66, 68]</td>\n",
       "      <td>[66, 63]</td>\n",
       "    </tr>\n",
       "    <tr>\n",
       "      <th>14</th>\n",
       "      <td>[158, 159, 160, 159, 161, 162]</td>\n",
       "      <td>[162]</td>\n",
       "    </tr>\n",
       "    <tr>\n",
       "      <th>19</th>\n",
       "      <td>[200, 201, 202, 203, 204]</td>\n",
       "      <td>[201, 205]</td>\n",
       "    </tr>\n",
       "    <tr>\n",
       "      <th>34</th>\n",
       "      <td>[371, 372, 371]</td>\n",
       "      <td>[371, 373]</td>\n",
       "    </tr>\n",
       "    <tr>\n",
       "      <th>40</th>\n",
       "      <td>[422]</td>\n",
       "      <td>[422]</td>\n",
       "    </tr>\n",
       "    <tr>\n",
       "      <th>...</th>\n",
       "      <td>...</td>\n",
       "      <td>...</td>\n",
       "    </tr>\n",
       "    <tr>\n",
       "      <th>49943</th>\n",
       "      <td>[2859, 2854, 88887, 96997, 4439, 28645, 99975,...</td>\n",
       "      <td>[24907, 102691, 18496, 4333]</td>\n",
       "    </tr>\n",
       "    <tr>\n",
       "      <th>49944</th>\n",
       "      <td>[77655, 23249, 1306, 47450, 26157, 58205, 4745...</td>\n",
       "      <td>[58205, 3111, 69482]</td>\n",
       "    </tr>\n",
       "    <tr>\n",
       "      <th>49945</th>\n",
       "      <td>[60538, 44430, 66252, 44430, 60538, 66251]</td>\n",
       "      <td>[66252, 44430]</td>\n",
       "    </tr>\n",
       "    <tr>\n",
       "      <th>49946</th>\n",
       "      <td>[49815, 76363]</td>\n",
       "      <td>[49815]</td>\n",
       "    </tr>\n",
       "    <tr>\n",
       "      <th>49985</th>\n",
       "      <td>[21841, 17711, 21841, 17711, 21841, 17711, 218...</td>\n",
       "      <td>[21841]</td>\n",
       "    </tr>\n",
       "  </tbody>\n",
       "</table>\n",
       "<p>3665 rows × 2 columns</p>\n",
       "</div>"
      ],
      "text/plain": [
       "                                                 watched                        bought\n",
       "7               [63, 68, 69, 70, 66, 61, 59, 61, 66, 68]                      [66, 63]\n",
       "14                        [158, 159, 160, 159, 161, 162]                         [162]\n",
       "19                             [200, 201, 202, 203, 204]                    [201, 205]\n",
       "34                                       [371, 372, 371]                    [371, 373]\n",
       "40                                                 [422]                         [422]\n",
       "...                                                  ...                           ...\n",
       "49943  [2859, 2854, 88887, 96997, 4439, 28645, 99975,...  [24907, 102691, 18496, 4333]\n",
       "49944  [77655, 23249, 1306, 47450, 26157, 58205, 4745...          [58205, 3111, 69482]\n",
       "49945         [60538, 44430, 66252, 44430, 60538, 66251]                [66252, 44430]\n",
       "49946                                     [49815, 76363]                       [49815]\n",
       "49985  [21841, 17711, 21841, 17711, 21841, 17711, 218...                       [21841]\n",
       "\n",
       "[3665 rows x 2 columns]"
      ]
     },
     "execution_count": 77,
     "metadata": {
      "tags": []
     },
     "output_type": "execute_result"
    }
   ],
   "source": [
    "test"
   ]
  },
  {
   "cell_type": "code",
   "execution_count": 80,
   "metadata": {
    "colab": {},
    "colab_type": "code",
    "executionInfo": {
     "elapsed": 575,
     "status": "ok",
     "timestamp": 1597129759270,
     "user": {
      "displayName": "Павел Ананьев",
      "photoUrl": "",
      "userId": "07746041064703407151"
     },
     "user_tz": 0
    },
    "id": "Cmn5e4NOZslN"
   },
   "outputs": [],
   "source": [
    "test['watched_sorted'] = test.watched.apply(lambda x: sort_by_freq(x, w_count))\n",
    "test['watched_sorted_by_bought'] = test.watched.apply(lambda x: sort_by_freq(x, b_count))"
   ]
  },
  {
   "cell_type": "code",
   "execution_count": 81,
   "metadata": {
    "colab": {
     "base_uri": "https://localhost:8080/",
     "height": 419
    },
    "colab_type": "code",
    "executionInfo": {
     "elapsed": 557,
     "status": "ok",
     "timestamp": 1597129762355,
     "user": {
      "displayName": "Павел Ананьев",
      "photoUrl": "",
      "userId": "07746041064703407151"
     },
     "user_tz": 0
    },
    "id": "BHG4RRtNZsjH",
    "outputId": "fff6eaa2-4212-432c-e43a-ba2df3877f05"
   },
   "outputs": [
    {
     "data": {
      "text/html": [
       "<div>\n",
       "<style scoped>\n",
       "    .dataframe tbody tr th:only-of-type {\n",
       "        vertical-align: middle;\n",
       "    }\n",
       "\n",
       "    .dataframe tbody tr th {\n",
       "        vertical-align: top;\n",
       "    }\n",
       "\n",
       "    .dataframe thead th {\n",
       "        text-align: right;\n",
       "    }\n",
       "</style>\n",
       "<table border=\"1\" class=\"dataframe\">\n",
       "  <thead>\n",
       "    <tr style=\"text-align: right;\">\n",
       "      <th></th>\n",
       "      <th>watched</th>\n",
       "      <th>bought</th>\n",
       "      <th>watched_sorted</th>\n",
       "      <th>watched_sorted_by_bought</th>\n",
       "    </tr>\n",
       "  </thead>\n",
       "  <tbody>\n",
       "    <tr>\n",
       "      <th>7</th>\n",
       "      <td>[63, 68, 69, 70, 66, 61, 59, 61, 66, 68]</td>\n",
       "      <td>[66, 63]</td>\n",
       "      <td>[63, 68, 66, 61, 59, 69, 70]</td>\n",
       "      <td>[63, 68, 69, 70, 66, 61, 59]</td>\n",
       "    </tr>\n",
       "    <tr>\n",
       "      <th>14</th>\n",
       "      <td>[158, 159, 160, 159, 161, 162]</td>\n",
       "      <td>[162]</td>\n",
       "      <td>[158, 162, 160, 159, 161]</td>\n",
       "      <td>[158, 162, 160, 159, 161]</td>\n",
       "    </tr>\n",
       "    <tr>\n",
       "      <th>19</th>\n",
       "      <td>[200, 201, 202, 203, 204]</td>\n",
       "      <td>[201, 205]</td>\n",
       "      <td>[204, 202, 203, 200, 201]</td>\n",
       "      <td>[204, 202, 200, 201, 203]</td>\n",
       "    </tr>\n",
       "    <tr>\n",
       "      <th>34</th>\n",
       "      <td>[371, 372, 371]</td>\n",
       "      <td>[371, 373]</td>\n",
       "      <td>[371, 372]</td>\n",
       "      <td>[371, 372]</td>\n",
       "    </tr>\n",
       "    <tr>\n",
       "      <th>40</th>\n",
       "      <td>[422]</td>\n",
       "      <td>[422]</td>\n",
       "      <td>[422]</td>\n",
       "      <td>[422]</td>\n",
       "    </tr>\n",
       "    <tr>\n",
       "      <th>...</th>\n",
       "      <td>...</td>\n",
       "      <td>...</td>\n",
       "      <td>...</td>\n",
       "      <td>...</td>\n",
       "    </tr>\n",
       "    <tr>\n",
       "      <th>49943</th>\n",
       "      <td>[2859, 2854, 88887, 96997, 4439, 28645, 99975,...</td>\n",
       "      <td>[24907, 102691, 18496, 4333]</td>\n",
       "      <td>[4335, 4333, 24907, 606, 2854, 4439, 96997, 34...</td>\n",
       "      <td>[4335, 4333, 606, 2859, 2854, 88887, 96997, 44...</td>\n",
       "    </tr>\n",
       "    <tr>\n",
       "      <th>49944</th>\n",
       "      <td>[77655, 23249, 1306, 47450, 26157, 58205, 4745...</td>\n",
       "      <td>[58205, 3111, 69482]</td>\n",
       "      <td>[1262, 16237, 7318, 1261, 1306, 3111, 26157, 4...</td>\n",
       "      <td>[1262, 1306, 13520, 77655, 23249, 47450, 26157...</td>\n",
       "    </tr>\n",
       "    <tr>\n",
       "      <th>49945</th>\n",
       "      <td>[60538, 44430, 66252, 44430, 60538, 66251]</td>\n",
       "      <td>[66252, 44430]</td>\n",
       "      <td>[60538, 44430, 66252, 66251]</td>\n",
       "      <td>[60538, 44430, 66252, 66251]</td>\n",
       "    </tr>\n",
       "    <tr>\n",
       "      <th>49946</th>\n",
       "      <td>[49815, 76363]</td>\n",
       "      <td>[49815]</td>\n",
       "      <td>[49815, 76363]</td>\n",
       "      <td>[49815, 76363]</td>\n",
       "    </tr>\n",
       "    <tr>\n",
       "      <th>49985</th>\n",
       "      <td>[21841, 17711, 21841, 17711, 21841, 17711, 218...</td>\n",
       "      <td>[21841]</td>\n",
       "      <td>[17711, 21841, 22562]</td>\n",
       "      <td>[21841, 17711, 22562]</td>\n",
       "    </tr>\n",
       "  </tbody>\n",
       "</table>\n",
       "<p>3665 rows × 4 columns</p>\n",
       "</div>"
      ],
      "text/plain": [
       "                                                 watched  ...                           watched_sorted_by_bought\n",
       "7               [63, 68, 69, 70, 66, 61, 59, 61, 66, 68]  ...                       [63, 68, 69, 70, 66, 61, 59]\n",
       "14                        [158, 159, 160, 159, 161, 162]  ...                          [158, 162, 160, 159, 161]\n",
       "19                             [200, 201, 202, 203, 204]  ...                          [204, 202, 200, 201, 203]\n",
       "34                                       [371, 372, 371]  ...                                         [371, 372]\n",
       "40                                                 [422]  ...                                              [422]\n",
       "...                                                  ...  ...                                                ...\n",
       "49943  [2859, 2854, 88887, 96997, 4439, 28645, 99975,...  ...  [4335, 4333, 606, 2859, 2854, 88887, 96997, 44...\n",
       "49944  [77655, 23249, 1306, 47450, 26157, 58205, 4745...  ...  [1262, 1306, 13520, 77655, 23249, 47450, 26157...\n",
       "49945         [60538, 44430, 66252, 44430, 60538, 66251]  ...                       [60538, 44430, 66252, 66251]\n",
       "49946                                     [49815, 76363]  ...                                     [49815, 76363]\n",
       "49985  [21841, 17711, 21841, 17711, 21841, 17711, 218...  ...                              [21841, 17711, 22562]\n",
       "\n",
       "[3665 rows x 4 columns]"
      ]
     },
     "execution_count": 81,
     "metadata": {
      "tags": []
     },
     "output_type": "execute_result"
    }
   ],
   "source": [
    "test"
   ]
  },
  {
   "cell_type": "code",
   "execution_count": 82,
   "metadata": {
    "colab": {},
    "colab_type": "code",
    "executionInfo": {
     "elapsed": 1194,
     "status": "ok",
     "timestamp": 1597129855160,
     "user": {
      "displayName": "Павел Ананьев",
      "photoUrl": "",
      "userId": "07746041064703407151"
     },
     "user_tz": 0
    },
    "id": "yIWoWMuoZsgI"
   },
   "outputs": [],
   "source": [
    "test_by_watched_inter5 = test.loc[:, ['watched_sorted', 'bought']].apply(lambda x: set(x.watched_sorted[:5]) & set(x.bought), axis=1)\n",
    "test_by_watched_inter1 = test.loc[:, ['watched_sorted', 'bought']].apply(lambda x: set(x.watched_sorted[:1]) & set(x.bought), axis=1)\n",
    "\n",
    "test_by_bought_inter5 = test.loc[:, ['watched_sorted_by_bought', 'bought']].apply(lambda x: set(x.watched_sorted_by_bought[:5]) & set(x.bought), axis=1)\n",
    "test_by_bought_inter1 = test.loc[:, ['watched_sorted_by_bought', 'bought']].apply(lambda x: set(x.watched_sorted_by_bought[:1]) & set(x.bought), axis=1)"
   ]
  },
  {
   "cell_type": "code",
   "execution_count": 83,
   "metadata": {
    "colab": {
     "base_uri": "https://localhost:8080/",
     "height": 102
    },
    "colab_type": "code",
    "executionInfo": {
     "elapsed": 577,
     "status": "ok",
     "timestamp": 1597129902308,
     "user": {
      "displayName": "Павел Ананьев",
      "photoUrl": "",
      "userId": "07746041064703407151"
     },
     "user_tz": 0
    },
    "id": "JEcI1sGZZsYH",
    "outputId": "c3e94094-504c-4cb9-b420-4a12316c199d"
   },
   "outputs": [
    {
     "name": "stdout",
     "output_type": "stream",
     "text": [
      "Test results sorted by watched:\n",
      "0.41733266203252534\n",
      "0.48130968622100956\n",
      "0.8000340663538579\n",
      "0.2037653478854079\n"
     ]
    }
   ],
   "source": [
    "print('Test results sorted by watched:')\n",
    "print(avrecall(test_by_watched_inter1, test.bought))\n",
    "print(avprecision(test_by_watched_inter1, 1))\n",
    "print(avrecall(test_by_watched_inter5, test.bought))\n",
    "print(avprecision(test_by_watched_inter5, 5))"
   ]
  },
  {
   "cell_type": "code",
   "execution_count": 84,
   "metadata": {
    "colab": {
     "base_uri": "https://localhost:8080/",
     "height": 102
    },
    "colab_type": "code",
    "executionInfo": {
     "elapsed": 975,
     "status": "ok",
     "timestamp": 1597129967225,
     "user": {
      "displayName": "Павел Ананьев",
      "photoUrl": "",
      "userId": "07746041064703407151"
     },
     "user_tz": 0
    },
    "id": "GE5marW9W6V5",
    "outputId": "e62572b3-a5f9-4c6d-9587-a71fb80c47a4"
   },
   "outputs": [
    {
     "name": "stdout",
     "output_type": "stream",
     "text": [
      "Test results sorted by bought:\n",
      "0.4606201666660294\n",
      "0.5276944065484311\n",
      "0.8201874337490194\n",
      "0.21009549795362173\n"
     ]
    }
   ],
   "source": [
    "print('Test results sorted by bought:')\n",
    "print(avrecall(test_by_bought_inter1, test.bought))\n",
    "print(avprecision(test_by_bought_inter1, 1))\n",
    "print(avrecall(test_by_bought_inter5, test.bought))\n",
    "print(avprecision(test_by_bought_inter5, 5))"
   ]
  }
 ],
 "metadata": {
  "colab": {
   "authorship_tag": "ABX9TyMb89lcfWA6MDG9pE1nQx+Y",
   "name": "recommendation_systems.ipynb",
   "provenance": [],
   "toc_visible": true
  },
  "kernelspec": {
   "display_name": "Python 3",
   "language": "python",
   "name": "python3"
  },
  "language_info": {
   "codemirror_mode": {
    "name": "ipython",
    "version": 3
   },
   "file_extension": ".py",
   "mimetype": "text/x-python",
   "name": "python",
   "nbconvert_exporter": "python",
   "pygments_lexer": "ipython3",
   "version": "3.7.8"
  }
 },
 "nbformat": 4,
 "nbformat_minor": 4
}
