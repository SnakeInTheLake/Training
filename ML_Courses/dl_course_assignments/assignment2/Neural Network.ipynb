{
 "cells": [
  {
   "cell_type": "markdown",
   "metadata": {
    "colab_type": "text",
    "id": "QO4EvjkVzIix"
   },
   "source": [
    "# Задание 2.1 - Нейронные сети\n",
    "\n",
    "В этом задании вы реализуете и натренируете настоящую нейроную сеть своими руками!\n",
    "\n",
    "В некотором смысле это будет расширением прошлого задания - нам нужно просто составить несколько линейных классификаторов вместе!\n",
    "\n",
    "<img src=\"https://i.redd.it/n9fgba8b0qr01.png\" alt=\"Stack_more_layers\" width=\"400px\"/>"
   ]
  },
  {
   "cell_type": "code",
   "execution_count": 1,
   "metadata": {
    "colab": {
     "base_uri": "https://localhost:8080/",
     "height": 51
    },
    "colab_type": "code",
    "executionInfo": {
     "elapsed": 1231,
     "status": "ok",
     "timestamp": 1594981904796,
     "user": {
      "displayName": "Павел Ананьев",
      "photoUrl": "",
      "userId": "07746041064703407151"
     },
     "user_tz": 0
    },
    "id": "oAVhc2UVzIi6",
    "outputId": "d63daeab-a3bf-45c4-dee6-28c5b3681cdb"
   },
   "outputs": [],
   "source": [
    "import numpy as np\n",
    "import matplotlib.pyplot as plt\n",
    "\n",
    "%matplotlib inline\n",
    "\n",
    "%load_ext autoreload\n",
    "%autoreload 2"
   ]
  },
  {
   "cell_type": "code",
   "execution_count": 2,
   "metadata": {
    "colab": {},
    "colab_type": "code",
    "executionInfo": {
     "elapsed": 1404,
     "status": "ok",
     "timestamp": 1594981905414,
     "user": {
      "displayName": "Павел Ананьев",
      "photoUrl": "",
      "userId": "07746041064703407151"
     },
     "user_tz": 0
    },
    "id": "WrWdMppBzIjQ"
   },
   "outputs": [],
   "source": [
    "from dataset import load_svhn, random_split_train_val\n",
    "from gradient_check import check_layer_gradient, check_layer_param_gradient, check_model_gradient\n",
    "from layers import FullyConnectedLayer, ReLULayer\n",
    "from model import TwoLayerNet\n",
    "from trainer import Trainer, Dataset\n",
    "from optim import SGD, MomentumSGD\n",
    "from metrics import multiclass_accuracy"
   ]
  },
  {
   "cell_type": "markdown",
   "metadata": {
    "colab_type": "text",
    "id": "-gBxlwctzIjb"
   },
   "source": [
    "# Загружаем данные\n",
    "\n",
    "И разделяем их на training и validation."
   ]
  },
  {
   "cell_type": "code",
   "execution_count": 3,
   "metadata": {
    "colab": {},
    "colab_type": "code",
    "executionInfo": {
     "elapsed": 8435,
     "status": "ok",
     "timestamp": 1594969893151,
     "user": {
      "displayName": "Павел Ананьев",
      "photoUrl": "",
      "userId": "07746041064703407151"
     },
     "user_tz": -180
    },
    "id": "k75x5B8lzIjd"
   },
   "outputs": [],
   "source": [
    "def prepare_for_neural_network(train_X, test_X):\n",
    "    train_flat = train_X.reshape(train_X.shape[0], -1).astype(np.float) / 255.0\n",
    "    test_flat = test_X.reshape(test_X.shape[0], -1).astype(np.float) / 255.0\n",
    "    \n",
    "    # Subtract mean\n",
    "    mean_image = np.mean(train_flat, axis = 0)\n",
    "    train_flat -= mean_image\n",
    "    test_flat -= mean_image\n",
    "    \n",
    "    return train_flat, test_flat\n",
    "    \n",
    "train_X, train_y, test_X, test_y = load_svhn(\"data\", max_train=10000, max_test=1000)    \n",
    "train_X, test_X = prepare_for_neural_network(train_X, test_X)\n",
    "# Split train into train and val\n",
    "train_X, train_y, val_X, val_y = random_split_train_val(train_X, train_y, num_val = 1000)"
   ]
  },
  {
   "cell_type": "markdown",
   "metadata": {
    "colab_type": "text",
    "id": "CLLd2FLzzIjp"
   },
   "source": [
    "# Как всегда, начинаем с кирпичиков\n",
    "\n",
    "Мы будем реализовывать необходимые нам слои по очереди. Каждый слой должен реализовать:\n",
    "- прямой проход (forward pass), который генерирует выход слоя по входу и запоминает необходимые данные\n",
    "- обратный проход (backward pass), который получает градиент по выходу слоя и вычисляет градиент по входу и по параметрам\n",
    "\n",
    "Начнем с ReLU, у которого параметров нет."
   ]
  },
  {
   "cell_type": "code",
   "execution_count": 4,
   "metadata": {
    "colab": {
     "base_uri": "https://localhost:8080/",
     "height": 34
    },
    "colab_type": "code",
    "executionInfo": {
     "elapsed": 975,
     "status": "ok",
     "timestamp": 1594974171274,
     "user": {
      "displayName": "Павел Ананьев",
      "photoUrl": "",
      "userId": "07746041064703407151"
     },
     "user_tz": 0
    },
    "id": "cYC7H5JHzIjr",
    "outputId": "cfc56417-5baf-40c0-e0cc-37e3b0571a45"
   },
   "outputs": [
    {
     "name": "stdout",
     "output_type": "stream",
     "text": [
      "Gradient check passed!\n"
     ]
    }
   ],
   "source": [
    "# TODO: Implement ReLULayer layer in layers.py\n",
    "# Note: you'll need to copy implementation of the gradient_check function from the previous assignment\n",
    "\n",
    "X = np.array([[1,-2,3],\n",
    "              [-1, 2, 0.1]\n",
    "              ])\n",
    "\n",
    "assert check_layer_gradient(ReLULayer(), X)"
   ]
  },
  {
   "cell_type": "markdown",
   "metadata": {
    "colab_type": "text",
    "id": "iM8JGepjzIj1"
   },
   "source": [
    "А теперь реализуем полносвязный слой (fully connected layer), у которого будет два массива параметров: W (weights) и B (bias).\n",
    "\n",
    "Все параметры наши слои будут использовать для параметров специальный класс `Param`, в котором будут храниться значения параметров и градиенты этих параметров, вычисляемые во время обратного прохода.\n",
    "\n",
    "Это даст возможность аккумулировать (суммировать) градиенты из разных частей функции потерь, например, из cross-entropy loss и regularization loss."
   ]
  },
  {
   "cell_type": "code",
   "execution_count": 5,
   "metadata": {
    "colab": {
     "base_uri": "https://localhost:8080/",
     "height": 68
    },
    "colab_type": "code",
    "executionInfo": {
     "elapsed": 1095,
     "status": "ok",
     "timestamp": 1594975885964,
     "user": {
      "displayName": "Павел Ананьев",
      "photoUrl": "",
      "userId": "07746041064703407151"
     },
     "user_tz": 0
    },
    "id": "xi5PP4CHzIj3",
    "outputId": "3740df65-49e7-4835-d78a-0bc825a41591"
   },
   "outputs": [
    {
     "name": "stdout",
     "output_type": "stream",
     "text": [
      "Gradient check passed!\n",
      "Gradient check passed!\n",
      "Gradient check passed!\n"
     ]
    }
   ],
   "source": [
    "# TODO: Implement FullyConnected layer forward and backward methods\n",
    "assert check_layer_gradient(FullyConnectedLayer(3, 4), X)\n",
    "# TODO: Implement storing gradients for W and B\n",
    "assert check_layer_param_gradient(FullyConnectedLayer(3, 4), X, 'W')\n",
    "assert check_layer_param_gradient(FullyConnectedLayer(3, 4), X, 'B')"
   ]
  },
  {
   "cell_type": "markdown",
   "metadata": {
    "colab_type": "text",
    "id": "3RXM-11dzIkD"
   },
   "source": [
    "## Создаем нейронную сеть\n",
    "\n",
    "Теперь мы реализуем простейшую нейронную сеть с двумя полносвязным слоями и нелинейностью ReLU. Реализуйте функцию `compute_loss_and_gradients`, она должна запустить прямой и обратный проход через оба слоя для вычисления градиентов.\n",
    "\n",
    "Не забудьте реализовать очистку градиентов в начале функции."
   ]
  },
  {
   "cell_type": "code",
   "execution_count": 6,
   "metadata": {
    "colab": {
     "base_uri": "https://localhost:8080/",
     "height": 170
    },
    "colab_type": "code",
    "executionInfo": {
     "elapsed": 6288,
     "status": "ok",
     "timestamp": 1594982982327,
     "user": {
      "displayName": "Павел Ананьев",
      "photoUrl": "",
      "userId": "07746041064703407151"
     },
     "user_tz": 0
    },
    "id": "hihU0DBTzIkF",
    "outputId": "18d6b9c4-c40b-4603-d547-99842289129e"
   },
   "outputs": [
    {
     "name": "stdout",
     "output_type": "stream",
     "text": [
      "Checking gradient for W1\n",
      "Gradient check passed!\n",
      "Checking gradient for B1\n",
      "Gradient check passed!\n",
      "Checking gradient for W2\n",
      "Gradient check passed!\n",
      "Checking gradient for B2\n",
      "Gradient check passed!\n"
     ]
    },
    {
     "data": {
      "text/plain": [
       "True"
      ]
     },
     "execution_count": 6,
     "metadata": {},
     "output_type": "execute_result"
    }
   ],
   "source": [
    "# TODO: In model.py, implement compute_loss_and_gradients function\n",
    "model = TwoLayerNet(n_input = train_X.shape[1], n_output = 10, hidden_layer_size = 3, reg = 0)\n",
    "loss = model.compute_loss_and_gradients(train_X[:2], train_y[:2])\n",
    "\n",
    "# TODO Now implement backward pass and aggregate all of the params\n",
    "check_model_gradient(model, train_X[:2], train_y[:2])"
   ]
  },
  {
   "cell_type": "markdown",
   "metadata": {
    "colab_type": "text",
    "id": "KtippxopzIkR"
   },
   "source": [
    "Теперь добавьте к модели регуляризацию - она должна прибавляться к loss и делать свой вклад в градиенты."
   ]
  },
  {
   "cell_type": "code",
   "execution_count": 7,
   "metadata": {
    "colab": {},
    "colab_type": "code",
    "id": "WRnjw2TkzIkS"
   },
   "outputs": [
    {
     "name": "stdout",
     "output_type": "stream",
     "text": [
      "Checking gradient for W1\n",
      "Gradient check passed!\n",
      "Checking gradient for B1\n",
      "Gradient check passed!\n",
      "Checking gradient for W2\n",
      "Gradient check passed!\n",
      "Checking gradient for B2\n",
      "Gradient check passed!\n"
     ]
    },
    {
     "data": {
      "text/plain": [
       "True"
      ]
     },
     "execution_count": 7,
     "metadata": {},
     "output_type": "execute_result"
    }
   ],
   "source": [
    "# TODO Now implement l2 regularization in the forward and backward pass\n",
    "model_with_reg = TwoLayerNet(n_input = train_X.shape[1], n_output = 10, hidden_layer_size = 3, reg = 1e1)\n",
    "loss_with_reg = model_with_reg.compute_loss_and_gradients(train_X[:2], train_y[:2])\n",
    "assert loss_with_reg > loss and not np.isclose(loss_with_reg, loss), \\\n",
    "    \"Loss with regularization (%2.4f) should be higher than without it (%2.4f)!\" % (loss, loss_with_reg)\n",
    "\n",
    "check_model_gradient(model_with_reg, train_X[:2], train_y[:2])"
   ]
  },
  {
   "cell_type": "markdown",
   "metadata": {
    "colab_type": "text",
    "id": "pTCQW2W6zIkg"
   },
   "source": [
    "Также реализуем функцию предсказания (вычисления значения) модели на новых данных.\n",
    "\n",
    "Какое значение точности мы ожидаем увидеть до начала тренировки?"
   ]
  },
  {
   "cell_type": "code",
   "execution_count": 8,
   "metadata": {
    "colab": {
     "base_uri": "https://localhost:8080/",
     "height": 34
    },
    "colab_type": "code",
    "executionInfo": {
     "elapsed": 992,
     "status": "ok",
     "timestamp": 1594984007940,
     "user": {
      "displayName": "Павел Ананьев",
      "photoUrl": "",
      "userId": "07746041064703407151"
     },
     "user_tz": 0
    },
    "id": "T3Pp9N7ozIkj",
    "outputId": "418d5866-b4f8-4527-e0a2-60ce60d9a481"
   },
   "outputs": [
    {
     "data": {
      "text/plain": [
       "0.1"
      ]
     },
     "execution_count": 8,
     "metadata": {},
     "output_type": "execute_result"
    }
   ],
   "source": [
    "# Finally, implement predict function!\n",
    "\n",
    "# TODO: Implement predict function\n",
    "# What would be the value we expect?\n",
    "multiclass_accuracy(model_with_reg.predict(train_X[:30]), train_y[:30]) "
   ]
  },
  {
   "cell_type": "markdown",
   "metadata": {
    "colab_type": "text",
    "id": "OJFu2JGCzIkt"
   },
   "source": [
    "# Допишем код для процесса тренировки\n",
    "\n",
    "Если все реализовано корректно, значение функции ошибки должно уменьшаться с каждой эпохой, пусть и медленно. Не беспокойтесь пока про validation accuracy."
   ]
  },
  {
   "cell_type": "code",
   "execution_count": 10,
   "metadata": {
    "colab": {
     "base_uri": "https://localhost:8080/",
     "height": 357
    },
    "colab_type": "code",
    "executionInfo": {
     "elapsed": 79002,
     "status": "ok",
     "timestamp": 1594985541953,
     "user": {
      "displayName": "Павел Ананьев",
      "photoUrl": "",
      "userId": "07746041064703407151"
     },
     "user_tz": 0
    },
    "id": "WvAvE3rVzIkv",
    "outputId": "102a0c01-832a-43ea-c911-d3e7f3364e5f"
   },
   "outputs": [
    {
     "name": "stdout",
     "output_type": "stream",
     "text": [
      "Loss: 2.275091, Train accuracy: 0.196667, val accuracy: 0.206000\n",
      "Loss: 2.244378, Train accuracy: 0.196667, val accuracy: 0.206000\n",
      "Loss: 2.233032, Train accuracy: 0.196667, val accuracy: 0.206000\n",
      "Loss: 2.228737, Train accuracy: 0.196667, val accuracy: 0.206000\n",
      "Loss: 2.226330, Train accuracy: 0.196667, val accuracy: 0.206000\n",
      "Loss: 2.222739, Train accuracy: 0.196667, val accuracy: 0.206000\n",
      "Loss: 2.213912, Train accuracy: 0.196667, val accuracy: 0.206000\n",
      "Loss: 2.195088, Train accuracy: 0.196667, val accuracy: 0.206000\n",
      "Loss: 2.168371, Train accuracy: 0.199333, val accuracy: 0.210000\n",
      "Loss: 2.139919, Train accuracy: 0.229111, val accuracy: 0.233000\n",
      "Loss: 2.111640, Train accuracy: 0.250889, val accuracy: 0.248000\n",
      "Loss: 2.081659, Train accuracy: 0.259444, val accuracy: 0.255000\n",
      "Loss: 2.044253, Train accuracy: 0.277889, val accuracy: 0.283000\n",
      "Loss: 1.992682, Train accuracy: 0.293778, val accuracy: 0.297000\n",
      "Loss: 1.928236, Train accuracy: 0.336333, val accuracy: 0.346000\n",
      "Loss: 1.858385, Train accuracy: 0.376444, val accuracy: 0.374000\n",
      "Loss: 1.791542, Train accuracy: 0.406889, val accuracy: 0.396000\n",
      "Loss: 1.733489, Train accuracy: 0.421556, val accuracy: 0.414000\n",
      "Loss: 1.682634, Train accuracy: 0.447333, val accuracy: 0.435000\n",
      "Loss: 1.637486, Train accuracy: 0.467444, val accuracy: 0.457000\n"
     ]
    }
   ],
   "source": [
    "model = TwoLayerNet(n_input = train_X.shape[1], n_output = 10, hidden_layer_size = 100, reg = 1e-3)\n",
    "dataset = Dataset(train_X, train_y, val_X, val_y)\n",
    "trainer = Trainer(model, dataset, SGD(), learning_rate = 1e-2)\n",
    "\n",
    "# TODO Implement missing pieces in Trainer.fit function\n",
    "# You should expect loss to go down every epoch, even if it's slow\n",
    "loss_history, train_history, val_history = trainer.fit()"
   ]
  },
  {
   "cell_type": "code",
   "execution_count": 11,
   "metadata": {
    "colab": {
     "base_uri": "https://localhost:8080/",
     "height": 282
    },
    "colab_type": "code",
    "executionInfo": {
     "elapsed": 875,
     "status": "ok",
     "timestamp": 1594985450184,
     "user": {
      "displayName": "Павел Ананьев",
      "photoUrl": "",
      "userId": "07746041064703407151"
     },
     "user_tz": 0
    },
    "id": "DIPrByO8zIk4",
    "outputId": "95e66481-838e-4258-c073-87ec4907552a"
   },
   "outputs": [
    {
     "data": {
      "image/png": "[encoded data removed]",
      "text/plain": [
       "<Figure size 432x288 with 1 Axes>"
      ]
     },
     "metadata": {
      "needs_background": "light"
     },
     "output_type": "display_data"
    }
   ],
   "source": [
    "plt.plot(train_history)\n",
    "plt.plot(val_history);"
   ]
  },
  {
   "cell_type": "markdown",
   "metadata": {
    "colab_type": "text",
    "id": "XC7wRoZTzIla"
   },
   "source": [
    "# Улучшаем процесс тренировки\n",
    "\n",
    "Мы реализуем несколько ключевых оптимизаций, необходимых для тренировки современных нейросетей."
   ]
  },
  {
   "cell_type": "markdown",
   "metadata": {
    "colab_type": "text",
    "id": "KtVbbRwkzIlc"
   },
   "source": [
    "## Уменьшение скорости обучения (learning rate decay)\n",
    "\n",
    "Одна из необходимых оптимизаций во время тренировки нейронных сетей - постепенное уменьшение скорости обучения по мере тренировки.\n",
    "\n",
    "Один из стандартных методов - уменьшение скорости обучения (learning rate) каждые N эпох на коэффициент d (часто называемый decay). Значения N и d, как всегда, являются гиперпараметрами и должны подбираться на основе эффективности на проверочных данных (validation data). \n",
    "\n",
    "В нашем случае N будет равным 1."
   ]
  },
  {
   "cell_type": "code",
   "execution_count": 12,
   "metadata": {
    "colab": {
     "base_uri": "https://localhost:8080/",
     "height": 357
    },
    "colab_type": "code",
    "executionInfo": {
     "elapsed": 0,
     "status": "ok",
     "timestamp": 1594985628953,
     "user": {
      "displayName": "Павел Ананьев",
      "photoUrl": "",
      "userId": "07746041064703407151"
     },
     "user_tz": 0
    },
    "id": "lK-8qS0yzIle",
    "outputId": "c2218e98-aa34-4f23-ea14-eaf55e0e846d"
   },
   "outputs": [
    {
     "name": "stdout",
     "output_type": "stream",
     "text": [
      "Loss: 2.275185, Train accuracy: 0.196667, val accuracy: 0.206000\n",
      "Loss: 2.244142, Train accuracy: 0.196667, val accuracy: 0.206000\n",
      "Loss: 2.232563, Train accuracy: 0.196667, val accuracy: 0.206000\n",
      "Loss: 2.228107, Train accuracy: 0.196667, val accuracy: 0.206000\n",
      "Loss: 2.225510, Train accuracy: 0.196667, val accuracy: 0.206000\n",
      "Loss: 2.221263, Train accuracy: 0.196667, val accuracy: 0.206000\n",
      "Loss: 2.211124, Train accuracy: 0.196667, val accuracy: 0.206000\n",
      "Loss: 2.191508, Train accuracy: 0.196667, val accuracy: 0.206000\n",
      "Loss: 2.166098, Train accuracy: 0.204556, val accuracy: 0.209000\n",
      "Loss: 2.139162, Train accuracy: 0.221778, val accuracy: 0.222000\n",
      "Loss: 2.112747, Train accuracy: 0.250111, val accuracy: 0.252000\n",
      "Loss: 2.083948, Train accuracy: 0.263778, val accuracy: 0.258000\n",
      "Loss: 2.048998, Train accuracy: 0.274111, val accuracy: 0.276000\n",
      "Loss: 2.005985, Train accuracy: 0.289333, val accuracy: 0.295000\n",
      "Loss: 1.956241, Train accuracy: 0.315778, val accuracy: 0.319000\n",
      "Loss: 1.902534, Train accuracy: 0.346889, val accuracy: 0.350000\n",
      "Loss: 1.848975, Train accuracy: 0.369889, val accuracy: 0.363000\n",
      "Loss: 1.798362, Train accuracy: 0.390667, val accuracy: 0.387000\n",
      "Loss: 1.750544, Train accuracy: 0.410222, val accuracy: 0.401000\n",
      "Loss: 1.705698, Train accuracy: 0.434556, val accuracy: 0.426000\n"
     ]
    }
   ],
   "source": [
    "# TODO Implement learning rate decay inside Trainer.fit method\n",
    "# Decay should happen once per epoch\n",
    "\n",
    "model = TwoLayerNet(n_input = train_X.shape[1], n_output = 10, hidden_layer_size = 100, reg = 1e-3)\n",
    "dataset = Dataset(train_X, train_y, val_X, val_y)\n",
    "trainer = Trainer(model, dataset, SGD(), learning_rate_decay=0.99)\n",
    "\n",
    "initial_learning_rate = trainer.learning_rate\n",
    "loss_history, train_history, val_history = trainer.fit()\n",
    "\n",
    "assert trainer.learning_rate < initial_learning_rate, \"Learning rate should've been reduced\"\n",
    "assert trainer.learning_rate > 0.5*initial_learning_rate, \"Learning rate shouldn'tve been reduced that much!\""
   ]
  },
  {
   "cell_type": "markdown",
   "metadata": {
    "colab_type": "text",
    "id": "cZcUp8UJzIll"
   },
   "source": [
    "# Накопление импульса (Momentum SGD)\n",
    "\n",
    "Другой большой класс оптимизаций - использование более эффективных методов градиентного спуска. Мы реализуем один из них - накопление импульса (Momentum SGD).\n",
    "\n",
    "Этот метод хранит скорость движения, использует градиент для ее изменения на каждом шаге, и изменяет веса пропорционально значению скорости.\n",
    "(Физическая аналогия: Вместо скорости градиенты теперь будут задавать ускорение, но будет присутствовать сила трения.)\n",
    "\n",
    "```\n",
    "velocity = momentum * velocity - learning_rate * gradient \n",
    "w = w + velocity\n",
    "```\n",
    "\n",
    "`momentum` здесь коэффициент затухания, который тоже является гиперпараметром (к счастью, для него часто есть хорошее значение по умолчанию, типичный диапазон -- 0.8-0.99).\n",
    "\n",
    "Несколько полезных ссылок, где метод разбирается более подробно:  \n",
    "http://cs231n.github.io/neural-networks-3/#sgd  \n",
    "https://distill.pub/2017/momentum/"
   ]
  },
  {
   "cell_type": "code",
   "execution_count": 14,
   "metadata": {
    "colab": {
     "base_uri": "https://localhost:8080/",
     "height": 357
    },
    "colab_type": "code",
    "executionInfo": {
     "elapsed": 86595,
     "status": "ok",
     "timestamp": 1594986943481,
     "user": {
      "displayName": "Павел Ананьев",
      "photoUrl": "",
      "userId": "07746041064703407151"
     },
     "user_tz": 0
    },
    "id": "Vtfkh5mEzIln",
    "outputId": "021f7b41-48b9-4c27-dfc0-ec12c0ab982d"
   },
   "outputs": [
    {
     "name": "stdout",
     "output_type": "stream",
     "text": [
      "Loss: 2.223859, Train accuracy: 0.223889, val accuracy: 0.230000\n",
      "Loss: 2.017109, Train accuracy: 0.383889, val accuracy: 0.369000\n",
      "Loss: 1.646842, Train accuracy: 0.535444, val accuracy: 0.555000\n",
      "Loss: 1.408119, Train accuracy: 0.597000, val accuracy: 0.598000\n",
      "Loss: 1.290190, Train accuracy: 0.633333, val accuracy: 0.634000\n",
      "Loss: 1.226215, Train accuracy: 0.700222, val accuracy: 0.684000\n",
      "Loss: 1.165025, Train accuracy: 0.699444, val accuracy: 0.663000\n",
      "Loss: 1.131341, Train accuracy: 0.709889, val accuracy: 0.685000\n",
      "Loss: 1.115504, Train accuracy: 0.714000, val accuracy: 0.668000\n",
      "Loss: 1.091137, Train accuracy: 0.743222, val accuracy: 0.692000\n",
      "Loss: 1.074292, Train accuracy: 0.738333, val accuracy: 0.703000\n",
      "Loss: 1.047999, Train accuracy: 0.739556, val accuracy: 0.686000\n",
      "Loss: 1.029077, Train accuracy: 0.767000, val accuracy: 0.733000\n",
      "Loss: 1.019433, Train accuracy: 0.760444, val accuracy: 0.693000\n",
      "Loss: 1.000388, Train accuracy: 0.796778, val accuracy: 0.736000\n",
      "Loss: 0.995878, Train accuracy: 0.797667, val accuracy: 0.733000\n",
      "Loss: 0.975519, Train accuracy: 0.800667, val accuracy: 0.728000\n",
      "Loss: 0.965147, Train accuracy: 0.789000, val accuracy: 0.711000\n",
      "Loss: 0.957138, Train accuracy: 0.805556, val accuracy: 0.731000\n",
      "Loss: 0.947307, Train accuracy: 0.812111, val accuracy: 0.728000\n"
     ]
    }
   ],
   "source": [
    "# TODO: Implement MomentumSGD.update function in optim.py\n",
    "\n",
    "model = TwoLayerNet(n_input = train_X.shape[1], n_output = 10, hidden_layer_size = 100, reg = 1e-3)\n",
    "dataset = Dataset(train_X, train_y, val_X, val_y)\n",
    "trainer = Trainer(model, dataset, MomentumSGD(), learning_rate=1e-2, learning_rate_decay=0.99)\n",
    "\n",
    "# You should see even better results than before!\n",
    "loss_history, train_history, val_history = trainer.fit()"
   ]
  },
  {
   "cell_type": "markdown",
   "metadata": {
    "colab_type": "text",
    "id": "Pw2jTYQ2zIly"
   },
   "source": [
    "# Ну что, давайте уже тренировать сеть!"
   ]
  },
  {
   "cell_type": "markdown",
   "metadata": {
    "colab_type": "text",
    "id": "8JR0nqgMzIl0"
   },
   "source": [
    "## Последний тест - переобучимся (overfit) на маленьком наборе данных\n",
    "\n",
    "Хороший способ проверить, все ли реализовано корректно - переобучить сеть на маленьком наборе данных.  \n",
    "Наша модель обладает достаточной мощностью, чтобы приблизить маленький набор данных идеально, поэтому мы ожидаем, что на нем мы быстро дойдем до 100% точности на тренировочном наборе. \n",
    "\n",
    "Если этого не происходит, то где-то была допущена ошибка!"
   ]
  },
  {
   "cell_type": "code",
   "execution_count": 15,
   "metadata": {
    "colab": {
     "base_uri": "https://localhost:8080/",
     "height": 1000
    },
    "colab_type": "code",
    "executionInfo": {
     "elapsed": 4249,
     "status": "ok",
     "timestamp": 1594986962454,
     "user": {
      "displayName": "Павел Ананьев",
      "photoUrl": "",
      "userId": "07746041064703407151"
     },
     "user_tz": 0
    },
    "id": "uYDJy0xXzIl2",
    "outputId": "3c84744e-e503-4f19-dc92-867d07af45ed"
   },
   "outputs": [
    {
     "name": "stdout",
     "output_type": "stream",
     "text": [
      "Loss: 2.335902, Train accuracy: 0.200000, val accuracy: 0.133333\n",
      "Loss: 2.320165, Train accuracy: 0.200000, val accuracy: 0.133333\n",
      "Loss: 2.306667, Train accuracy: 0.200000, val accuracy: 0.133333\n",
      "Loss: 2.292394, Train accuracy: 0.200000, val accuracy: 0.133333\n",
      "Loss: 2.282168, Train accuracy: 0.200000, val accuracy: 0.133333\n",
      "Loss: 2.266538, Train accuracy: 0.200000, val accuracy: 0.133333\n",
      "Loss: 2.251403, Train accuracy: 0.266667, val accuracy: 0.000000\n",
      "Loss: 2.218864, Train accuracy: 0.266667, val accuracy: 0.000000\n",
      "Loss: 2.185843, Train accuracy: 0.266667, val accuracy: 0.000000\n",
      "Loss: 2.134568, Train accuracy: 0.400000, val accuracy: 0.000000\n",
      "Loss: 2.039107, Train accuracy: 0.400000, val accuracy: 0.000000\n",
      "Loss: 2.002823, Train accuracy: 0.400000, val accuracy: 0.000000\n",
      "Loss: 1.970794, Train accuracy: 0.400000, val accuracy: 0.000000\n",
      "Loss: 1.889823, Train accuracy: 0.400000, val accuracy: 0.000000\n",
      "Loss: 1.879734, Train accuracy: 0.400000, val accuracy: 0.000000\n",
      "Loss: 1.817580, Train accuracy: 0.400000, val accuracy: 0.000000\n",
      "Loss: 1.778991, Train accuracy: 0.400000, val accuracy: 0.000000\n",
      "Loss: 1.773382, Train accuracy: 0.400000, val accuracy: 0.000000\n",
      "Loss: 1.779200, Train accuracy: 0.400000, val accuracy: 0.000000\n",
      "Loss: 1.773761, Train accuracy: 0.400000, val accuracy: 0.000000\n",
      "Loss: 1.721433, Train accuracy: 0.466667, val accuracy: 0.000000\n",
      "Loss: 1.740317, Train accuracy: 0.400000, val accuracy: 0.066667\n",
      "Loss: 1.754185, Train accuracy: 0.400000, val accuracy: 0.000000\n",
      "Loss: 1.724135, Train accuracy: 0.466667, val accuracy: 0.000000\n",
      "Loss: 1.711997, Train accuracy: 0.466667, val accuracy: 0.066667\n",
      "Loss: 1.685262, Train accuracy: 0.466667, val accuracy: 0.066667\n",
      "Loss: 1.670385, Train accuracy: 0.466667, val accuracy: 0.066667\n",
      "Loss: 1.695089, Train accuracy: 0.466667, val accuracy: 0.066667\n",
      "Loss: 1.645793, Train accuracy: 0.533333, val accuracy: 0.066667\n",
      "Loss: 1.649583, Train accuracy: 0.466667, val accuracy: 0.066667\n",
      "Loss: 1.658721, Train accuracy: 0.466667, val accuracy: 0.066667\n",
      "Loss: 1.639923, Train accuracy: 0.533333, val accuracy: 0.066667\n",
      "Loss: 1.600980, Train accuracy: 0.466667, val accuracy: 0.066667\n",
      "Loss: 1.580859, Train accuracy: 0.600000, val accuracy: 0.066667\n",
      "Loss: 1.556722, Train accuracy: 0.600000, val accuracy: 0.066667\n",
      "Loss: 1.572254, Train accuracy: 0.600000, val accuracy: 0.066667\n",
      "Loss: 1.553816, Train accuracy: 0.600000, val accuracy: 0.000000\n",
      "Loss: 1.520046, Train accuracy: 0.600000, val accuracy: 0.066667\n",
      "Loss: 1.531498, Train accuracy: 0.666667, val accuracy: 0.000000\n",
      "Loss: 1.494441, Train accuracy: 0.666667, val accuracy: 0.066667\n",
      "Loss: 1.493326, Train accuracy: 0.666667, val accuracy: 0.066667\n",
      "Loss: 1.501242, Train accuracy: 0.800000, val accuracy: 0.133333\n",
      "Loss: 1.499830, Train accuracy: 0.733333, val accuracy: 0.000000\n",
      "Loss: 1.475969, Train accuracy: 0.733333, val accuracy: 0.000000\n",
      "Loss: 1.457673, Train accuracy: 0.800000, val accuracy: 0.000000\n",
      "Loss: 1.427821, Train accuracy: 0.800000, val accuracy: 0.133333\n",
      "Loss: 1.408242, Train accuracy: 0.800000, val accuracy: 0.066667\n",
      "Loss: 1.397366, Train accuracy: 0.800000, val accuracy: 0.133333\n",
      "Loss: 1.414165, Train accuracy: 0.800000, val accuracy: 0.133333\n",
      "Loss: 1.413429, Train accuracy: 0.733333, val accuracy: 0.000000\n",
      "Loss: 1.378313, Train accuracy: 0.800000, val accuracy: 0.000000\n",
      "Loss: 1.360143, Train accuracy: 0.800000, val accuracy: 0.133333\n",
      "Loss: 1.344423, Train accuracy: 0.800000, val accuracy: 0.000000\n",
      "Loss: 1.359333, Train accuracy: 0.800000, val accuracy: 0.000000\n",
      "Loss: 1.346077, Train accuracy: 0.800000, val accuracy: 0.000000\n",
      "Loss: 1.341377, Train accuracy: 0.800000, val accuracy: 0.000000\n",
      "Loss: 1.327487, Train accuracy: 0.800000, val accuracy: 0.000000\n",
      "Loss: 1.304072, Train accuracy: 0.800000, val accuracy: 0.000000\n",
      "Loss: 1.303677, Train accuracy: 0.800000, val accuracy: 0.066667\n",
      "Loss: 1.317000, Train accuracy: 0.800000, val accuracy: 0.133333\n",
      "Loss: 1.331460, Train accuracy: 0.800000, val accuracy: 0.000000\n",
      "Loss: 1.297226, Train accuracy: 0.800000, val accuracy: 0.000000\n",
      "Loss: 1.319819, Train accuracy: 0.800000, val accuracy: 0.000000\n",
      "Loss: 1.298906, Train accuracy: 0.800000, val accuracy: 0.000000\n",
      "Loss: 1.314568, Train accuracy: 0.800000, val accuracy: 0.066667\n",
      "Loss: 1.276816, Train accuracy: 0.800000, val accuracy: 0.000000\n",
      "Loss: 1.282442, Train accuracy: 0.800000, val accuracy: 0.000000\n",
      "Loss: 1.274455, Train accuracy: 0.800000, val accuracy: 0.000000\n",
      "Loss: 1.290668, Train accuracy: 0.800000, val accuracy: 0.000000\n",
      "Loss: 1.295302, Train accuracy: 0.800000, val accuracy: 0.066667\n",
      "Loss: 1.286638, Train accuracy: 0.800000, val accuracy: 0.000000\n",
      "Loss: 1.273130, Train accuracy: 0.800000, val accuracy: 0.000000\n",
      "Loss: 1.259534, Train accuracy: 0.800000, val accuracy: 0.000000\n",
      "Loss: 1.262089, Train accuracy: 0.800000, val accuracy: 0.000000\n",
      "Loss: 1.284561, Train accuracy: 0.800000, val accuracy: 0.066667\n",
      "Loss: 1.256265, Train accuracy: 0.800000, val accuracy: 0.000000\n",
      "Loss: 1.255538, Train accuracy: 0.800000, val accuracy: 0.000000\n",
      "Loss: 1.247921, Train accuracy: 0.800000, val accuracy: 0.000000\n",
      "Loss: 1.257988, Train accuracy: 0.866667, val accuracy: 0.000000\n",
      "Loss: 1.250738, Train accuracy: 0.866667, val accuracy: 0.000000\n",
      "Loss: 1.249570, Train accuracy: 0.866667, val accuracy: 0.000000\n",
      "Loss: 1.237411, Train accuracy: 0.866667, val accuracy: 0.000000\n",
      "Loss: 1.227329, Train accuracy: 0.933333, val accuracy: 0.000000\n",
      "Loss: 1.224637, Train accuracy: 0.933333, val accuracy: 0.000000\n",
      "Loss: 1.254795, Train accuracy: 0.933333, val accuracy: 0.000000\n",
      "Loss: 1.235658, Train accuracy: 0.933333, val accuracy: 0.000000\n",
      "Loss: 1.208101, Train accuracy: 0.933333, val accuracy: 0.000000\n",
      "Loss: 1.230359, Train accuracy: 0.933333, val accuracy: 0.000000\n",
      "Loss: 1.222093, Train accuracy: 0.933333, val accuracy: 0.000000\n",
      "Loss: 1.229062, Train accuracy: 0.933333, val accuracy: 0.000000\n",
      "Loss: 1.222673, Train accuracy: 0.933333, val accuracy: 0.000000\n",
      "Loss: 1.215096, Train accuracy: 0.933333, val accuracy: 0.000000\n",
      "Loss: 1.221395, Train accuracy: 0.933333, val accuracy: 0.000000\n",
      "Loss: 1.203938, Train accuracy: 1.000000, val accuracy: 0.066667\n",
      "Loss: 1.183705, Train accuracy: 0.933333, val accuracy: 0.000000\n",
      "Loss: 1.191230, Train accuracy: 0.933333, val accuracy: 0.000000\n",
      "Loss: 1.183001, Train accuracy: 1.000000, val accuracy: 0.000000\n",
      "Loss: 1.202838, Train accuracy: 1.000000, val accuracy: 0.000000\n",
      "Loss: 1.179064, Train accuracy: 1.000000, val accuracy: 0.000000\n",
      "Loss: 1.185616, Train accuracy: 1.000000, val accuracy: 0.000000\n",
      "Loss: 1.184281, Train accuracy: 1.000000, val accuracy: 0.000000\n",
      "Loss: 1.194913, Train accuracy: 1.000000, val accuracy: 0.066667\n",
      "Loss: 1.171009, Train accuracy: 1.000000, val accuracy: 0.000000\n",
      "Loss: 1.169795, Train accuracy: 1.000000, val accuracy: 0.000000\n",
      "Loss: 1.157796, Train accuracy: 1.000000, val accuracy: 0.000000\n",
      "Loss: 1.182245, Train accuracy: 1.000000, val accuracy: 0.000000\n",
      "Loss: 1.200310, Train accuracy: 0.933333, val accuracy: 0.000000\n",
      "Loss: 1.173576, Train accuracy: 1.000000, val accuracy: 0.000000\n",
      "Loss: 1.170183, Train accuracy: 1.000000, val accuracy: 0.000000\n",
      "Loss: 1.186589, Train accuracy: 1.000000, val accuracy: 0.000000\n",
      "Loss: 1.193176, Train accuracy: 0.933333, val accuracy: 0.000000\n",
      "Loss: 1.189299, Train accuracy: 1.000000, val accuracy: 0.000000\n",
      "Loss: 1.160352, Train accuracy: 1.000000, val accuracy: 0.000000\n",
      "Loss: 1.156538, Train accuracy: 1.000000, val accuracy: 0.066667\n",
      "Loss: 1.165947, Train accuracy: 1.000000, val accuracy: 0.000000\n",
      "Loss: 1.152763, Train accuracy: 1.000000, val accuracy: 0.000000\n",
      "Loss: 1.151840, Train accuracy: 1.000000, val accuracy: 0.000000\n",
      "Loss: 1.149556, Train accuracy: 1.000000, val accuracy: 0.000000\n",
      "Loss: 1.164819, Train accuracy: 1.000000, val accuracy: 0.066667\n",
      "Loss: 1.144120, Train accuracy: 1.000000, val accuracy: 0.000000\n",
      "Loss: 1.163097, Train accuracy: 1.000000, val accuracy: 0.000000\n",
      "Loss: 1.163445, Train accuracy: 1.000000, val accuracy: 0.066667\n",
      "Loss: 1.153877, Train accuracy: 1.000000, val accuracy: 0.000000\n",
      "Loss: 1.140603, Train accuracy: 1.000000, val accuracy: 0.000000\n",
      "Loss: 1.156855, Train accuracy: 1.000000, val accuracy: 0.000000\n",
      "Loss: 1.171982, Train accuracy: 1.000000, val accuracy: 0.000000\n",
      "Loss: 1.161742, Train accuracy: 1.000000, val accuracy: 0.066667\n",
      "Loss: 1.144022, Train accuracy: 1.000000, val accuracy: 0.000000\n",
      "Loss: 1.149961, Train accuracy: 1.000000, val accuracy: 0.000000\n",
      "Loss: 1.138706, Train accuracy: 1.000000, val accuracy: 0.000000\n",
      "Loss: 1.151639, Train accuracy: 1.000000, val accuracy: 0.066667\n",
      "Loss: 1.142624, Train accuracy: 1.000000, val accuracy: 0.000000\n",
      "Loss: 1.142854, Train accuracy: 1.000000, val accuracy: 0.000000\n",
      "Loss: 1.152110, Train accuracy: 1.000000, val accuracy: 0.000000\n",
      "Loss: 1.155226, Train accuracy: 1.000000, val accuracy: 0.000000\n",
      "Loss: 1.144510, Train accuracy: 1.000000, val accuracy: 0.000000\n",
      "Loss: 1.149954, Train accuracy: 1.000000, val accuracy: 0.000000\n",
      "Loss: 1.138407, Train accuracy: 1.000000, val accuracy: 0.066667\n",
      "Loss: 1.132213, Train accuracy: 1.000000, val accuracy: 0.000000\n",
      "Loss: 1.145428, Train accuracy: 1.000000, val accuracy: 0.066667\n",
      "Loss: 1.132306, Train accuracy: 1.000000, val accuracy: 0.000000\n",
      "Loss: 1.133163, Train accuracy: 1.000000, val accuracy: 0.000000\n",
      "Loss: 1.127619, Train accuracy: 1.000000, val accuracy: 0.000000\n",
      "Loss: 1.159333, Train accuracy: 1.000000, val accuracy: 0.000000\n",
      "Loss: 1.160354, Train accuracy: 1.000000, val accuracy: 0.000000\n",
      "Loss: 1.149230, Train accuracy: 1.000000, val accuracy: 0.000000\n",
      "Loss: 1.131332, Train accuracy: 1.000000, val accuracy: 0.066667\n",
      "Loss: 1.145386, Train accuracy: 1.000000, val accuracy: 0.000000\n",
      "Loss: 1.124961, Train accuracy: 1.000000, val accuracy: 0.000000\n",
      "Loss: 1.124633, Train accuracy: 1.000000, val accuracy: 0.000000\n"
     ]
    }
   ],
   "source": [
    "data_size = 15\n",
    "model = TwoLayerNet(n_input = train_X.shape[1], n_output = 10, hidden_layer_size = 100, reg = 1e-1)\n",
    "dataset = Dataset(train_X[:data_size], train_y[:data_size], val_X[:data_size], val_y[:data_size])\n",
    "trainer = Trainer(model, dataset, SGD(), learning_rate=1e-1, num_epochs=150, batch_size=5)\n",
    "\n",
    "# You should expect this to reach 1.0 training accuracy \n",
    "loss_history, train_history, val_history = trainer.fit()"
   ]
  },
  {
   "cell_type": "markdown",
   "metadata": {
    "colab_type": "text",
    "id": "akvyqqB9zIl_"
   },
   "source": [
    "Теперь найдем гипепараметры, для которых этот процесс сходится быстрее.\n",
    "Если все реализовано корректно, то существуют параметры, при которых процесс сходится в **20** эпох или еще быстрее.\n",
    "Найдите их!"
   ]
  },
  {
   "cell_type": "code",
   "execution_count": 21,
   "metadata": {
    "colab": {
     "base_uri": "https://localhost:8080/",
     "height": 394
    },
    "colab_type": "code",
    "executionInfo": {
     "elapsed": 1257,
     "status": "ok",
     "timestamp": 1594988734707,
     "user": {
      "displayName": "Павел Ананьев",
      "photoUrl": "",
      "userId": "07746041064703407151"
     },
     "user_tz": 0
    },
    "id": "tqVz3-a9zImB",
    "outputId": "9419bd19-1536-40df-89d5-b70467daec13"
   },
   "outputs": [
    {
     "name": "stdout",
     "output_type": "stream",
     "text": [
      "Loss: 2.304615, Train accuracy: 0.200000, val accuracy: 0.066667\n",
      "Loss: 2.283705, Train accuracy: 0.200000, val accuracy: 0.066667\n",
      "Loss: 2.253406, Train accuracy: 0.200000, val accuracy: 0.066667\n",
      "Loss: 2.202106, Train accuracy: 0.266667, val accuracy: 0.000000\n",
      "Loss: 2.084829, Train accuracy: 0.400000, val accuracy: 0.000000\n",
      "Loss: 1.900072, Train accuracy: 0.400000, val accuracy: 0.000000\n",
      "Loss: 1.714595, Train accuracy: 0.333333, val accuracy: 0.000000\n",
      "Loss: 1.563583, Train accuracy: 0.466667, val accuracy: 0.133333\n",
      "Loss: 1.431630, Train accuracy: 0.400000, val accuracy: 0.133333\n",
      "Loss: 1.342570, Train accuracy: 0.666667, val accuracy: 0.000000\n",
      "Loss: 1.078229, Train accuracy: 0.666667, val accuracy: 0.000000\n",
      "Loss: 0.896322, Train accuracy: 0.800000, val accuracy: 0.000000\n",
      "Loss: 0.687542, Train accuracy: 0.800000, val accuracy: 0.066667\n",
      "Loss: 0.545846, Train accuracy: 0.866667, val accuracy: 0.066667\n",
      "Loss: 0.455987, Train accuracy: 0.933333, val accuracy: 0.000000\n",
      "Loss: 0.293281, Train accuracy: 1.000000, val accuracy: 0.066667\n",
      "Loss: 0.159586, Train accuracy: 1.000000, val accuracy: 0.000000\n",
      "Loss: 0.047283, Train accuracy: 1.000000, val accuracy: 0.000000\n",
      "Loss: 0.029238, Train accuracy: 1.000000, val accuracy: 0.000000\n",
      "Loss: 0.013450, Train accuracy: 1.000000, val accuracy: 0.000000\n"
     ]
    }
   ],
   "source": [
    "# Now, tweak some hyper parameters and make it train to 1.0 accuracy in 20 epochs or less\n",
    "\n",
    "model = TwoLayerNet(n_input = train_X.shape[1], n_output = 10, hidden_layer_size = 100, reg = 0)\n",
    "dataset = Dataset(train_X[:data_size], train_y[:data_size], val_X[:data_size], val_y[:data_size])\n",
    "# TODO: Change any hyperparamers or optimizators to reach training accuracy in 20 epochs\n",
    "trainer = Trainer(model, dataset, MomentumSGD(), learning_rate=0.07, num_epochs=20, batch_size=5)\n",
    "\n",
    "loss_history, train_history, val_history = trainer.fit()"
   ]
  },
  {
   "cell_type": "markdown",
   "metadata": {
    "colab_type": "text",
    "id": "Eb7sUOawzImI"
   },
   "source": [
    "# Итак, основное мероприятие!\n",
    "\n",
    "Натренируйте лучшую нейросеть! Можно добавлять и изменять параметры, менять количество нейронов в слоях сети и как угодно экспериментировать. \n",
    "\n",
    "Добейтесь точности лучше **60%** на validation set."
   ]
  },
  {
   "cell_type": "code",
   "execution_count": 22,
   "metadata": {},
   "outputs": [
    {
     "name": "stdout",
     "output_type": "stream",
     "text": [
      "Loss: 2.237176, Train accuracy: 0.196667, val accuracy: 0.206000\n",
      "Loss: 2.102114, Train accuracy: 0.324889, val accuracy: 0.317000\n",
      "Loss: 1.775854, Train accuracy: 0.474778, val accuracy: 0.454000\n",
      "Loss: 1.476823, Train accuracy: 0.557333, val accuracy: 0.572000\n",
      "Loss: 1.341933, Train accuracy: 0.636778, val accuracy: 0.609000\n",
      "Loss: 1.251738, Train accuracy: 0.665889, val accuracy: 0.647000\n",
      "Loss: 1.182148, Train accuracy: 0.708889, val accuracy: 0.672000\n",
      "Loss: 1.160292, Train accuracy: 0.707222, val accuracy: 0.696000\n",
      "Loss: 1.121847, Train accuracy: 0.722222, val accuracy: 0.685000\n",
      "Loss: 1.125658, Train accuracy: 0.731667, val accuracy: 0.695000\n",
      "Loss: 1.084202, Train accuracy: 0.760333, val accuracy: 0.716000\n",
      "Loss: 1.076567, Train accuracy: 0.768111, val accuracy: 0.707000\n",
      "Loss: 1.062297, Train accuracy: 0.751667, val accuracy: 0.700000\n",
      "Loss: 1.021477, Train accuracy: 0.794667, val accuracy: 0.729000\n",
      "Loss: 1.002822, Train accuracy: 0.788111, val accuracy: 0.725000\n",
      "Loss: 1.014319, Train accuracy: 0.795222, val accuracy: 0.726000\n",
      "Loss: 0.987573, Train accuracy: 0.776778, val accuracy: 0.706000\n",
      "Loss: 1.011363, Train accuracy: 0.765000, val accuracy: 0.712000\n",
      "Loss: 0.988327, Train accuracy: 0.824000, val accuracy: 0.750000\n",
      "Loss: 0.966614, Train accuracy: 0.805889, val accuracy: 0.742000\n",
      "Loss: 0.960615, Train accuracy: 0.804222, val accuracy: 0.717000\n",
      "Loss: 0.932637, Train accuracy: 0.812333, val accuracy: 0.718000\n",
      "Loss: 0.952703, Train accuracy: 0.815444, val accuracy: 0.732000\n",
      "Loss: 0.929262, Train accuracy: 0.836778, val accuracy: 0.734000\n",
      "Loss: 0.918643, Train accuracy: 0.847778, val accuracy: 0.749000\n",
      "Loss: 0.916572, Train accuracy: 0.836111, val accuracy: 0.751000\n",
      "Loss: 0.955253, Train accuracy: 0.811000, val accuracy: 0.727000\n",
      "Loss: 0.918265, Train accuracy: 0.843000, val accuracy: 0.752000\n",
      "Loss: 0.912827, Train accuracy: 0.802778, val accuracy: 0.714000\n",
      "Loss: 0.905320, Train accuracy: 0.860889, val accuracy: 0.767000\n",
      "Loss: 0.910610, Train accuracy: 0.849556, val accuracy: 0.744000\n",
      "Loss: 0.907858, Train accuracy: 0.862444, val accuracy: 0.759000\n",
      "Loss: 0.881140, Train accuracy: 0.850778, val accuracy: 0.756000\n",
      "Loss: 0.914690, Train accuracy: 0.817111, val accuracy: 0.723000\n",
      "Loss: 0.904230, Train accuracy: 0.851222, val accuracy: 0.738000\n",
      "Loss: 0.889187, Train accuracy: 0.866556, val accuracy: 0.749000\n",
      "Loss: 0.880141, Train accuracy: 0.860444, val accuracy: 0.754000\n",
      "Loss: 0.877528, Train accuracy: 0.861000, val accuracy: 0.756000\n",
      "Loss: 0.868407, Train accuracy: 0.855222, val accuracy: 0.754000\n",
      "Loss: 0.881689, Train accuracy: 0.868222, val accuracy: 0.754000\n",
      "Loss: 0.875402, Train accuracy: 0.879778, val accuracy: 0.771000\n",
      "Loss: 0.850432, Train accuracy: 0.872111, val accuracy: 0.752000\n",
      "Loss: 0.856904, Train accuracy: 0.868778, val accuracy: 0.743000\n",
      "Loss: 0.850776, Train accuracy: 0.859556, val accuracy: 0.751000\n",
      "Loss: 0.857036, Train accuracy: 0.859667, val accuracy: 0.749000\n",
      "Loss: 0.872097, Train accuracy: 0.873222, val accuracy: 0.759000\n",
      "Loss: 0.838424, Train accuracy: 0.879778, val accuracy: 0.767000\n",
      "Loss: 0.894039, Train accuracy: 0.846889, val accuracy: 0.735000\n",
      "Loss: 0.862976, Train accuracy: 0.881000, val accuracy: 0.759000\n",
      "Loss: 0.840270, Train accuracy: 0.881889, val accuracy: 0.771000\n"
     ]
    }
   ],
   "source": [
    "model = TwoLayerNet(n_input=train_X.shape[1],\n",
    "                    n_output=10,\n",
    "                    hidden_layer_size=100,\n",
    "                    reg=1e-3)\n",
    "dataset = Dataset(train_X, train_y, val_X, val_y)\n",
    "trainer = Trainer(model, dataset, MomentumSGD(),\n",
    "                  learning_rate=0.05,\n",
    "                  num_epochs=50,\n",
    "                  batch_size=90,\n",
    "                  learning_rate_decay=0.99\n",
    "                 )\n",
    "loss_history, train_history, val_history = trainer.fit()"
   ]
  },
  {
   "cell_type": "code",
   "execution_count": 23,
   "metadata": {
    "colab": {
     "base_uri": "https://localhost:8080/",
     "height": 461
    },
    "colab_type": "code",
    "executionInfo": {
     "elapsed": 1090,
     "status": "ok",
     "timestamp": 1594987695419,
     "user": {
      "displayName": "Павел Ананьев",
      "photoUrl": "",
      "userId": "07746041064703407151"
     },
     "user_tz": 0
    },
    "id": "CLlN3zVbzIml",
    "outputId": "14c10efc-0225-469b-c049-52bfb5e6a840"
   },
   "outputs": [
    {
     "data": {
      "text/plain": [
       "[<matplotlib.lines.Line2D at 0x7f8ec22fdfd0>]"
      ]
     },
     "execution_count": 23,
     "metadata": {},
     "output_type": "execute_result"
    },
    {
     "data": {
      "image/png": "[encoded data removed]",
      "text/plain": [
       "<Figure size 1080x504 with 2 Axes>"
      ]
     },
     "metadata": {
      "needs_background": "light"
     },
     "output_type": "display_data"
    }
   ],
   "source": [
    "plt.figure(figsize=(15, 7))\n",
    "plt.subplot(211)\n",
    "plt.title(\"Loss\")\n",
    "plt.plot(loss_history)\n",
    "plt.subplot(212)\n",
    "plt.title(\"Train/validation accuracy\")\n",
    "plt.plot(train_history)\n",
    "plt.plot(val_history)"
   ]
  },
  {
   "cell_type": "markdown",
   "metadata": {
    "colab_type": "text",
    "id": "uz8qGPo4zImt"
   },
   "source": [
    "# Как обычно, посмотрим, как наша лучшая модель работает на тестовых данных"
   ]
  },
  {
   "cell_type": "code",
   "execution_count": 24,
   "metadata": {
    "colab": {},
    "colab_type": "code",
    "id": "R8S7nnjvzImu"
   },
   "outputs": [
    {
     "name": "stdout",
     "output_type": "stream",
     "text": [
      "Neural net test set accuracy: 0.731000\n"
     ]
    }
   ],
   "source": [
    "test_pred = model.predict(test_X)\n",
    "test_accuracy = multiclass_accuracy(test_pred, test_y)\n",
    "print('Neural net test set accuracy: %f' % (test_accuracy, ))"
   ]
  }
 ],
 "metadata": {
  "colab": {
   "collapsed_sections": [],
   "name": "Neural Network.ipynb",
   "provenance": [],
   "toc_visible": true
  },
  "kernelspec": {
   "display_name": "Python 3",
   "language": "python",
   "name": "python3"
  },
  "language_info": {
   "codemirror_mode": {
    "name": "ipython",
    "version": 3
   },
   "file_extension": ".py",
   "mimetype": "text/x-python",
   "name": "python",
   "nbconvert_exporter": "python",
   "pygments_lexer": "ipython3",
   "version": "3.7.8"
  },
  "widgets": {
   "application/vnd.jupyter.widget-state+json": {
    "state": {},
    "version_major": 2,
    "version_minor": 0
   }
  }
 },
 "nbformat": 4,
 "nbformat_minor": 4
}
