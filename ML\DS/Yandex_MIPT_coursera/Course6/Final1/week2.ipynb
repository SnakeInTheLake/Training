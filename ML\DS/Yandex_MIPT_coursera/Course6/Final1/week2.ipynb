{
 "cells": [
  {
   "cell_type": "markdown",
   "metadata": {
    "colab_type": "text",
    "id": "LE9iZexyA1rC"
   },
   "source": [
    "<center>\n",
    "<img src=\"https://habrastorage.org/web/677/8e1/337/6778e1337c3d4b159d7e99df94227cb2.jpg\"/>\n",
    "## Специализация \"Машинное обучение и анализ данных\"\n",
    "</center>\n",
    "<center>Автор материала: программист-исследователь Mail.ru Group, старший преподаватель Факультета Компьютерных Наук ВШЭ Юрий Кашницкий"
   ]
  },
  {
   "cell_type": "markdown",
   "metadata": {
    "colab_type": "text",
    "id": "sTH15xRiA1rH"
   },
   "source": [
    "# <center> Capstone проект №1. Идентификация пользователей по посещенным веб-страницам\n",
    "<img src='http://i.istockimg.com/file_thumbview_approve/21546327/5/stock-illustration-21546327-identification-de-l-utilisateur.jpg'>\n",
    "\n",
    "# <center>Неделя 2. Подготовка и первичный анализ данных\n",
    "\n",
    "На второй неделе мы продолжим подготавливать данные для дальнейшего анализа и построения прогнозных моделей. Конкретно, раньше мы определили что сессия – это последовательность из 10 посещенных пользователем сайтов, теперь сделаем длину сессии параметром, и потом при обучении прогнозных моделей выберем лучшую длину сессии.\n",
    "Также мы познакомимся с предобработанными данными и статистически проверим первые гипотезы, связанные с нашими наблюдениями. \n",
    "\n",
    "**План 2 недели:**\n",
    " - Часть 1. Подготовка нескольких обучающих выборок для сравнения\n",
    " - Часть 2. Первичный анализ данных, проверка гипотез\n",
    "\n",
    "**В этой части проекта Вам могут быть полезны  следующие видеозаписи лекций курса \"Построение выводов по данным\":**\n",
    "\n",
    "   - [Доверительные интервалы для доли](https://www.coursera.org/learn/stats-for-data-analysis/lecture/3oi53/dovieritiel-nyie-intiervaly-dlia-doli)\n",
    "   - [Биномиальный критерий для доли](https://www.coursera.org/learn/stats-for-data-analysis/lecture/JwmBw/binomial-nyi-kritierii-dlia-doli)\n",
    "   - [Доверительные интервалы на основе бутстрепа](https://www.coursera.org/learn/stats-for-data-analysis/lecture/GZjW7/dovieritiel-nyie-intiervaly-na-osnovie-butstriepa)\n",
    "   \n",
    "**Кроме того, в задании будут использоваться библиотеки Python [glob](https://docs.python.org/3/library/glob.html), [pickle](https://docs.python.org/2/library/pickle.html), [itertools](https://docs.python.org/3/library/itertools.html) и класс [csr_matrix](https://docs.scipy.org/doc/scipy-0.14.0/reference/generated/scipy.sparse.csr_matrix.html) из scipy.sparse.**"
   ]
  },
  {
   "cell_type": "markdown",
   "metadata": {
    "colab_type": "text",
    "id": "df-aaafrA1rJ"
   },
   "source": [
    "## Часть 1. Подготовка нескольких обучающих выборок для сравнения\n",
    "\n",
    "Пока мы брали последовательности из 10 сайтов, и это было наобум. Давайте сделаем число сайтов в сессии параметром, чтоб в дальнейшем сравнить модели классификации, обученные на разных выборках – с 5, 7, 10 и 15 сайтами в сессии. Более того, пока мы брали по 10 сайтов подряд, без пересечения. Теперь давайте применим идею скользящего окна – сессии будут перекрываться. \n",
    "\n",
    "**Пример**: для длины сессии 10 и ширины окна 7 файл из 30 записей породит не 3 сессии, как раньше (1-10, 11-20, 21-30), а 5 (1-10, 8-17, 15-24, 22-30, 29-30). При этом в предпоследней сессии будет один ноль, а в последней – 8 нолей.\n",
    "\n",
    "Создадим несколько выборок для разных сочетаний параметров длины сессии и ширины окна. Все они представлены в табличке ниже:\n",
    "\n",
    "<style type=\"text/css\">\n",
    ".tg  {border-collapse:collapse;border-spacing:0;}\n",
    ".tg td{font-family:Arial, sans-serif;font-size:14px;padding:10px 5px;border-style:solid;border-width:1px;overflow:hidden;word-break:normal;}\n",
    ".tg th{font-family:Arial, sans-serif;font-size:14px;font-weight:normal;padding:10px 5px;border-style:solid;border-width:1px;overflow:hidden;word-break:normal;}\n",
    "</style>\n",
    "<table class=\"tg\">\n",
    "  <tr>\n",
    "    <th class=\"tg-031e\">session_length -&gt;<br>window_size <br></th>\n",
    "    <th class=\"tg-031e\">5</th>\n",
    "    <th class=\"tg-031e\">7</th>\n",
    "    <th class=\"tg-031e\">10</th>\n",
    "    <th class=\"tg-031e\">15</th>\n",
    "  </tr>\n",
    "  <tr>\n",
    "    <td class=\"tg-031e\">5</td>\n",
    "    <td class=\"tg-031e\">v</td>\n",
    "    <td class=\"tg-031e\">v</td>\n",
    "    <td class=\"tg-031e\">v</td>\n",
    "    <td class=\"tg-031e\">v</td>\n",
    "  </tr>\n",
    "  <tr>\n",
    "    <td class=\"tg-031e\">7</td>\n",
    "    <td class=\"tg-031e\"></td>\n",
    "    <td class=\"tg-031e\">v</td>\n",
    "    <td class=\"tg-031e\">v</td>\n",
    "    <td class=\"tg-031e\">v</td>\n",
    "  </tr>\n",
    "  <tr>\n",
    "    <td class=\"tg-031e\">10</td>\n",
    "    <td class=\"tg-031e\"></td>\n",
    "    <td class=\"tg-031e\"></td>\n",
    "    <td class=\"tg-031e\"><font color='green'>v</font></td>\n",
    "    <td class=\"tg-031e\">v</td>\n",
    "  </tr>\n",
    "</table>\n",
    "\n",
    "Итого должно получиться 18 разреженных матриц – указанные в таблице 9 сочетаний параметров формирования сессий для выборок из 10 и 150 пользователей. При этом 2 выборки мы уже сделали в прошлой части, они соответствуют сочетанию параметров: session_length=10, window_size=10, которые помечены в таблице выше галочкой зеленого цвета (done)."
   ]
  },
  {
   "cell_type": "markdown",
   "metadata": {
    "colab_type": "text",
    "id": "7l77EkfgA1rL"
   },
   "source": [
    "Реализуйте функцию *prepare_sparse_train_set_window*.\n",
    "\n",
    "Аргументы:\n",
    "- *path_to_csv_files* – путь к каталогу с csv-файлами\n",
    "- *site_freq_path* – путь к pickle-файлу с частотным словарем, полученным в 1 части проекта\n",
    "- *session_length* – длина сессии (параметр)\n",
    "- *window_size* – ширина окна (параметр) \n",
    "\n",
    "Функция должна возвращать 2 объекта:\n",
    "- разреженную матрицу *X_sparse* (двухмерная Scipy.sparse.csr_matrix), в которой строки соответствуют сессиям из *session_length* сайтов, а *max(site_id)* столбцов – количеству посещений *site_id* в сессии. \n",
    "- вектор *y* (Numpy array) \"ответов\" в виде ID пользователей, которым принадлежат сессии из *X_sparse*\n",
    "\n",
    "Детали:\n",
    "- Модифицируйте созданную в 1 части функцию *prepare_train_set*\n",
    "- Некоторые сессии могут повторяться – оставьте как есть, не удаляйте дубликаты\n",
    "- Замеряйте время выполнения итераций цикла с помощью *time* из *time*, *tqdm* из *tqdm* или с помощью виджета [log_progress](https://github.com/alexanderkuk/log-progress) ([статья](https://habrahabr.ru/post/276725/) о нем на Хабрахабре)\n",
    "- 150 файлов из *capstone_websites_data/150users/* должны обрабатываться за несколько секунд (в зависимости от входных параметров). Если дольше – не страшно, но знайте, что функцию можно ускорить. "
   ]
  },
  {
   "cell_type": "code",
   "execution_count": null,
   "metadata": {
    "colab": {
     "base_uri": "https://localhost:8080/",
     "height": 122
    },
    "colab_type": "code",
    "executionInfo": {
     "elapsed": 35376,
     "status": "ok",
     "timestamp": 1599046199865,
     "user": {
      "displayName": "Павел Ананьев",
      "photoUrl": "",
      "userId": "07746041064703407151"
     },
     "user_tz": -180
    },
    "id": "u_9rTyfpELQL",
    "outputId": "667088c9-70a1-48c5-8d70-fee9dab49034"
   },
   "outputs": [
    {
     "name": "stdout",
     "output_type": "stream",
     "text": [
      "Go to this URL in a browser: https://accounts.google.com/o/oauth2/auth?client_id=947318989803-6bn6qk8qdgf4n4g3pfee6491hc0brc4i.apps.googleusercontent.com&redirect_uri=urn%3aietf%3awg%3aoauth%3a2.0%3aoob&scope=email%20https%3a%2f%2fwww.googleapis.com%2fauth%2fdocs.test%20https%3a%2f%2fwww.googleapis.com%2fauth%2fdrive%20https%3a%2f%2fwww.googleapis.com%2fauth%2fdrive.photos.readonly%20https%3a%2f%2fwww.googleapis.com%2fauth%2fpeopleapi.readonly&response_type=code\n",
      "\n",
      "Enter your authorization code:\n",
      "··········\n",
      "Mounted at /content/drive\n"
     ]
    }
   ],
   "source": [
    "from google.colab import drive\n",
    "drive.mount('/content/drive')"
   ]
  },
  {
   "cell_type": "code",
   "execution_count": 1,
   "metadata": {
    "colab": {},
    "colab_type": "code",
    "id": "stENd2fIA1rO"
   },
   "outputs": [],
   "source": [
    "from __future__ import division, print_function\n",
    "# отключим всякие предупреждения Anaconda\n",
    "import warnings\n",
    "warnings.filterwarnings('ignore')\n",
    "from glob import glob\n",
    "import os\n",
    "import pickle\n",
    "from tqdm import tqdm\n",
    "import numpy as np\n",
    "import pandas as pd\n",
    "from scipy.sparse import csr_matrix\n",
    "from scipy import stats\n",
    "from statsmodels.stats.proportion import proportion_confint\n",
    "%matplotlib inline\n",
    "from matplotlib import pyplot as plt\n",
    "import re"
   ]
  },
  {
   "cell_type": "code",
   "execution_count": 5,
   "metadata": {
    "colab": {},
    "colab_type": "code",
    "id": "J8cx6fc-A1rk"
   },
   "outputs": [],
   "source": [
    "# Поменяйте на свой путь к данным\n",
    "is_colab = False\n",
    "if is_colab:\n",
    "    from google.colab import drive\n",
    "    drive.mount('/content/drive')\n",
    "    PATH_TO_DATA = ('/content/drive/My Drive/ML\\DS/Yandex_MIPT_coursera/Course6/Final1/capstone_user_identification')\n",
    "else:\n",
    "    PATH_TO_DATA = ('capstone_user_identification/')"
   ]
  },
  {
   "cell_type": "code",
   "execution_count": 2,
   "metadata": {
    "colab": {},
    "colab_type": "code",
    "id": "mJlleUpYcN1W"
   },
   "outputs": [],
   "source": [
    "import itertools\n",
    "def get_sparse_matrix(X):\n",
    "    '''\n",
    "    Converts session matrix X to sparse of specified shape\n",
    "    '''\n",
    "    rows, cols, vals = np.asarray(list(itertools.chain.from_iterable([zip([i]*len(row), \\\n",
    "               *np.unique(row, return_counts=True)) for i, row in enumerate(X)]))).T\n",
    "\n",
    "    return csr_matrix((vals, (rows, cols)), shape=(len(X), np.max(X)+1))[:, 1:]"
   ]
  },
  {
   "cell_type": "code",
   "execution_count": 7,
   "metadata": {
    "colab": {},
    "colab_type": "code",
    "id": "BLkkZDvFA1rv"
   },
   "outputs": [],
   "source": [
    "def prepare_sparse_train_set_window(path_to_csv_files, site_freq_path, \n",
    "                                    session_length=10, window_size=10):\n",
    "    files = sorted(glob(os.path.join(path_to_csv_files, '*.csv')))\n",
    "    file_names = [name for name in sorted(os.listdir(path_to_csv_files)) if not name.startswith('.')]\n",
    "    pattern = re.compile(r'\\d+')\n",
    "    user_ids = [int(re.search(pattern, n).group(0)) for n in file_names]\n",
    "    \n",
    "    with open(site_freq_path, 'rb') as f:\n",
    "        site_freq = pickle.load(f)\n",
    "        \n",
    "    rows, ids = [], []\n",
    "\n",
    "    for ind, file in tqdm(enumerate(files)):\n",
    "        f = pd.read_csv(file)\n",
    "        # Split file into pieces of size \"session_length\" with sliding window\n",
    "        row = [f.site.values[i:i+session_length] for i in range(0, len(f), window_size)]\n",
    "        # Create rows of DataFrame\n",
    "        rows.extend(row)\n",
    "        # Create values for user_id column\n",
    "        ids.extend([user_ids[ind]] * len(row))\n",
    "\n",
    "    # Create DataFrame of user sessions\n",
    "    col_names = ['site%i' % i for i in range(1, session_length+1)]\n",
    "    df = pd.DataFrame(rows, columns=col_names)\n",
    "    # Replace sites names with their ids in order of descending frequencies and add user_id column\n",
    "    df = df.applymap(lambda x: site_freq.get(x, [None])[0]) \\\n",
    "        .fillna(0).astype(int)\n",
    "    df.columns = col_names\n",
    "    X = df.values\n",
    "    df['user_id'] = ids\n",
    "    # Get X sparse\n",
    "    X_sparse = get_sparse_matrix(X)\n",
    "    return X_sparse, ids"
   ]
  },
  {
   "cell_type": "markdown",
   "metadata": {
    "colab_type": "text",
    "id": "hjB13v3ZA1r9"
   },
   "source": [
    "**Примените полученную функцию с параметрами *session_length=5* и *window_size=3* к игрушечному примеру. Убедитесь, что все работает как надо.**"
   ]
  },
  {
   "cell_type": "code",
   "execution_count": 8,
   "metadata": {
    "colab": {
     "base_uri": "https://localhost:8080/",
     "height": 34
    },
    "colab_type": "code",
    "executionInfo": {
     "elapsed": 3096,
     "status": "ok",
     "timestamp": 1599046246841,
     "user": {
      "displayName": "Павел Ананьев",
      "photoUrl": "",
      "userId": "07746041064703407151"
     },
     "user_tz": -180
    },
    "id": "yD8Q5xKOA1sA",
    "outputId": "4abcb777-a59a-435d-dc8e-2f38d9d259bc"
   },
   "outputs": [
    {
     "name": "stderr",
     "output_type": "stream",
     "text": [
      "3it [00:00, 523.74it/s]\n"
     ]
    }
   ],
   "source": [
    "X_toy_s5_w3, y_s5_w3 = prepare_sparse_train_set_window(os.path.join(PATH_TO_DATA,'3users'), \n",
    "                                                       os.path.join(PATH_TO_DATA,'site_freq_3users.pkl'),\n",
    "                                       session_length=5, window_size=3)"
   ]
  },
  {
   "cell_type": "code",
   "execution_count": 9,
   "metadata": {},
   "outputs": [
    {
     "data": {
      "text/plain": [
       "matrix([[0, 3, 1, 0, 0, 0, 1, 0, 0, 0, 0],\n",
       "        [1, 1, 0, 0, 1, 0, 1, 1, 0, 0, 0],\n",
       "        [0, 0, 1, 0, 1, 0, 0, 1, 1, 1, 0],\n",
       "        [3, 0, 1, 0, 0, 0, 0, 0, 0, 1, 0],\n",
       "        [2, 0, 0, 0, 0, 0, 0, 0, 0, 0, 0],\n",
       "        [0, 2, 1, 0, 0, 2, 0, 0, 0, 0, 0],\n",
       "        [0, 1, 0, 0, 0, 1, 0, 0, 0, 0, 0],\n",
       "        [2, 2, 0, 1, 0, 0, 0, 0, 0, 0, 0],\n",
       "        [3, 1, 0, 0, 1, 0, 0, 0, 0, 0, 0],\n",
       "        [1, 0, 0, 2, 1, 0, 0, 0, 0, 0, 1],\n",
       "        [1, 1, 0, 2, 0, 0, 0, 0, 0, 0, 0],\n",
       "        [0, 1, 0, 0, 0, 0, 0, 0, 0, 0, 0]])"
      ]
     },
     "execution_count": 9,
     "metadata": {},
     "output_type": "execute_result"
    }
   ],
   "source": [
    "X_toy_s5_w3.todense()"
   ]
  },
  {
   "cell_type": "code",
   "execution_count": 10,
   "metadata": {
    "colab": {
     "base_uri": "https://localhost:8080/",
     "height": 34
    },
    "colab_type": "code",
    "executionInfo": {
     "elapsed": 676,
     "status": "ok",
     "timestamp": 1599046254501,
     "user": {
      "displayName": "Павел Ананьев",
      "photoUrl": "",
      "userId": "07746041064703407151"
     },
     "user_tz": -180
    },
    "id": "pWj_nCKuA1sQ",
    "outputId": "f549173b-4033-491d-caf3-b950554597fa"
   },
   "outputs": [
    {
     "data": {
      "text/plain": [
       "[1, 1, 1, 1, 1, 2, 2, 3, 3, 3, 3, 3]"
      ]
     },
     "execution_count": 10,
     "metadata": {},
     "output_type": "execute_result"
    }
   ],
   "source": [
    "y_s5_w3"
   ]
  },
  {
   "cell_type": "markdown",
   "metadata": {
    "colab_type": "text",
    "id": "DvKNLnnrA1s2"
   },
   "source": [
    "**Запустите созданную функцию 16 раз с помощью циклов по числу пользователей num_users (10 или 150), значениям параметра *session_length* (15, 10, 7 или 5) и значениям параметра *window_size* (10, 7 или 5). Сериализуйте все 16 разреженных матриц (обучающие выборки) и векторов (метки целевого класса – ID пользователя) в файлы `X_sparse_{num_users}users_s{session_length}_w{window_size}.pkl` и `y_{num_users}users_s{session_length}_w{window_size}.pkl`.**\n",
    "\n",
    "**Чтоб убедиться, что мы все далее будем работать с идентичными объектами, запишите в список *data_lengths* число строк во всех полученных рареженных матрицах (16 значений). Если какие-то будут совпадать, это нормально (можно сообразить, почему).**\n",
    "\n",
    "**На моем ноутбуке этот участок кода отработал за 26 секунд, хотя понятно, что все зависит от эффективности реализации функции *prepare_sparse_train_set_window* и мощности используемого железа. И честно говоря, моя первая реализация была намного менее эффективной (34 минуты), так что тут у Вас есть возможность оптимизировать свой код.**"
   ]
  },
  {
   "cell_type": "code",
   "execution_count": 11,
   "metadata": {
    "colab": {
     "base_uri": "https://localhost:8080/",
     "height": 323
    },
    "colab_type": "code",
    "executionInfo": {
     "elapsed": 92835,
     "status": "ok",
     "timestamp": 1598963830122,
     "user": {
      "displayName": "Павел Ананьев",
      "photoUrl": "",
      "userId": "07746041064703407151"
     },
     "user_tz": 0
    },
    "id": "FkaHJJHnA1s4",
    "outputId": "2b5e21f0-8b8b-4d9c-d3a5-4766633f1108"
   },
   "outputs": [
    {
     "name": "stderr",
     "output_type": "stream",
     "text": [
      "10it [00:00, 61.99it/s]\n",
      "10it [00:00, 56.09it/s]\n",
      "10it [00:00, 56.60it/s]\n",
      "10it [00:00, 59.34it/s]\n",
      "10it [00:00, 46.11it/s]\n",
      "10it [00:00, 43.89it/s]\n",
      "10it [00:00, 46.82it/s]\n",
      "10it [00:00, 48.08it/s]\n",
      "150it [00:01, 99.19it/s] \n",
      "150it [00:01, 86.15it/s]\n",
      "150it [00:01, 88.66it/s]\n",
      "150it [00:01, 88.15it/s]\n",
      "150it [00:02, 72.51it/s]\n",
      "150it [00:02, 69.99it/s]\n",
      "150it [00:02, 72.54it/s]\n",
      "150it [00:02, 71.92it/s]\n"
     ]
    },
    {
     "name": "stdout",
     "output_type": "stream",
     "text": [
      "CPU times: user 1min 25s, sys: 1.88 s, total: 1min 26s\n",
      "Wall time: 1min 28s\n"
     ]
    }
   ],
   "source": [
    "%%time\n",
    "data_lengths = []\n",
    "\n",
    "for num_users in [10, 150]:\n",
    "    for window_size, session_length in itertools.product([10, 7, 5], [15, 10, 7, 5]):\n",
    "        if window_size <= session_length and (window_size, session_length) != (10, 10):\n",
    "            X_sparse, y = prepare_sparse_train_set_window(\n",
    "                          os.path.join(PATH_TO_DATA,'{0}users'.format(num_users)), \n",
    "                          os.path.join(PATH_TO_DATA,'site_freq_{0}users.pkl'.format(num_users)),\n",
    "                          session_length=session_length, window_size=window_size)\n",
    "            \n",
    "            data_lengths.append(X_sparse.shape[0])\n",
    "\n",
    "            with open(os.path.join(PATH_TO_DATA, \\\n",
    "                      'X_sparse_{0}users_s{1}_w{2}.pkl' \\\n",
    "                      .format(num_users, session_length, window_size)), 'wb') as fx:\n",
    "                pickle.dump(X_sparse, fx, protocol=2)\n",
    "\n",
    "            with open(os.path.join(PATH_TO_DATA, \\\n",
    "                      'y_{0}users_s{1}_w{2}.pkl' \\\n",
    "                      .format(num_users, session_length, window_size)), 'wb') as fy:\n",
    "                pickle.dump(y, fy, protocol=2)"
   ]
  },
  {
   "cell_type": "markdown",
   "metadata": {
    "colab_type": "text",
    "id": "GfwLVvWDA1tB"
   },
   "source": [
    "**Запишите в файл *answer2_1.txt* все числа из списка *data_lengths* через пробел. Полученный файл будет ответом на 1 вопрос теста.**"
   ]
  },
  {
   "cell_type": "code",
   "execution_count": 12,
   "metadata": {
    "colab": {},
    "colab_type": "code",
    "id": "xSRXxJUeA1tB"
   },
   "outputs": [],
   "source": [
    "def write_answer_to_file(answer, file_address):\n",
    "    with open(file_address, 'w') as out_f:\n",
    "        out_f.write(str(answer))"
   ]
  },
  {
   "cell_type": "code",
   "execution_count": 13,
   "metadata": {
    "colab": {
     "base_uri": "https://localhost:8080/",
     "height": 289
    },
    "colab_type": "code",
    "executionInfo": {
     "elapsed": 1582,
     "status": "ok",
     "timestamp": 1598963946312,
     "user": {
      "displayName": "Павел Ананьев",
      "photoUrl": "",
      "userId": "07746041064703407151"
     },
     "user_tz": 0
    },
    "id": "RedBmYonrXJT",
    "outputId": "45b2a3a8-591e-4cf4-ece9-5fac74ce2927"
   },
   "outputs": [
    {
     "data": {
      "text/plain": [
       "[14061,\n",
       " 20087,\n",
       " 20087,\n",
       " 20087,\n",
       " 28118,\n",
       " 28118,\n",
       " 28118,\n",
       " 28118,\n",
       " 137019,\n",
       " 195712,\n",
       " 195712,\n",
       " 195712,\n",
       " 273957,\n",
       " 273957,\n",
       " 273957,\n",
       " 273957]"
      ]
     },
     "execution_count": 13,
     "metadata": {},
     "output_type": "execute_result"
    }
   ],
   "source": [
    "data_lengths"
   ]
  },
  {
   "cell_type": "code",
   "execution_count": null,
   "metadata": {
    "colab": {},
    "colab_type": "code",
    "id": "w3JvBXsNA1tC"
   },
   "outputs": [],
   "source": [
    "write_answer_to_file(' '.join(map(str, data_lengths)), \n",
    "                     'answer2_1.txt')"
   ]
  },
  {
   "cell_type": "markdown",
   "metadata": {
    "colab_type": "text",
    "id": "1PA4w6mrA1tC"
   },
   "source": [
    "## Часть 2. Первичный анализ данных, проверка гипотез"
   ]
  },
  {
   "cell_type": "markdown",
   "metadata": {
    "colab_type": "raw",
    "id": "AZIFqA0zA1tS"
   },
   "source": [
    "**Считаем в DataFrame подготовленный на 1 неделе файл `train_data_10users.csv`. Далее будем работать с ним.**"
   ]
  },
  {
   "cell_type": "code",
   "execution_count": 14,
   "metadata": {
    "colab": {},
    "colab_type": "code",
    "id": "aL0svkIYA1tS"
   },
   "outputs": [],
   "source": [
    "train_df = pd.read_csv(os.path.join(PATH_TO_DATA, 'train_data_10users.csv'), \n",
    "                       index_col='session_id')"
   ]
  },
  {
   "cell_type": "code",
   "execution_count": 15,
   "metadata": {
    "colab": {
     "base_uri": "https://localhost:8080/",
     "height": 235
    },
    "colab_type": "code",
    "executionInfo": {
     "elapsed": 714,
     "status": "ok",
     "timestamp": 1599046289793,
     "user": {
      "displayName": "Павел Ананьев",
      "photoUrl": "",
      "userId": "07746041064703407151"
     },
     "user_tz": -180
    },
    "id": "EC7rSHM-A1uD",
    "outputId": "830c515f-9088-4a99-9865-eec1ee5f8732"
   },
   "outputs": [
    {
     "data": {
      "text/html": [
       "<div>\n",
       "<style scoped>\n",
       "    .dataframe tbody tr th:only-of-type {\n",
       "        vertical-align: middle;\n",
       "    }\n",
       "\n",
       "    .dataframe tbody tr th {\n",
       "        vertical-align: top;\n",
       "    }\n",
       "\n",
       "    .dataframe thead th {\n",
       "        text-align: right;\n",
       "    }\n",
       "</style>\n",
       "<table border=\"1\" class=\"dataframe\">\n",
       "  <thead>\n",
       "    <tr style=\"text-align: right;\">\n",
       "      <th></th>\n",
       "      <th>site1</th>\n",
       "      <th>site2</th>\n",
       "      <th>site3</th>\n",
       "      <th>site4</th>\n",
       "      <th>site5</th>\n",
       "      <th>site6</th>\n",
       "      <th>site7</th>\n",
       "      <th>site8</th>\n",
       "      <th>site9</th>\n",
       "      <th>site10</th>\n",
       "      <th>user_id</th>\n",
       "    </tr>\n",
       "    <tr>\n",
       "      <th>session_id</th>\n",
       "      <th></th>\n",
       "      <th></th>\n",
       "      <th></th>\n",
       "      <th></th>\n",
       "      <th></th>\n",
       "      <th></th>\n",
       "      <th></th>\n",
       "      <th></th>\n",
       "      <th></th>\n",
       "      <th></th>\n",
       "      <th></th>\n",
       "    </tr>\n",
       "  </thead>\n",
       "  <tbody>\n",
       "    <tr>\n",
       "      <th>0</th>\n",
       "      <td>192</td>\n",
       "      <td>574</td>\n",
       "      <td>133</td>\n",
       "      <td>3</td>\n",
       "      <td>133</td>\n",
       "      <td>133</td>\n",
       "      <td>3</td>\n",
       "      <td>133</td>\n",
       "      <td>203</td>\n",
       "      <td>133</td>\n",
       "      <td>31</td>\n",
       "    </tr>\n",
       "    <tr>\n",
       "      <th>1</th>\n",
       "      <td>415</td>\n",
       "      <td>193</td>\n",
       "      <td>674</td>\n",
       "      <td>254</td>\n",
       "      <td>133</td>\n",
       "      <td>31</td>\n",
       "      <td>393</td>\n",
       "      <td>3305</td>\n",
       "      <td>217</td>\n",
       "      <td>55</td>\n",
       "      <td>31</td>\n",
       "    </tr>\n",
       "    <tr>\n",
       "      <th>2</th>\n",
       "      <td>55</td>\n",
       "      <td>3</td>\n",
       "      <td>55</td>\n",
       "      <td>55</td>\n",
       "      <td>5</td>\n",
       "      <td>293</td>\n",
       "      <td>415</td>\n",
       "      <td>333</td>\n",
       "      <td>897</td>\n",
       "      <td>55</td>\n",
       "      <td>31</td>\n",
       "    </tr>\n",
       "    <tr>\n",
       "      <th>3</th>\n",
       "      <td>473</td>\n",
       "      <td>3306</td>\n",
       "      <td>473</td>\n",
       "      <td>55</td>\n",
       "      <td>55</td>\n",
       "      <td>55</td>\n",
       "      <td>55</td>\n",
       "      <td>937</td>\n",
       "      <td>199</td>\n",
       "      <td>123</td>\n",
       "      <td>31</td>\n",
       "    </tr>\n",
       "    <tr>\n",
       "      <th>4</th>\n",
       "      <td>342</td>\n",
       "      <td>55</td>\n",
       "      <td>5</td>\n",
       "      <td>3307</td>\n",
       "      <td>258</td>\n",
       "      <td>211</td>\n",
       "      <td>3308</td>\n",
       "      <td>2086</td>\n",
       "      <td>675</td>\n",
       "      <td>2086</td>\n",
       "      <td>31</td>\n",
       "    </tr>\n",
       "  </tbody>\n",
       "</table>\n",
       "</div>"
      ],
      "text/plain": [
       "            site1  site2  site3  site4  site5  site6  site7  site8  site9  \\\n",
       "session_id                                                                  \n",
       "0             192    574    133      3    133    133      3    133    203   \n",
       "1             415    193    674    254    133     31    393   3305    217   \n",
       "2              55      3     55     55      5    293    415    333    897   \n",
       "3             473   3306    473     55     55     55     55    937    199   \n",
       "4             342     55      5   3307    258    211   3308   2086    675   \n",
       "\n",
       "            site10  user_id  \n",
       "session_id                   \n",
       "0              133       31  \n",
       "1               55       31  \n",
       "2               55       31  \n",
       "3              123       31  \n",
       "4             2086       31  "
      ]
     },
     "execution_count": 15,
     "metadata": {},
     "output_type": "execute_result"
    }
   ],
   "source": [
    "train_df.head()"
   ]
  },
  {
   "cell_type": "code",
   "execution_count": 16,
   "metadata": {
    "colab": {
     "base_uri": "https://localhost:8080/",
     "height": 289
    },
    "colab_type": "code",
    "executionInfo": {
     "elapsed": 1273,
     "status": "ok",
     "timestamp": 1599046298871,
     "user": {
      "displayName": "Павел Ананьев",
      "photoUrl": "",
      "userId": "07746041064703407151"
     },
     "user_tz": -180
    },
    "id": "Hfa_jw1UA1uG",
    "outputId": "4e592adf-7ea3-45c5-d57e-bc14a07b076f"
   },
   "outputs": [
    {
     "name": "stdout",
     "output_type": "stream",
     "text": [
      "<class 'pandas.core.frame.DataFrame'>\n",
      "Int64Index: 14061 entries, 0 to 14060\n",
      "Data columns (total 11 columns):\n",
      " #   Column   Non-Null Count  Dtype\n",
      "---  ------   --------------  -----\n",
      " 0   site1    14061 non-null  int64\n",
      " 1   site2    14061 non-null  int64\n",
      " 2   site3    14061 non-null  int64\n",
      " 3   site4    14061 non-null  int64\n",
      " 4   site5    14061 non-null  int64\n",
      " 5   site6    14061 non-null  int64\n",
      " 6   site7    14061 non-null  int64\n",
      " 7   site8    14061 non-null  int64\n",
      " 8   site9    14061 non-null  int64\n",
      " 9   site10   14061 non-null  int64\n",
      " 10  user_id  14061 non-null  int64\n",
      "dtypes: int64(11)\n",
      "memory usage: 1.3 MB\n"
     ]
    }
   ],
   "source": [
    "train_df.info()"
   ]
  },
  {
   "cell_type": "markdown",
   "metadata": {
    "colab_type": "text",
    "id": "W-vv1BvoA1uV"
   },
   "source": [
    "**Распределение целевого класса:**"
   ]
  },
  {
   "cell_type": "code",
   "execution_count": 17,
   "metadata": {},
   "outputs": [
    {
     "data": {
      "text/plain": [
       "128    2796\n",
       "39     2204\n",
       "207    1868\n",
       "127    1712\n",
       "237    1643\n",
       "33     1022\n",
       "50      802\n",
       "31      760\n",
       "100     720\n",
       "241     534\n",
       "Name: user_id, dtype: int64"
      ]
     },
     "execution_count": 17,
     "metadata": {},
     "output_type": "execute_result"
    }
   ],
   "source": [
    "train_df['user_id'].value_counts()"
   ]
  },
  {
   "cell_type": "markdown",
   "metadata": {
    "colab_type": "text",
    "id": "z_BoKGXxA1u7"
   },
   "source": [
    "**Посчитаем распределение числа уникальных сайтов в каждой сессии из 10 посещенных подряд сайтов.**"
   ]
  },
  {
   "cell_type": "code",
   "execution_count": 18,
   "metadata": {
    "colab": {},
    "colab_type": "code",
    "id": "DCIadb-UA1u8"
   },
   "outputs": [],
   "source": [
    "num_unique_sites = [np.unique(train_df.values[i, :-1]).shape[0] \n",
    "                    for i in range(train_df.shape[0])]"
   ]
  },
  {
   "cell_type": "code",
   "execution_count": 19,
   "metadata": {
    "colab": {
     "base_uri": "https://localhost:8080/",
     "height": 204
    },
    "colab_type": "code",
    "executionInfo": {
     "elapsed": 833,
     "status": "ok",
     "timestamp": 1599047890000,
     "user": {
      "displayName": "Павел Ананьев",
      "photoUrl": "",
      "userId": "07746041064703407151"
     },
     "user_tz": -180
    },
    "id": "kQocCJ5-A1vF",
    "outputId": "1b1af7d2-5316-4f4d-b436-011babf42f47"
   },
   "outputs": [
    {
     "data": {
      "text/plain": [
       "7     2308\n",
       "6     2197\n",
       "8     2046\n",
       "5     1735\n",
       "9     1394\n",
       "2     1246\n",
       "4     1163\n",
       "3      894\n",
       "10     651\n",
       "1      427\n",
       "dtype: int64"
      ]
     },
     "execution_count": 19,
     "metadata": {},
     "output_type": "execute_result"
    }
   ],
   "source": [
    "pd.Series(num_unique_sites).value_counts()"
   ]
  },
  {
   "cell_type": "code",
   "execution_count": 20,
   "metadata": {
    "colab": {
     "base_uri": "https://localhost:8080/",
     "height": 269
    },
    "colab_type": "code",
    "executionInfo": {
     "elapsed": 908,
     "status": "ok",
     "timestamp": 1599047895373,
     "user": {
      "displayName": "Павел Ананьев",
      "photoUrl": "",
      "userId": "07746041064703407151"
     },
     "user_tz": -180
    },
    "id": "HoNyOgekA1vI",
    "outputId": "4782c53d-4b3a-48eb-96d2-09c46b305708"
   },
   "outputs": [
    {
     "data": {
      "image/png": "[encoded data removed]",
      "text/plain": [
       "<Figure size 432x288 with 1 Axes>"
      ]
     },
     "metadata": {
      "needs_background": "light"
     },
     "output_type": "display_data"
    }
   ],
   "source": [
    "pd.Series(num_unique_sites).hist();"
   ]
  },
  {
   "cell_type": "markdown",
   "metadata": {
    "colab_type": "text",
    "id": "xruNmXlTA1vY"
   },
   "source": [
    "**Проверьте с помощью QQ-плота и критерия Шапиро-Уилка, что эта величина распределена нормально. Сделайте вывод. Ответом на второй вопрос в тесте будет файл со словом \"YES\" или \"NO\" в зависимости от того, распределено ли нормально число уникальных сайтов в сессии.**"
   ]
  },
  {
   "cell_type": "code",
   "execution_count": 21,
   "metadata": {
    "colab": {
     "base_uri": "https://localhost:8080/",
     "height": 295
    },
    "colab_type": "code",
    "executionInfo": {
     "elapsed": 914,
     "status": "ok",
     "timestamp": 1599048604169,
     "user": {
      "displayName": "Павел Ананьев",
      "photoUrl": "",
      "userId": "07746041064703407151"
     },
     "user_tz": -180
    },
    "id": "xjusyN6xA1vY",
    "outputId": "8bd6a861-75e8-4d7d-fc7a-f4ba931a1782"
   },
   "outputs": [
    {
     "data": {
      "image/png": "[encoded data removed]",
      "text/plain": [
       "<Figure size 432x288 with 1 Axes>"
      ]
     },
     "metadata": {
      "needs_background": "light"
     },
     "output_type": "display_data"
    }
   ],
   "source": [
    "stats.probplot(num_unique_sites, plot=plt, rvalue=True);"
   ]
  },
  {
   "cell_type": "code",
   "execution_count": 22,
   "metadata": {
    "colab": {
     "base_uri": "https://localhost:8080/",
     "height": 34
    },
    "colab_type": "code",
    "executionInfo": {
     "elapsed": 753,
     "status": "ok",
     "timestamp": 1599048605973,
     "user": {
      "displayName": "Павел Ананьев",
      "photoUrl": "",
      "userId": "07746041064703407151"
     },
     "user_tz": -180
    },
    "id": "XTTAY0AfA1wC",
    "outputId": "8cb13778-ca41-4d1d-fa28-8a55e5e1c732"
   },
   "outputs": [
    {
     "name": "stdout",
     "output_type": "stream",
     "text": [
      "p-value for Shapiro-Wilk test = 0.0\n"
     ]
    }
   ],
   "source": [
    "_, p = stats.shapiro(num_unique_sites)\n",
    "print('p-value for Shapiro-Wilk test =', p)"
   ]
  },
  {
   "cell_type": "markdown",
   "metadata": {
    "colab_type": "text",
    "id": "TJhU6n15uZ34"
   },
   "source": [
    "Тест Шапиро-Уилка отвергает гипотезу о том, что величина распределена нормально."
   ]
  },
  {
   "cell_type": "code",
   "execution_count": null,
   "metadata": {
    "colab": {},
    "colab_type": "code",
    "id": "LTJIGzytA1wK"
   },
   "outputs": [],
   "source": [
    "write_answer_to_file('NO', \n",
    "                     'answer2_2.txt')"
   ]
  },
  {
   "cell_type": "markdown",
   "metadata": {
    "colab_type": "text",
    "id": "SQxDQQcqA1wL"
   },
   "source": [
    "**Проверьте гипотезу о том, что пользователь хотя бы раз зайдет на сайт, который он уже ранее посетил в сессии из 10 сайтов. Давайте проверим с помощью биномиального критерия для доли, что доля случаев, когда пользователь повторно посетил какой-то сайт (то есть число уникальных сайтов в сессии < 10) велика: больше 95% (обратите внимание, что альтернатива тому, что доля равна 95% –  одностороняя). Ответом на 3 вопрос в тесте будет полученное p-value.**"
   ]
  },
  {
   "cell_type": "code",
   "execution_count": 23,
   "metadata": {
    "colab": {},
    "colab_type": "code",
    "id": "QlK_EyFhA1wL"
   },
   "outputs": [
    {
     "name": "stdout",
     "output_type": "stream",
     "text": [
      "Binomial test p-value = 0.02207653769072678\n"
     ]
    }
   ],
   "source": [
    "has_two_similar = (np.array(num_unique_sites) < 10).astype('int')\n",
    "pi_val = stats.binom_test(np.sum(has_two_similar), len(has_two_similar), p=0.95, alternative='greater')\n",
    "print('Binomial test p-value =', pi_val)"
   ]
  },
  {
   "cell_type": "code",
   "execution_count": null,
   "metadata": {
    "colab": {},
    "colab_type": "code",
    "id": "a3pdXS95A1xA"
   },
   "outputs": [],
   "source": [
    "write_answer_to_file(pi_val, \n",
    "                     'answer2_3.txt')"
   ]
  },
  {
   "cell_type": "markdown",
   "metadata": {
    "colab_type": "text",
    "id": "2gTdgK7wA1xZ"
   },
   "source": [
    "**Постройте для этой доли 95% доверительный интервал Уилсона. Округлите границы интервала до 3 знаков после запятой и запишите через пробел в файл *answer2_4.txt*. Это будет ответом на 4 вопрос теста.**"
   ]
  },
  {
   "cell_type": "code",
   "execution_count": 24,
   "metadata": {
    "colab": {},
    "colab_type": "code",
    "id": "kkLTwDUEA1xb"
   },
   "outputs": [
    {
     "name": "stdout",
     "output_type": "stream",
     "text": [
      "Confidence interval = [0.95, 0.957]\n"
     ]
    }
   ],
   "source": [
    "wilson_interval = proportion_confint(np.sum(has_two_similar), len(has_two_similar), method='wilson')\n",
    "print('Confidence interval = [{}, {}]'.format(round(wilson_interval[0], 3),\n",
    "                                   round(wilson_interval[1], 3)))"
   ]
  },
  {
   "cell_type": "code",
   "execution_count": null,
   "metadata": {
    "colab": {},
    "colab_type": "code",
    "id": "0hcPK3bkA1xq"
   },
   "outputs": [],
   "source": [
    "write_answer_to_file('{} {}'.format(round(wilson_interval[0], 3),\n",
    "                                   round(wilson_interval[1], 3)), \n",
    "                     'answer2_4.txt')"
   ]
  },
  {
   "cell_type": "markdown",
   "metadata": {
    "colab_type": "text",
    "id": "OpJux313A1xy"
   },
   "source": [
    "**Постройте распределение частоты посещения сайтов (сколько раз тот или иной сайт попадается в выборке) для сайтов, которые были посещены как минимум 1000 раз.**"
   ]
  },
  {
   "cell_type": "code",
   "execution_count": 25,
   "metadata": {
    "colab": {},
    "colab_type": "code",
    "id": "g3Tdt3nBztBA"
   },
   "outputs": [],
   "source": [
    "with open(os.path.join(PATH_TO_DATA, 'site_freq_10users.pkl'), 'rb') as f:\n",
    "    site_freqs = pickle.load(f)"
   ]
  },
  {
   "cell_type": "code",
   "execution_count": 26,
   "metadata": {
    "colab": {},
    "colab_type": "code",
    "id": "1IgEYUWKA1x7"
   },
   "outputs": [],
   "source": [
    "site_freqs_np = np.array(list(site_freqs.values()))\n",
    "indices = site_freqs_np[:, 1] >= 1000\n",
    "popular_sites = site_freqs_np[indices, 1]"
   ]
  },
  {
   "cell_type": "code",
   "execution_count": 27,
   "metadata": {
    "colab": {
     "base_uri": "https://localhost:8080/",
     "height": 68
    },
    "colab_type": "code",
    "executionInfo": {
     "elapsed": 680,
     "status": "ok",
     "timestamp": 1599050774235,
     "user": {
      "displayName": "Павел Ананьев",
      "photoUrl": "",
      "userId": "07746041064703407151"
     },
     "user_tz": -180
    },
    "id": "19R-gARb1Bdz",
    "outputId": "bd265c8f-64fd-47af-8d15-21faf5a32713"
   },
   "outputs": [
    {
     "data": {
      "text/plain": [
       "array([8300, 7813, 5441, 4158, 4141, 3758, 3244, 3094, 2630, 2089, 1939,\n",
       "       1868, 1804, 1702, 1493, 1441, 1388, 1265, 1232, 1204, 1057, 1041,\n",
       "       1039, 1039, 1002])"
      ]
     },
     "execution_count": 27,
     "metadata": {},
     "output_type": "execute_result"
    }
   ],
   "source": [
    "popular_sites"
   ]
  },
  {
   "cell_type": "code",
   "execution_count": 28,
   "metadata": {
    "colab": {
     "base_uri": "https://localhost:8080/",
     "height": 286
    },
    "colab_type": "code",
    "executionInfo": {
     "elapsed": 688,
     "status": "ok",
     "timestamp": 1599050839324,
     "user": {
      "displayName": "Павел Ананьев",
      "photoUrl": "",
      "userId": "07746041064703407151"
     },
     "user_tz": -180
    },
    "id": "9zWjeV5HA1yA",
    "outputId": "9dd3204b-ec5c-4498-eae6-076dd4b590dd"
   },
   "outputs": [
    {
     "data": {
      "text/plain": [
       "<AxesSubplot:>"
      ]
     },
     "execution_count": 28,
     "metadata": {},
     "output_type": "execute_result"
    },
    {
     "data": {
      "image/png": "[encoded data removed]",
      "text/plain": [
       "<Figure size 432x288 with 1 Axes>"
      ]
     },
     "metadata": {
      "needs_background": "light"
     },
     "output_type": "display_data"
    }
   ],
   "source": [
    "pd.Series(popular_sites).hist()"
   ]
  },
  {
   "cell_type": "markdown",
   "metadata": {
    "colab_type": "text",
    "id": "q-Bpw-8_A1yB"
   },
   "source": [
    "**Постройте 95% доверительный интервал для средней частоты появления сайта в выборке (во всей, уже не только для тех сайтов, что были посещены как минимум 1000 раз) на основе bootstrap. Используйте столько же bootstrap-подвыборок, сколько сайтов оказалось в исходной выборке по 10 пользователям. Берите подвыборки из посчитанного списка частот посещений сайтов – не надо заново считать эти частоты. Учтите, что частоту появления нуля (сайт с индексом 0 появлялся там, где сессии были короче 10 сайтов) включать не надо. Округлите границы интервала до 3 знаков после запятой и запишите через пробел в файл *answer2_5.txt*. Это будет ответом на 5 вопрос теста.**"
   ]
  },
  {
   "cell_type": "code",
   "execution_count": 29,
   "metadata": {
    "colab": {},
    "colab_type": "code",
    "id": "lbMd-tUaA1yB"
   },
   "outputs": [],
   "source": [
    "def get_bootstrap_samples(data, n_samples, random_seed=17):\n",
    "    np.random.seed(random_seed)\n",
    "    indices = np.random.randint(0, len(data), (n_samples, len(data)))\n",
    "    samples = data[indices]\n",
    "    return samples"
   ]
  },
  {
   "cell_type": "code",
   "execution_count": 30,
   "metadata": {
    "colab": {},
    "colab_type": "code",
    "id": "xEp_Ij_dA1yQ"
   },
   "outputs": [],
   "source": [
    "def stat_intervals(stat, alpha):\n",
    "    boundaries = np.percentile(stat, \n",
    "                 [100 * alpha / 2., 100 * (1 - alpha / 2.)])\n",
    "    return boundaries"
   ]
  },
  {
   "cell_type": "code",
   "execution_count": 31,
   "metadata": {
    "colab": {},
    "colab_type": "code",
    "id": "G3FsC3bj6ppg"
   },
   "outputs": [],
   "source": [
    "site_freqs_np[:, 1].sort()\n",
    "sorted_site_freqs = np.flip(site_freqs_np[:, 1])"
   ]
  },
  {
   "cell_type": "code",
   "execution_count": 32,
   "metadata": {
    "colab": {},
    "colab_type": "code",
    "id": "DG1M0HbuA1yg"
   },
   "outputs": [],
   "source": [
    "a = get_bootstrap_samples(sorted_site_freqs, len(sorted_site_freqs)).mean(axis=1)\n",
    "b = stat_intervals(a, 0.05)"
   ]
  },
  {
   "cell_type": "code",
   "execution_count": 33,
   "metadata": {
    "colab": {},
    "colab_type": "code",
    "id": "lDq7gfkWSrDw",
    "outputId": "c505f439-c93e-4029-e7ed-75455023f480"
   },
   "outputs": [
    {
     "data": {
      "text/plain": [
       "array([22.51524527, 35.76303684])"
      ]
     },
     "execution_count": 33,
     "metadata": {},
     "output_type": "execute_result"
    }
   ],
   "source": [
    "b"
   ]
  },
  {
   "cell_type": "code",
   "execution_count": null,
   "metadata": {
    "colab": {},
    "colab_type": "code",
    "id": "JVDoY2VbA1zF"
   },
   "outputs": [],
   "source": [
    "write_answer_to_file('{} {}'.format(round(b[0], 3),\n",
    "                                   round(b[1], 3)), \n",
    "                                    'answer2_5.txt')"
   ]
  },
  {
   "cell_type": "markdown",
   "metadata": {
    "colab_type": "text",
    "id": "kdo1a9NnA1zi"
   },
   "source": [
    "## Пути улучшения\n",
    "В этом проекте свобода творчества на каждом шаге, а 7 неделя проекта посвящена общему описанию (`html`, `ipynb` или `pdf`) и взаимному оцениванию проектов. Что еще можно добавить по второй части проекта:\n",
    "- можно дополнительно рассматривать сессии с параметром – длиной сессии по времени. И составить выборки, скажем, для 5-, 10-, 15- и 20-минутных сессий (это как раз пригодится в [соревновании](https://inclass.kaggle.com/c/identify-me-if-you-can4) Kaggle Inclass)\n",
    "- можно провести больше первичного анализа и проверять прочие интересные гипотезы (а больше их появится после создания признаков на следующей неделе)\n",
    "\n",
    "На 3 неделе мы займемся визуальным анализом данных и построением признаков."
   ]
  }
 ],
 "metadata": {
  "anaconda-cloud": {},
  "colab": {
   "collapsed_sections": [
    "1PA4w6mrA1tC",
    "kdo1a9NnA1zi"
   ],
   "name": "week2.ipynb",
   "provenance": [],
   "toc_visible": true
  },
  "kernelspec": {
   "display_name": "Python 3",
   "language": "python",
   "name": "python3"
  },
  "language_info": {
   "codemirror_mode": {
    "name": "ipython",
    "version": 3
   },
   "file_extension": ".py",
   "mimetype": "text/x-python",
   "name": "python",
   "nbconvert_exporter": "python",
   "pygments_lexer": "ipython3",
   "version": "3.7.8"
  }
 },
 "nbformat": 4,
 "nbformat_minor": 4
}
