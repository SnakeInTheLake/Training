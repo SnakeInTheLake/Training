{
 "cells": [
  {
   "cell_type": "markdown",
   "metadata": {},
   "source": [
    "# Peer-graded Assignment: Анализ данных в задаче кредитного скоринга"
   ]
  },
  {
   "cell_type": "code",
   "execution_count": 2,
   "metadata": {
    "colab": {
     "base_uri": "https://localhost:8080/",
     "height": 54
    },
    "colab_type": "code",
    "executionInfo": {
     "elapsed": 1460,
     "status": "ok",
     "timestamp": 1596566814650,
     "user": {
      "displayName": "Павел Ананьев",
      "photoUrl": "",
      "userId": "07746041064703407151"
     },
     "user_tz": -180
    },
    "id": "qVMxhfsjAzMK",
    "outputId": "e5879332-c2e5-40ca-9253-dac885ea0149"
   },
   "outputs": [
    {
     "name": "stderr",
     "output_type": "stream",
     "text": [
      "/usr/local/lib/python3.6/dist-packages/statsmodels/tools/_testing.py:19: FutureWarning: pandas.util.testing is deprecated. Use the functions in the public API at pandas.testing instead.\n",
      "  import pandas.util.testing as tm\n"
     ]
    }
   ],
   "source": [
    "import pandas as pd\n",
    "import numpy as np\n",
    "import matplotlib.pyplot as plt\n",
    "import seaborn as sns\n",
    "from scipy import stats"
   ]
  },
  {
   "cell_type": "code",
   "execution_count": 3,
   "metadata": {
    "colab": {},
    "colab_type": "code",
    "executionInfo": {
     "elapsed": 1455,
     "status": "ok",
     "timestamp": 1596566814651,
     "user": {
      "displayName": "Павел Ананьев",
      "photoUrl": "",
      "userId": "07746041064703407151"
     },
     "user_tz": -180
    },
    "id": "BCoPpfAuCRTq"
   },
   "outputs": [],
   "source": [
    "sns.set(rc={'figure.figsize': (20, 10)})"
   ]
  },
  {
   "cell_type": "code",
   "execution_count": 4,
   "metadata": {
    "colab": {
     "base_uri": "https://localhost:8080/",
     "height": 258
    },
    "colab_type": "code",
    "executionInfo": {
     "elapsed": 1450,
     "status": "ok",
     "timestamp": 1596566814651,
     "user": {
      "displayName": "Павел Ананьев",
      "photoUrl": "",
      "userId": "07746041064703407151"
     },
     "user_tz": -180
    },
    "id": "3PSOeaLxAzOH",
    "outputId": "67f0bf94-a7db-4038-ee9b-b2a20ea7e5df"
   },
   "outputs": [
    {
     "data": {
      "text/html": [
       "<div>\n",
       "<style scoped>\n",
       "    .dataframe tbody tr th:only-of-type {\n",
       "        vertical-align: middle;\n",
       "    }\n",
       "\n",
       "    .dataframe tbody tr th {\n",
       "        vertical-align: top;\n",
       "    }\n",
       "\n",
       "    .dataframe thead th {\n",
       "        text-align: right;\n",
       "    }\n",
       "</style>\n",
       "<table border=\"1\" class=\"dataframe\">\n",
       "  <thead>\n",
       "    <tr style=\"text-align: right;\">\n",
       "      <th></th>\n",
       "      <th>LIMIT_BAL</th>\n",
       "      <th>SEX</th>\n",
       "      <th>EDUCATION</th>\n",
       "      <th>MARRIAGE</th>\n",
       "      <th>AGE</th>\n",
       "      <th>PAY_0</th>\n",
       "      <th>PAY_2</th>\n",
       "      <th>PAY_3</th>\n",
       "      <th>PAY_4</th>\n",
       "      <th>PAY_5</th>\n",
       "      <th>PAY_6</th>\n",
       "      <th>BILL_AMT1</th>\n",
       "      <th>BILL_AMT2</th>\n",
       "      <th>BILL_AMT3</th>\n",
       "      <th>BILL_AMT4</th>\n",
       "      <th>BILL_AMT5</th>\n",
       "      <th>BILL_AMT6</th>\n",
       "      <th>PAY_AMT1</th>\n",
       "      <th>PAY_AMT2</th>\n",
       "      <th>PAY_AMT3</th>\n",
       "      <th>PAY_AMT4</th>\n",
       "      <th>PAY_AMT5</th>\n",
       "      <th>PAY_AMT6</th>\n",
       "      <th>default</th>\n",
       "    </tr>\n",
       "    <tr>\n",
       "      <th>ID</th>\n",
       "      <th></th>\n",
       "      <th></th>\n",
       "      <th></th>\n",
       "      <th></th>\n",
       "      <th></th>\n",
       "      <th></th>\n",
       "      <th></th>\n",
       "      <th></th>\n",
       "      <th></th>\n",
       "      <th></th>\n",
       "      <th></th>\n",
       "      <th></th>\n",
       "      <th></th>\n",
       "      <th></th>\n",
       "      <th></th>\n",
       "      <th></th>\n",
       "      <th></th>\n",
       "      <th></th>\n",
       "      <th></th>\n",
       "      <th></th>\n",
       "      <th></th>\n",
       "      <th></th>\n",
       "      <th></th>\n",
       "      <th></th>\n",
       "    </tr>\n",
       "  </thead>\n",
       "  <tbody>\n",
       "    <tr>\n",
       "      <th>1</th>\n",
       "      <td>20000</td>\n",
       "      <td>2</td>\n",
       "      <td>2</td>\n",
       "      <td>1</td>\n",
       "      <td>24</td>\n",
       "      <td>2</td>\n",
       "      <td>2</td>\n",
       "      <td>0</td>\n",
       "      <td>0</td>\n",
       "      <td>0</td>\n",
       "      <td>0</td>\n",
       "      <td>3913</td>\n",
       "      <td>3102</td>\n",
       "      <td>689</td>\n",
       "      <td>0</td>\n",
       "      <td>0</td>\n",
       "      <td>0</td>\n",
       "      <td>0</td>\n",
       "      <td>689</td>\n",
       "      <td>0</td>\n",
       "      <td>0</td>\n",
       "      <td>0</td>\n",
       "      <td>0</td>\n",
       "      <td>1</td>\n",
       "    </tr>\n",
       "    <tr>\n",
       "      <th>2</th>\n",
       "      <td>120000</td>\n",
       "      <td>2</td>\n",
       "      <td>2</td>\n",
       "      <td>2</td>\n",
       "      <td>26</td>\n",
       "      <td>0</td>\n",
       "      <td>2</td>\n",
       "      <td>0</td>\n",
       "      <td>0</td>\n",
       "      <td>0</td>\n",
       "      <td>2</td>\n",
       "      <td>2682</td>\n",
       "      <td>1725</td>\n",
       "      <td>2682</td>\n",
       "      <td>3272</td>\n",
       "      <td>3455</td>\n",
       "      <td>3261</td>\n",
       "      <td>0</td>\n",
       "      <td>1000</td>\n",
       "      <td>1000</td>\n",
       "      <td>1000</td>\n",
       "      <td>0</td>\n",
       "      <td>2000</td>\n",
       "      <td>1</td>\n",
       "    </tr>\n",
       "    <tr>\n",
       "      <th>3</th>\n",
       "      <td>90000</td>\n",
       "      <td>2</td>\n",
       "      <td>2</td>\n",
       "      <td>2</td>\n",
       "      <td>34</td>\n",
       "      <td>0</td>\n",
       "      <td>0</td>\n",
       "      <td>0</td>\n",
       "      <td>0</td>\n",
       "      <td>0</td>\n",
       "      <td>0</td>\n",
       "      <td>29239</td>\n",
       "      <td>14027</td>\n",
       "      <td>13559</td>\n",
       "      <td>14331</td>\n",
       "      <td>14948</td>\n",
       "      <td>15549</td>\n",
       "      <td>1518</td>\n",
       "      <td>1500</td>\n",
       "      <td>1000</td>\n",
       "      <td>1000</td>\n",
       "      <td>1000</td>\n",
       "      <td>5000</td>\n",
       "      <td>0</td>\n",
       "    </tr>\n",
       "    <tr>\n",
       "      <th>4</th>\n",
       "      <td>50000</td>\n",
       "      <td>2</td>\n",
       "      <td>2</td>\n",
       "      <td>1</td>\n",
       "      <td>37</td>\n",
       "      <td>0</td>\n",
       "      <td>0</td>\n",
       "      <td>0</td>\n",
       "      <td>0</td>\n",
       "      <td>0</td>\n",
       "      <td>0</td>\n",
       "      <td>46990</td>\n",
       "      <td>48233</td>\n",
       "      <td>49291</td>\n",
       "      <td>28314</td>\n",
       "      <td>28959</td>\n",
       "      <td>29547</td>\n",
       "      <td>2000</td>\n",
       "      <td>2019</td>\n",
       "      <td>1200</td>\n",
       "      <td>1100</td>\n",
       "      <td>1069</td>\n",
       "      <td>1000</td>\n",
       "      <td>0</td>\n",
       "    </tr>\n",
       "    <tr>\n",
       "      <th>5</th>\n",
       "      <td>50000</td>\n",
       "      <td>1</td>\n",
       "      <td>2</td>\n",
       "      <td>1</td>\n",
       "      <td>57</td>\n",
       "      <td>0</td>\n",
       "      <td>0</td>\n",
       "      <td>0</td>\n",
       "      <td>0</td>\n",
       "      <td>0</td>\n",
       "      <td>0</td>\n",
       "      <td>8617</td>\n",
       "      <td>5670</td>\n",
       "      <td>35835</td>\n",
       "      <td>20940</td>\n",
       "      <td>19146</td>\n",
       "      <td>19131</td>\n",
       "      <td>2000</td>\n",
       "      <td>36681</td>\n",
       "      <td>10000</td>\n",
       "      <td>9000</td>\n",
       "      <td>689</td>\n",
       "      <td>679</td>\n",
       "      <td>0</td>\n",
       "    </tr>\n",
       "  </tbody>\n",
       "</table>\n",
       "</div>"
      ],
      "text/plain": [
       "    LIMIT_BAL  SEX  EDUCATION  MARRIAGE  ...  PAY_AMT4  PAY_AMT5  PAY_AMT6  default\n",
       "ID                                       ...                                       \n",
       "1       20000    2          2         1  ...         0         0         0        1\n",
       "2      120000    2          2         2  ...      1000         0      2000        1\n",
       "3       90000    2          2         2  ...      1000      1000      5000        0\n",
       "4       50000    2          2         1  ...      1100      1069      1000        0\n",
       "5       50000    1          2         1  ...      9000       689       679        0\n",
       "\n",
       "[5 rows x 24 columns]"
      ]
     },
     "execution_count": 4,
     "metadata": {
      "tags": []
     },
     "output_type": "execute_result"
    }
   ],
   "source": [
    "data = pd.read_csv('credit_card_default_analysis.csv', index_col=0)\n",
    "data.head()"
   ]
  },
  {
   "cell_type": "markdown",
   "metadata": {},
   "source": [
    "**Задание 1.**\n",
    "Размер кредитного лимита (LIMIT_BAL). В двух группах, тех людей, кто вернул кредит (default = 0) и тех, кто его не вернул (default = 1) проверьте гипотезы:\n",
    "- a) о равенстве медианных значений кредитного лимита с помощью подходящей интервальной оценки\n",
    "- b) о равенстве распределений с помощью одного из подходящих непараметрических критериев проверки равенства средних. Значимы ли полученные результаты с практической точки зрения ?"
   ]
  },
  {
   "cell_type": "markdown",
   "metadata": {
    "colab_type": "text",
    "id": "mkTOND_xBn_B"
   },
   "source": [
    "Разобьём данные на должников и вернувших кредит, возьмём данные по размеру кредитного лимита и посмотрим на распределение.\n"
   ]
  },
  {
   "cell_type": "code",
   "execution_count": 5,
   "metadata": {
    "colab": {},
    "colab_type": "code",
    "executionInfo": {
     "elapsed": 1444,
     "status": "ok",
     "timestamp": 1596566814653,
     "user": {
      "displayName": "Павел Ананьев",
      "photoUrl": "",
      "userId": "07746041064703407151"
     },
     "user_tz": -180
    },
    "id": "dqILADMLAzQc"
   },
   "outputs": [],
   "source": [
    "limit_debtor_data = data[data.default == 1].loc[:, 'LIMIT_BAL']\n",
    "limit_paid_data = data[data.default == 0].loc[:, 'LIMIT_BAL']"
   ]
  },
  {
   "cell_type": "code",
   "execution_count": 6,
   "metadata": {
    "colab": {
     "base_uri": "https://localhost:8080/",
     "height": 622
    },
    "colab_type": "code",
    "executionInfo": {
     "elapsed": 2445,
     "status": "ok",
     "timestamp": 1596566815661,
     "user": {
      "displayName": "Павел Ананьев",
      "photoUrl": "",
      "userId": "07746041064703407151"
     },
     "user_tz": -180
    },
    "id": "n383tKkKAzSo",
    "outputId": "5b1d0423-6ede-4245-ed2d-a7ee4b9c7586"
   },
   "outputs": [
    {
     "data": {
      "image/png": "[encoded data removed]",
      "text/plain": [
       "<Figure size 1440x720 with 1 Axes>"
      ]
     },
     "metadata": {
      "tags": []
     },
     "output_type": "display_data"
    }
   ],
   "source": [
    "sns.distplot(limit_debtor_data, color='r', label='Default = 1')\n",
    "sns.distplot(limit_paid_data, color='b', label='Default = 0')\n",
    "plt.legend();"
   ]
  },
  {
   "cell_type": "code",
   "execution_count": 7,
   "metadata": {
    "colab": {
     "base_uri": "https://localhost:8080/",
     "height": 611
    },
    "colab_type": "code",
    "executionInfo": {
     "elapsed": 2924,
     "status": "ok",
     "timestamp": 1596566816149,
     "user": {
      "displayName": "Павел Ананьев",
      "photoUrl": "",
      "userId": "07746041064703407151"
     },
     "user_tz": -180
    },
    "id": "EK83VPnZV9K5",
    "outputId": "4685b602-19a5-4e80-bfef-a75323024f3f"
   },
   "outputs": [
    {
     "data": {
      "image/png": "[encoded data removed]",
      "text/plain": [
       "<Figure size 1440x720 with 1 Axes>"
      ]
     },
     "metadata": {
      "tags": []
     },
     "output_type": "display_data"
    }
   ],
   "source": [
    "sns.boxplot(data.LIMIT_BAL, data.default, orient='h');"
   ]
  },
  {
   "cell_type": "markdown",
   "metadata": {
    "colab_type": "text",
    "id": "OgaO6EQHHAx1"
   },
   "source": [
    "По графикам видно, что распределение признака не является нормальным, а имеет длинный правый хвост в обеих группах. Также люди, которые кредит вернули, похоже имеют больше доверия у банка, так как размер их кредитного лимита в основном больше, чем у должников. У многих должников размер кредитного лимита очень близок к нулю. "
   ]
  },
  {
   "cell_type": "markdown",
   "metadata": {
    "colab_type": "text",
    "id": "5oHazUkDH8ip"
   },
   "source": [
    "Чтобы проверить равенство медианных значений кредитного лимита с помощью интервальной оценки воспользуемся методом бутстрэпа."
   ]
  },
  {
   "cell_type": "code",
   "execution_count": 8,
   "metadata": {
    "colab": {},
    "colab_type": "code",
    "executionInfo": {
     "elapsed": 2917,
     "status": "ok",
     "timestamp": 1596566816150,
     "user": {
      "displayName": "Павел Ананьев",
      "photoUrl": "",
      "userId": "07746041064703407151"
     },
     "user_tz": -180
    },
    "id": "oGG4loFqAzVF"
   },
   "outputs": [],
   "source": [
    "def get_bootstrap_samples(data, n_samples):\n",
    "    return np.random.choice(data, size=[n_samples, len(data)], replace=True)"
   ]
  },
  {
   "cell_type": "code",
   "execution_count": 9,
   "metadata": {
    "colab": {},
    "colab_type": "code",
    "executionInfo": {
     "elapsed": 2913,
     "status": "ok",
     "timestamp": 1596566816150,
     "user": {
      "displayName": "Павел Ананьев",
      "photoUrl": "",
      "userId": "07746041064703407151"
     },
     "user_tz": -180
    },
    "id": "Qn8YEmT2KVqf"
   },
   "outputs": [],
   "source": [
    "def get_interval(data, alpha=0.05):\n",
    "    return np.percentile(data, [100 * alpha / 2, 100 * (1 - alpha / 2)])"
   ]
  },
  {
   "cell_type": "code",
   "execution_count": 10,
   "metadata": {
    "colab": {},
    "colab_type": "code",
    "executionInfo": {
     "elapsed": 3795,
     "status": "ok",
     "timestamp": 1596566817036,
     "user": {
      "displayName": "Павел Ананьев",
      "photoUrl": "",
      "userId": "07746041064703407151"
     },
     "user_tz": -180
    },
    "id": "dGxH0UYtAzXS"
   },
   "outputs": [],
   "source": [
    "# Получаем бутстрэп сэмплы из данных обеих групп и считаем медианы\n",
    "np.random.seed(42)\n",
    "n_samples = 1000\n",
    "bootstrap_debtor_medians = np.median(get_bootstrap_samples(limit_debtor_data, n_samples), axis=1)\n",
    "bootstrap_paid_medians = np.median(get_bootstrap_samples(limit_paid_data, n_samples), axis=1)"
   ]
  },
  {
   "cell_type": "code",
   "execution_count": 11,
   "metadata": {
    "colab": {
     "base_uri": "https://localhost:8080/",
     "height": 611
    },
    "colab_type": "code",
    "executionInfo": {
     "elapsed": 4687,
     "status": "ok",
     "timestamp": 1596566817934,
     "user": {
      "displayName": "Павел Ананьев",
      "photoUrl": "",
      "userId": "07746041064703407151"
     },
     "user_tz": -180
    },
    "id": "oGAeMbwRAzZX",
    "outputId": "06051f17-c542-49f6-fd65-03711d3d49e4"
   },
   "outputs": [
    {
     "data": {
      "image/png": "[encoded data removed]",
      "text/plain": [
       "<Figure size 1440x720 with 1 Axes>"
      ]
     },
     "metadata": {
      "tags": []
     },
     "output_type": "display_data"
    }
   ],
   "source": [
    "# Посмотрим на распределение медиан\n",
    "sns.distplot(bootstrap_debtor_medians, kde=False, color='r', label='Default = 1')\n",
    "sns.distplot(bootstrap_paid_medians, kde=False, color='b', label='Default = 0')\n",
    "plt.xlabel('Limit balance')\n",
    "plt.ylabel('Count')\n",
    "plt.legend();"
   ]
  },
  {
   "cell_type": "markdown",
   "metadata": {
    "colab_type": "text",
    "id": "Y6ZxB7H3Ocxp"
   },
   "source": [
    "Видим, что большинство значений медианы кредитного лимита для должников лежит около 90000, тогда как для вернувших кредит большинство значений лежит в районе 150000."
   ]
  },
  {
   "cell_type": "markdown",
   "metadata": {
    "colab_type": "text",
    "id": "UZxKJwgIVdxI"
   },
   "source": [
    "Будем проверять нулевую гипотезу о том, что медианы размера кредитного лимита для двух групп не различаются против двусторонней гипотезы о том, что они различаются на уровне значимости 0.05. Для этого построим 95% доверительные интервалы."
   ]
  },
  {
   "cell_type": "code",
   "execution_count": 12,
   "metadata": {
    "colab": {
     "base_uri": "https://localhost:8080/",
     "height": 72
    },
    "colab_type": "code",
    "executionInfo": {
     "elapsed": 4678,
     "status": "ok",
     "timestamp": 1596566817934,
     "user": {
      "displayName": "Павел Ананьев",
      "photoUrl": "",
      "userId": "07746041064703407151"
     },
     "user_tz": -180
    },
    "id": "eeuapx5QAzbf",
    "outputId": "05fba784-0691-4b9a-fbbf-a4ecc210d560"
   },
   "outputs": [
    {
     "name": "stdout",
     "output_type": "stream",
     "text": [
      "95% доверительный интервал для медианы размера кредитного лимита группы должников: [80000. 90000.]\n",
      "95% доверительный интервал для медианы размера кредитного лимита группы вернувших кредит: [150000. 150000.]\n",
      "95% доверительный интервал для разности медиан размера кредитного лимита двух групп: [60000. 70000.]\n"
     ]
    }
   ],
   "source": [
    "# Построим отдельно интервалы для обеих групп на уровне значимости 0.05\n",
    "print(f'95% доверительный интервал для медианы размера кредитного лимита группы должников: \\\n",
    "{get_interval(bootstrap_debtor_medians, alpha=0.05)}')\n",
    "\n",
    "print(f'95% доверительный интервал для медианы размера кредитного лимита группы вернувших кредит: \\\n",
    "{get_interval(bootstrap_paid_medians, alpha=0.05)}')\n",
    "\n",
    "# Построим интервал разности медиан\n",
    "diff_medians = bootstrap_paid_medians - bootstrap_debtor_medians\n",
    "print(f'95% доверительный интервал для разности медиан размера кредитного лимита двух групп: \\\n",
    "{get_interval(diff_medians, alpha=0.05)}')"
   ]
  },
  {
   "cell_type": "markdown",
   "metadata": {
    "colab_type": "text",
    "id": "u3bVN4TQVUeZ"
   },
   "source": [
    "Видим, что интервалы не пересекаются, и интервал для разности медиан не содержит нуля, причём его левая граница находится от нуля очень далеко. Таким образом нулевая гипотеза очень уверенно отвергается, и мы можем сказать, что медианы значимо различаются. Разница между нижней границой интервала для вернувших кредит и верхней границей интервала для должников составляет 66.7%, что, как мне кажется, может считаться также практически значимым результатом. "
   ]
  },
  {
   "cell_type": "markdown",
   "metadata": {
    "colab_type": "text",
    "id": "NEejqfI-Zq7k"
   },
   "source": [
    "Теперь, чтобы проверить, равны ли распределения признака в обеих группах, воспользуемся критерием Манна-Уитни, так как выборки независимые. Будем проверять нулевую гипотезу о том, что распределения не отличаются против двусторонней гипотезы о том, что распределения каким-то образом различаются. "
   ]
  },
  {
   "cell_type": "code",
   "execution_count": 13,
   "metadata": {
    "colab": {
     "base_uri": "https://localhost:8080/",
     "height": 35
    },
    "colab_type": "code",
    "executionInfo": {
     "elapsed": 4674,
     "status": "ok",
     "timestamp": 1596566817936,
     "user": {
      "displayName": "Павел Ананьев",
      "photoUrl": "",
      "userId": "07746041064703407151"
     },
     "user_tz": -180
    },
    "id": "krXIxdH3Azdi",
    "outputId": "fa5ab546-2f84-420c-f75a-9fc946a0cad9"
   },
   "outputs": [
    {
     "name": "stdout",
     "output_type": "stream",
     "text": [
      "p-value для критерия Манна-Уитни: 1.2255485818223303e-189\n"
     ]
    }
   ],
   "source": [
    "p = stats.mannwhitneyu(limit_debtor_data, limit_paid_data, alternative='two-sided')[1]\n",
    "print(f'p-value для критерия Манна-Уитни: {p}')"
   ]
  },
  {
   "cell_type": "markdown",
   "metadata": {
    "colab_type": "text",
    "id": "-ytUe7aya7dg"
   },
   "source": [
    "Полученное p-value даёт возможность уверенно отвергнуть нулевую гипотезу в пользу альтернативной. Можно сделать вывод, что распределения размера кредитного лимита в разных группах имеют значимые отличия."
   ]
  },
  {
   "cell_type": "markdown",
   "metadata": {
    "colab_type": "text",
    "id": "P_BDUAFDLZTM"
   },
   "source": [
    "**Задание 2.**\n",
    "Пол (SEX): Проверьте гипотезу о том, что гендерный состав группы людей вернувших и не вернувших кредит отличается. Хорошо, если вы предоставите несколько различных решений этой задачи (с помощью доверительного интервала и подходящего статистического критерия) "
   ]
  },
  {
   "cell_type": "markdown",
   "metadata": {
    "colab_type": "text",
    "id": "B2zh65gvLjyg"
   },
   "source": [
    "Посмотрим на распределения пола в группах."
   ]
  },
  {
   "cell_type": "code",
   "execution_count": 14,
   "metadata": {
    "colab": {},
    "colab_type": "code",
    "executionInfo": {
     "elapsed": 4667,
     "status": "ok",
     "timestamp": 1596566817937,
     "user": {
      "displayName": "Павел Ананьев",
      "photoUrl": "",
      "userId": "07746041064703407151"
     },
     "user_tz": -180
    },
    "id": "zlOBKUw4a7Lh"
   },
   "outputs": [],
   "source": [
    "sex_debtor_data = data[data.default == 1].loc[:, 'SEX']\n",
    "sex_paid_data = data[data.default == 0].loc[:, 'SEX']"
   ]
  },
  {
   "cell_type": "code",
   "execution_count": 15,
   "metadata": {
    "colab": {
     "base_uri": "https://localhost:8080/",
     "height": 611
    },
    "colab_type": "code",
    "executionInfo": {
     "elapsed": 4663,
     "status": "ok",
     "timestamp": 1596566817937,
     "user": {
      "displayName": "Павел Ананьев",
      "photoUrl": "",
      "userId": "07746041064703407151"
     },
     "user_tz": -180
    },
    "id": "Wwzbf7rtAzfq",
    "outputId": "bbe3c78f-428a-4732-a4aa-60cd5eee4350"
   },
   "outputs": [
    {
     "data": {
      "image/png": "[encoded data removed]",
      "text/plain": [
       "<Figure size 1440x720 with 1 Axes>"
      ]
     },
     "metadata": {
      "tags": []
     },
     "output_type": "display_data"
    }
   ],
   "source": [
    "sns.countplot('SEX', hue='default', data=data, palette=['b', 'r']);"
   ]
  },
  {
   "cell_type": "markdown",
   "metadata": {
    "colab_type": "text",
    "id": "ZJmirTALPNbh"
   },
   "source": [
    "Видно, что женщин в обеих группах больше, чем мужчин, и отношение количества женщин к количеству мужчин в группе должников кажется чуть поменьше. Но в целом непонятно, сильно ли различие по гендерному составу, если оно вообще есть. "
   ]
  },
  {
   "cell_type": "markdown",
   "metadata": {
    "colab_type": "text",
    "id": "TzseVL60jBdT"
   },
   "source": [
    "Попробуем построить доверительные интервалы для отношения количества женщин к количеству мужчин в разных группах опять с помощью бутстрэпа."
   ]
  },
  {
   "cell_type": "code",
   "execution_count": 16,
   "metadata": {
    "colab": {},
    "colab_type": "code",
    "executionInfo": {
     "elapsed": 14711,
     "status": "ok",
     "timestamp": 1596566827992,
     "user": {
      "displayName": "Павел Ананьев",
      "photoUrl": "",
      "userId": "07746041064703407151"
     },
     "user_tz": -180
    },
    "id": "Fy9pVnOBAzqw"
   },
   "outputs": [],
   "source": [
    "# Возьмём бутстрэп выборки из разных групп и посчитаем количество женщин и мужчин в них\n",
    "np.random.seed(42)\n",
    "bootstrap_sex_debtor_counts = np.apply_along_axis(lambda x: np.unique(x, return_counts=True)[1],\n",
    "                                                  axis=1, arr=get_bootstrap_samples(sex_debtor_data, 10000))\n",
    "\n",
    "bootstrap_sex_paid_counts = np.apply_along_axis(lambda x: np.unique(x, return_counts=True)[1],\n",
    "                                                axis=1, arr=get_bootstrap_samples(sex_paid_data, 10000))"
   ]
  },
  {
   "cell_type": "code",
   "execution_count": 17,
   "metadata": {
    "colab": {},
    "colab_type": "code",
    "executionInfo": {
     "elapsed": 14710,
     "status": "ok",
     "timestamp": 1596566827994,
     "user": {
      "displayName": "Павел Ананьев",
      "photoUrl": "",
      "userId": "07746041064703407151"
     },
     "user_tz": -180
    },
    "id": "wiMCYmICAzu-"
   },
   "outputs": [],
   "source": [
    "# Считаем отношение количества женщин к количеству мужчин\n",
    "f_m_debtor_ratio = bootstrap_sex_debtor_counts[:, 1] / bootstrap_sex_debtor_counts[:, 0]\n",
    "f_m_paid_ratio = bootstrap_sex_paid_counts[:, 1] / bootstrap_sex_paid_counts[:, 0]"
   ]
  },
  {
   "cell_type": "code",
   "execution_count": 18,
   "metadata": {
    "colab": {
     "base_uri": "https://localhost:8080/",
     "height": 611
    },
    "colab_type": "code",
    "executionInfo": {
     "elapsed": 15803,
     "status": "ok",
     "timestamp": 1596566829092,
     "user": {
      "displayName": "Павел Ананьев",
      "photoUrl": "",
      "userId": "07746041064703407151"
     },
     "user_tz": -180
    },
    "id": "quBFdRy6j8iJ",
    "outputId": "4dbf973e-bf88-4695-ba7c-135fe9c95ce6"
   },
   "outputs": [
    {
     "data": {
      "image/png": "[encoded data removed]",
      "text/plain": [
       "<Figure size 1440x720 with 1 Axes>"
      ]
     },
     "metadata": {
      "tags": []
     },
     "output_type": "display_data"
    }
   ],
   "source": [
    "# Посмотрим на их распределения\n",
    "sns.distplot(f_m_debtor_ratio, color='r', label='Default = 1')\n",
    "sns.distplot(f_m_paid_ratio, color='b', label='Default = 0')\n",
    "plt.xlabel('Отношение количества женщин к количеству мужчин')\n",
    "plt.legend();"
   ]
  },
  {
   "cell_type": "markdown",
   "metadata": {
    "colab_type": "text",
    "id": "O-0YIDtjmYO1"
   },
   "source": [
    "Распределения похожи на нормальные и видно, что они раздвинуты относительно друг друга, что может указывать на различие между гендерным составом в группах. Но давайте построим интервалы, чтобы это проверить."
   ]
  },
  {
   "cell_type": "code",
   "execution_count": 19,
   "metadata": {
    "colab": {
     "base_uri": "https://localhost:8080/",
     "height": 72
    },
    "colab_type": "code",
    "executionInfo": {
     "elapsed": 15801,
     "status": "ok",
     "timestamp": 1596566829093,
     "user": {
      "displayName": "Павел Ананьев",
      "photoUrl": "",
      "userId": "07746041064703407151"
     },
     "user_tz": -180
    },
    "id": "ddNiMFeOmXXz",
    "outputId": "4b643d05-c1b5-4dca-955a-81c51c01ae45"
   },
   "outputs": [
    {
     "name": "stdout",
     "output_type": "stream",
     "text": [
      "95% доверительный интервал для отношения количества женщин к количеству мужчин в группе должников: [1.24796748 1.37423971]\n",
      "95% доверительный интервал для отношения количества женщин к количеству мужчин в группе вернувших кредит: [1.55121206 1.63464884]\n",
      "95% доверительный интервал для разности отношения количества женщин к количеству мужчин в двух группах: [0.20610876 0.35748761]\n"
     ]
    }
   ],
   "source": [
    "# Построим отдельно интервалы для обеих групп на уровне значимости 0.05\n",
    "print(f'95% доверительный интервал для отношения количества женщин к количеству мужчин в группе должников: \\\n",
    "{get_interval(f_m_debtor_ratio, alpha=0.05)}')\n",
    "\n",
    "print(f'95% доверительный интервал для отношения количества женщин к количеству мужчин в группе вернувших кредит: \\\n",
    "{get_interval(f_m_paid_ratio, alpha=0.05)}')\n",
    "\n",
    "# Построим интервал разности медиан\n",
    "diff_ratio = f_m_paid_ratio - f_m_debtor_ratio\n",
    "print(f'95% доверительный интервал для разности отношения количества женщин к количеству мужчин в двух группах: \\\n",
    "{get_interval(diff_ratio, alpha=0.05)}')"
   ]
  },
  {
   "cell_type": "markdown",
   "metadata": {
    "colab_type": "text",
    "id": "EQQki0bln4y4"
   },
   "source": [
    "Видим, что интервалы не пересекаются и доверительный интервал для разности не содержит нуля, поэтому можно сделать вывод о том, что гендерный состав групп статистически значимо различается на уровне значимости 0.05: отношение количества женщин к количеству мужчин в группе вернувших кредит в целом больше этого же отношения в группе должников.\n"
   ]
  },
  {
   "cell_type": "markdown",
   "metadata": {
    "colab_type": "text",
    "id": "dEMB9VQk38nh"
   },
   "source": [
    "Проверим теперь то же самое с помощью другого критерия. Наши рассматриваемые признаки категориальны, независимы и имеют достаточно большое количество наблюдений. Это даёт нам право на использование критерия хи-квадрат. Будем проверять нулевую гипотезу, что распределение по полу в группах никак не зависит от этой самой группы. Альтернативной гипотезой будет, что распределение в разных группах будет разное на уровне значимости 0.05."
   ]
  },
  {
   "cell_type": "code",
   "execution_count": 20,
   "metadata": {
    "colab": {
     "base_uri": "https://localhost:8080/",
     "height": 143
    },
    "colab_type": "code",
    "executionInfo": {
     "elapsed": 15799,
     "status": "ok",
     "timestamp": 1596566829096,
     "user": {
      "displayName": "Павел Ананьев",
      "photoUrl": "",
      "userId": "07746041064703407151"
     },
     "user_tz": -180
    },
    "id": "wqSM4_nGmXTX",
    "outputId": "86e27dec-2c9a-4f5f-c625-4017d6f7b2c8"
   },
   "outputs": [
    {
     "data": {
      "text/html": [
       "<div>\n",
       "<style scoped>\n",
       "    .dataframe tbody tr th:only-of-type {\n",
       "        vertical-align: middle;\n",
       "    }\n",
       "\n",
       "    .dataframe tbody tr th {\n",
       "        vertical-align: top;\n",
       "    }\n",
       "\n",
       "    .dataframe thead th {\n",
       "        text-align: right;\n",
       "    }\n",
       "</style>\n",
       "<table border=\"1\" class=\"dataframe\">\n",
       "  <thead>\n",
       "    <tr style=\"text-align: right;\">\n",
       "      <th>SEX</th>\n",
       "      <th>1</th>\n",
       "      <th>2</th>\n",
       "    </tr>\n",
       "    <tr>\n",
       "      <th>default</th>\n",
       "      <th></th>\n",
       "      <th></th>\n",
       "    </tr>\n",
       "  </thead>\n",
       "  <tbody>\n",
       "    <tr>\n",
       "      <th>0</th>\n",
       "      <td>9015</td>\n",
       "      <td>14349</td>\n",
       "    </tr>\n",
       "    <tr>\n",
       "      <th>1</th>\n",
       "      <td>2873</td>\n",
       "      <td>3763</td>\n",
       "    </tr>\n",
       "  </tbody>\n",
       "</table>\n",
       "</div>"
      ],
      "text/plain": [
       "SEX         1      2\n",
       "default             \n",
       "0        9015  14349\n",
       "1        2873   3763"
      ]
     },
     "execution_count": 20,
     "metadata": {
      "tags": []
     },
     "output_type": "execute_result"
    }
   ],
   "source": [
    "# Построим таблицу сопряжённости для признаков пол и возврат\\невозврат кредита\n",
    "sdtable = pd.crosstab(index=data.default, columns=data.SEX)\n",
    "sdtable"
   ]
  },
  {
   "cell_type": "code",
   "execution_count": 21,
   "metadata": {
    "colab": {
     "base_uri": "https://localhost:8080/",
     "height": 35
    },
    "colab_type": "code",
    "executionInfo": {
     "elapsed": 15796,
     "status": "ok",
     "timestamp": 1596566829097,
     "user": {
      "displayName": "Павел Ананьев",
      "photoUrl": "",
      "userId": "07746041064703407151"
     },
     "user_tz": -180
    },
    "id": "CBJ4dGMSmXNY",
    "outputId": "0925d3f5-b75a-4cb6-9829-29655dc32455"
   },
   "outputs": [
    {
     "name": "stdout",
     "output_type": "stream",
     "text": [
      "p-value для критерия хи-квадрат: 4.944678999412044e-12\n"
     ]
    }
   ],
   "source": [
    "print(f'p-value для критерия хи-квадрат: {stats.chi2_contingency(sdtable.values)[1]}')"
   ]
  },
  {
   "cell_type": "markdown",
   "metadata": {
    "colab_type": "text",
    "id": "_E7nIQ-nA2xo"
   },
   "source": [
    "Видно, что критерий хи-квадрат также уверенно отвергает нулевую гипотезу и даёт возможность сделать вывод, что распределение по гендерному признаку в рассматриваемых группах статистически значимо отличается."
   ]
  },
  {
   "cell_type": "markdown",
   "metadata": {
    "colab_type": "text",
    "id": "UFBpI3xYBUcF"
   },
   "source": [
    "**Задание 3.** \n",
    "Образование (EDUCATION): Проверьте гипотезу о том, что образование не влияет на то, вернет ли человек долг. Предложите способ наглядного представления разницы в ожидаемых и наблюдаемых значениях количества человек вернувших и не вернувших долг. Например, составьте таблицу сопряженности \"образование\" на \"возврат долга\", где значением ячейки была бы разность между наблюдаемым и ожидаемым количеством человек. Как бы вы предложили модифицировать таблицу так, чтобы привести значения ячеек к одному масштабу не потеряв в интерпретируемости ? Наличие какого образования является наилучшим индикатором того, что человек отдаст долг ? наоборт, не отдаст долг ? "
   ]
  },
  {
   "cell_type": "code",
   "execution_count": 22,
   "metadata": {
    "colab": {
     "base_uri": "https://localhost:8080/",
     "height": 611
    },
    "colab_type": "code",
    "executionInfo": {
     "elapsed": 15792,
     "status": "ok",
     "timestamp": 1596566829097,
     "user": {
      "displayName": "Павел Ананьев",
      "photoUrl": "",
      "userId": "07746041064703407151"
     },
     "user_tz": -180
    },
    "id": "7nPa5GeFHfdd",
    "outputId": "1838cfd4-ee98-4066-efb9-18ef3e5155b6"
   },
   "outputs": [
    {
     "data": {
      "image/png": "[encoded data removed]",
      "text/plain": [
       "<Figure size 1440x720 with 1 Axes>"
      ]
     },
     "metadata": {
      "tags": []
     },
     "output_type": "display_data"
    }
   ],
   "source": [
    "# Посмотрим на распределение\n",
    "sns.countplot(data.default, hue=data.EDUCATION);"
   ]
  },
  {
   "cell_type": "markdown",
   "metadata": {
    "colab_type": "text",
    "id": "w6fiG1FDDlNQ"
   },
   "source": [
    "На графике похоже, что соотношение разного уровня образования в разных группах сохраняется, но с уверенностью сказать ничего нельзя. Рассматриваемые признаки категориальны, независимы и имеют достаточно большое количество наблюдений, следовательно, выполняются требования для применения критерия хи-квадрат. Проверим гипотезу о влиянии образования человека на возврат/невозврат долга с его помощью. Нулевая гипотеза: уровень образования не влияет на то, вернёт ли долг человек. Альтернативная: уровень образования каким-то образом влияет."
   ]
  },
  {
   "cell_type": "code",
   "execution_count": 23,
   "metadata": {
    "colab": {
     "base_uri": "https://localhost:8080/",
     "height": 143
    },
    "colab_type": "code",
    "executionInfo": {
     "elapsed": 16087,
     "status": "ok",
     "timestamp": 1596566829396,
     "user": {
      "displayName": "Павел Ананьев",
      "photoUrl": "",
      "userId": "07746041064703407151"
     },
     "user_tz": -180
    },
    "id": "ehwSZdVImXKq",
    "outputId": "2a0a1436-adb6-453e-a86a-99681dfef928"
   },
   "outputs": [
    {
     "data": {
      "text/html": [
       "<div>\n",
       "<style scoped>\n",
       "    .dataframe tbody tr th:only-of-type {\n",
       "        vertical-align: middle;\n",
       "    }\n",
       "\n",
       "    .dataframe tbody tr th {\n",
       "        vertical-align: top;\n",
       "    }\n",
       "\n",
       "    .dataframe thead th {\n",
       "        text-align: right;\n",
       "    }\n",
       "</style>\n",
       "<table border=\"1\" class=\"dataframe\">\n",
       "  <thead>\n",
       "    <tr style=\"text-align: right;\">\n",
       "      <th>EDUCATION</th>\n",
       "      <th>0</th>\n",
       "      <th>1</th>\n",
       "      <th>2</th>\n",
       "      <th>3</th>\n",
       "      <th>4</th>\n",
       "      <th>5</th>\n",
       "      <th>6</th>\n",
       "    </tr>\n",
       "    <tr>\n",
       "      <th>default</th>\n",
       "      <th></th>\n",
       "      <th></th>\n",
       "      <th></th>\n",
       "      <th></th>\n",
       "      <th></th>\n",
       "      <th></th>\n",
       "      <th></th>\n",
       "    </tr>\n",
       "  </thead>\n",
       "  <tbody>\n",
       "    <tr>\n",
       "      <th>0</th>\n",
       "      <td>14</td>\n",
       "      <td>8549</td>\n",
       "      <td>10700</td>\n",
       "      <td>3680</td>\n",
       "      <td>116</td>\n",
       "      <td>262</td>\n",
       "      <td>43</td>\n",
       "    </tr>\n",
       "    <tr>\n",
       "      <th>1</th>\n",
       "      <td>0</td>\n",
       "      <td>2036</td>\n",
       "      <td>3330</td>\n",
       "      <td>1237</td>\n",
       "      <td>7</td>\n",
       "      <td>18</td>\n",
       "      <td>8</td>\n",
       "    </tr>\n",
       "  </tbody>\n",
       "</table>\n",
       "</div>"
      ],
      "text/plain": [
       "EDUCATION   0     1      2     3    4    5   6\n",
       "default                                       \n",
       "0          14  8549  10700  3680  116  262  43\n",
       "1           0  2036   3330  1237    7   18   8"
      ]
     },
     "execution_count": 23,
     "metadata": {
      "tags": []
     },
     "output_type": "execute_result"
    }
   ],
   "source": [
    "# Построим таблицу сопряжённости для признаков образования и возврата/невозврата кредита\n",
    "edtable = pd.crosstab(index=data.default, columns=data.EDUCATION)\n",
    "edtable"
   ]
  },
  {
   "cell_type": "code",
   "execution_count": 24,
   "metadata": {
    "colab": {
     "base_uri": "https://localhost:8080/",
     "height": 35
    },
    "colab_type": "code",
    "executionInfo": {
     "elapsed": 16084,
     "status": "ok",
     "timestamp": 1596566829397,
     "user": {
      "displayName": "Павел Ананьев",
      "photoUrl": "",
      "userId": "07746041064703407151"
     },
     "user_tz": -180
    },
    "id": "qYLJ2ASsmXIH",
    "outputId": "f8d6dd1f-d1ed-4212-81a2-c765c090d193"
   },
   "outputs": [
    {
     "name": "stdout",
     "output_type": "stream",
     "text": [
      "p-value для критерия хи-квадрат: 1.2332626245415605e-32\n"
     ]
    }
   ],
   "source": [
    "# Получим p-value для критерия хи-квадрат, а также таблицу ожидаемых значений\n",
    "results = stats.chi2_contingency(edtable)\n",
    "edtable_expected = pd.DataFrame(results[3])\n",
    "print(f'p-value для критерия хи-квадрат: {results[1]}')"
   ]
  },
  {
   "cell_type": "markdown",
   "metadata": {
    "colab_type": "text",
    "id": "Pjy9aDSfHXYF"
   },
   "source": [
    "Полученный p-value позволяет отвергнуть нулевую гипотезу в пользу альтернативы, что уровень образования каким-то образом влияет на то, вернёт ли человек долг или нет. Посмотрим на таблицу ожидаемых значений, которую предоставляет нам критерий, а также на разность между наблюдаемыми и ожидаемыми значениями."
   ]
  },
  {
   "cell_type": "code",
   "execution_count": 25,
   "metadata": {
    "colab": {
     "base_uri": "https://localhost:8080/",
     "height": 112
    },
    "colab_type": "code",
    "executionInfo": {
     "elapsed": 16082,
     "status": "ok",
     "timestamp": 1596566829398,
     "user": {
      "displayName": "Павел Ананьев",
      "photoUrl": "",
      "userId": "07746041064703407151"
     },
     "user_tz": -180
    },
    "id": "LWpWkjXimXFS",
    "outputId": "340417f1-9ad9-423f-a874-5e8943aa6533"
   },
   "outputs": [
    {
     "data": {
      "text/html": [
       "<div>\n",
       "<style scoped>\n",
       "    .dataframe tbody tr th:only-of-type {\n",
       "        vertical-align: middle;\n",
       "    }\n",
       "\n",
       "    .dataframe tbody tr th {\n",
       "        vertical-align: top;\n",
       "    }\n",
       "\n",
       "    .dataframe thead th {\n",
       "        text-align: right;\n",
       "    }\n",
       "</style>\n",
       "<table border=\"1\" class=\"dataframe\">\n",
       "  <thead>\n",
       "    <tr style=\"text-align: right;\">\n",
       "      <th></th>\n",
       "      <th>0</th>\n",
       "      <th>1</th>\n",
       "      <th>2</th>\n",
       "      <th>3</th>\n",
       "      <th>4</th>\n",
       "      <th>5</th>\n",
       "      <th>6</th>\n",
       "    </tr>\n",
       "  </thead>\n",
       "  <tbody>\n",
       "    <tr>\n",
       "      <th>0</th>\n",
       "      <td>10.9032</td>\n",
       "      <td>8243.598</td>\n",
       "      <td>10926.564</td>\n",
       "      <td>3829.3596</td>\n",
       "      <td>95.7924</td>\n",
       "      <td>218.064</td>\n",
       "      <td>39.7188</td>\n",
       "    </tr>\n",
       "    <tr>\n",
       "      <th>1</th>\n",
       "      <td>3.0968</td>\n",
       "      <td>2341.402</td>\n",
       "      <td>3103.436</td>\n",
       "      <td>1087.6404</td>\n",
       "      <td>27.2076</td>\n",
       "      <td>61.936</td>\n",
       "      <td>11.2812</td>\n",
       "    </tr>\n",
       "  </tbody>\n",
       "</table>\n",
       "</div>"
      ],
      "text/plain": [
       "         0         1          2          3        4        5        6\n",
       "0  10.9032  8243.598  10926.564  3829.3596  95.7924  218.064  39.7188\n",
       "1   3.0968  2341.402   3103.436  1087.6404  27.2076   61.936  11.2812"
      ]
     },
     "execution_count": 25,
     "metadata": {
      "tags": []
     },
     "output_type": "execute_result"
    }
   ],
   "source": [
    "# Ожидаемое значение меньше 5 только в 1 из 14 ячеек, что меньше 20%, значит критерий можно было применить\n",
    "edtable_expected"
   ]
  },
  {
   "cell_type": "code",
   "execution_count": 26,
   "metadata": {
    "colab": {
     "base_uri": "https://localhost:8080/",
     "height": 143
    },
    "colab_type": "code",
    "executionInfo": {
     "elapsed": 16078,
     "status": "ok",
     "timestamp": 1596566829398,
     "user": {
      "displayName": "Павел Ананьев",
      "photoUrl": "",
      "userId": "07746041064703407151"
     },
     "user_tz": -180
    },
    "id": "MpwWuCv5mXCD",
    "outputId": "5a234558-44cf-42d5-fa00-d1755ec30952"
   },
   "outputs": [
    {
     "data": {
      "text/html": [
       "<div>\n",
       "<style scoped>\n",
       "    .dataframe tbody tr th:only-of-type {\n",
       "        vertical-align: middle;\n",
       "    }\n",
       "\n",
       "    .dataframe tbody tr th {\n",
       "        vertical-align: top;\n",
       "    }\n",
       "\n",
       "    .dataframe thead th {\n",
       "        text-align: right;\n",
       "    }\n",
       "</style>\n",
       "<table border=\"1\" class=\"dataframe\">\n",
       "  <thead>\n",
       "    <tr style=\"text-align: right;\">\n",
       "      <th>EDUCATION</th>\n",
       "      <th>0</th>\n",
       "      <th>1</th>\n",
       "      <th>2</th>\n",
       "      <th>3</th>\n",
       "      <th>4</th>\n",
       "      <th>5</th>\n",
       "      <th>6</th>\n",
       "    </tr>\n",
       "    <tr>\n",
       "      <th>default</th>\n",
       "      <th></th>\n",
       "      <th></th>\n",
       "      <th></th>\n",
       "      <th></th>\n",
       "      <th></th>\n",
       "      <th></th>\n",
       "      <th></th>\n",
       "    </tr>\n",
       "  </thead>\n",
       "  <tbody>\n",
       "    <tr>\n",
       "      <th>0</th>\n",
       "      <td>3.0968</td>\n",
       "      <td>305.402</td>\n",
       "      <td>-226.564</td>\n",
       "      <td>-149.3596</td>\n",
       "      <td>20.2076</td>\n",
       "      <td>43.936</td>\n",
       "      <td>3.2812</td>\n",
       "    </tr>\n",
       "    <tr>\n",
       "      <th>1</th>\n",
       "      <td>-3.0968</td>\n",
       "      <td>-305.402</td>\n",
       "      <td>226.564</td>\n",
       "      <td>149.3596</td>\n",
       "      <td>-20.2076</td>\n",
       "      <td>-43.936</td>\n",
       "      <td>-3.2812</td>\n",
       "    </tr>\n",
       "  </tbody>\n",
       "</table>\n",
       "</div>"
      ],
      "text/plain": [
       "EDUCATION       0        1        2         3        4       5       6\n",
       "default                                                               \n",
       "0          3.0968  305.402 -226.564 -149.3596  20.2076  43.936  3.2812\n",
       "1         -3.0968 -305.402  226.564  149.3596 -20.2076 -43.936 -3.2812"
      ]
     },
     "execution_count": 26,
     "metadata": {
      "tags": []
     },
     "output_type": "execute_result"
    }
   ],
   "source": [
    "# Построим таблицу сопряжённости, где в ячейках стоит разность между наблюдаемым и ожидаемым значением\n",
    "edtable_diff = edtable - edtable_expected\n",
    "edtable_diff"
   ]
  },
  {
   "cell_type": "markdown",
   "metadata": {
    "colab_type": "text",
    "id": "407W1f0VOz3y"
   },
   "source": [
    "Можно модифицировать значения в таблице путём деления значений каждого столбца на общее количество человек в данной группе и умножения на 100. Таким образом, ячейки будут показывать какой процент от числа человек определённого уровня образования составляет полученное отклонение."
   ]
  },
  {
   "cell_type": "code",
   "execution_count": 27,
   "metadata": {
    "colab": {
     "base_uri": "https://localhost:8080/",
     "height": 143
    },
    "colab_type": "code",
    "executionInfo": {
     "elapsed": 16076,
     "status": "ok",
     "timestamp": 1596566829399,
     "user": {
      "displayName": "Павел Ананьев",
      "photoUrl": "",
      "userId": "07746041064703407151"
     },
     "user_tz": -180
    },
    "id": "1z-dvhNfmW8R",
    "outputId": "9a4831e4-706b-424b-989d-2c7762a023b7"
   },
   "outputs": [
    {
     "data": {
      "text/html": [
       "<div>\n",
       "<style scoped>\n",
       "    .dataframe tbody tr th:only-of-type {\n",
       "        vertical-align: middle;\n",
       "    }\n",
       "\n",
       "    .dataframe tbody tr th {\n",
       "        vertical-align: top;\n",
       "    }\n",
       "\n",
       "    .dataframe thead th {\n",
       "        text-align: right;\n",
       "    }\n",
       "</style>\n",
       "<table border=\"1\" class=\"dataframe\">\n",
       "  <thead>\n",
       "    <tr style=\"text-align: right;\">\n",
       "      <th>EDUCATION</th>\n",
       "      <th>0</th>\n",
       "      <th>1</th>\n",
       "      <th>2</th>\n",
       "      <th>3</th>\n",
       "      <th>4</th>\n",
       "      <th>5</th>\n",
       "      <th>6</th>\n",
       "    </tr>\n",
       "    <tr>\n",
       "      <th>default</th>\n",
       "      <th></th>\n",
       "      <th></th>\n",
       "      <th></th>\n",
       "      <th></th>\n",
       "      <th></th>\n",
       "      <th></th>\n",
       "      <th></th>\n",
       "    </tr>\n",
       "  </thead>\n",
       "  <tbody>\n",
       "    <tr>\n",
       "      <th>0</th>\n",
       "      <td>22.12</td>\n",
       "      <td>2.89</td>\n",
       "      <td>-1.61</td>\n",
       "      <td>-3.04</td>\n",
       "      <td>16.43</td>\n",
       "      <td>15.69</td>\n",
       "      <td>6.43</td>\n",
       "    </tr>\n",
       "    <tr>\n",
       "      <th>1</th>\n",
       "      <td>-22.12</td>\n",
       "      <td>-2.89</td>\n",
       "      <td>1.61</td>\n",
       "      <td>3.04</td>\n",
       "      <td>-16.43</td>\n",
       "      <td>-15.69</td>\n",
       "      <td>-6.43</td>\n",
       "    </tr>\n",
       "  </tbody>\n",
       "</table>\n",
       "</div>"
      ],
      "text/plain": [
       "EDUCATION      0     1     2     3      4      5     6\n",
       "default                                               \n",
       "0          22.12  2.89 -1.61 -3.04  16.43  15.69  6.43\n",
       "1         -22.12 -2.89  1.61  3.04 -16.43 -15.69 -6.43"
      ]
     },
     "execution_count": 27,
     "metadata": {
      "tags": []
     },
     "output_type": "execute_result"
    }
   ],
   "source": [
    "mod_edtable_diff = (edtable_diff / edtable.sum(axis=0) * 100).round(2)\n",
    "mod_edtable_diff"
   ]
  },
  {
   "cell_type": "markdown",
   "metadata": {
    "colab_type": "text",
    "id": "bqZrYOBoRx7s"
   },
   "source": [
    "Из этой таблицы можно увидеть, что ожидаемые значения должников на основе наших данных были больше наблюдаемых в 5 из 7 групп (0, 1, 4, 5, 6), а меньше только в 2 из 7 (2, 3). Наибольшее отклонение в 22.12% получилось в группе с уровнем образования \"доктор\", следовательно, можно ожидать, что, давая кредит человеку с таким уровнем образования, он его скорее всего вернёт. А вот люди с уровнем образования \"выпускник школы\" чаще долг не возвращают, так как в наших данных оказалось на 3.04% больше должников, чем ожидалось, если была бы верна нулевая гипотеза."
   ]
  },
  {
   "cell_type": "markdown",
   "metadata": {
    "colab_type": "text",
    "id": "AVox9Mo-VjR2"
   },
   "source": [
    "**Задание 4.** Семейное положение (MARRIAGE): Проверьте, как связан семейный статус с индикатором дефолта: нужно предложить меру, по которой можно измерить возможную связь этих переменных и посчитать ее значение."
   ]
  },
  {
   "cell_type": "code",
   "execution_count": 28,
   "metadata": {
    "colab": {
     "base_uri": "https://localhost:8080/",
     "height": 611
    },
    "colab_type": "code",
    "executionInfo": {
     "elapsed": 16608,
     "status": "ok",
     "timestamp": 1596566829935,
     "user": {
      "displayName": "Павел Ананьев",
      "photoUrl": "",
      "userId": "07746041064703407151"
     },
     "user_tz": -180
    },
    "id": "IezWPhSLXVgC",
    "outputId": "13e91ab7-fc11-4d56-f925-bcf14cc6553c"
   },
   "outputs": [
    {
     "data": {
      "image/png": "[encoded data removed]",
      "text/plain": [
       "<Figure size 1440x720 with 1 Axes>"
      ]
     },
     "metadata": {
      "tags": []
     },
     "output_type": "display_data"
    }
   ],
   "source": [
    "# Посмотрим на распределение\n",
    "sns.countplot('default', hue='MARRIAGE', data=data);"
   ]
  },
  {
   "cell_type": "markdown",
   "metadata": {
    "colab_type": "text",
    "id": "J-2ma3syYKAa"
   },
   "source": [
    "Можно увидеть, что среди должников увеличивается доля замужних/женатых людей по отношению к остальным группам. Рассматриваемые признаки категориальны, независимы и имеют достаточно большое количество наблюдений, следовательно, выполняются требования для применения критерия хи-квадрат. Опять нулевой гипотезой будет отсутствие связи между маритальным статусом и невозвратом долга, а альтернативной наличие какой-либо связи."
   ]
  },
  {
   "cell_type": "code",
   "execution_count": 29,
   "metadata": {
    "colab": {
     "base_uri": "https://localhost:8080/",
     "height": 143
    },
    "colab_type": "code",
    "executionInfo": {
     "elapsed": 16605,
     "status": "ok",
     "timestamp": 1596566829936,
     "user": {
      "displayName": "Павел Ананьев",
      "photoUrl": "",
      "userId": "07746041064703407151"
     },
     "user_tz": -180
    },
    "id": "i3tyMKeDP9Rl",
    "outputId": "71405387-fe34-4ce2-a7b8-bd2ba1475adc"
   },
   "outputs": [
    {
     "data": {
      "text/html": [
       "<div>\n",
       "<style scoped>\n",
       "    .dataframe tbody tr th:only-of-type {\n",
       "        vertical-align: middle;\n",
       "    }\n",
       "\n",
       "    .dataframe tbody tr th {\n",
       "        vertical-align: top;\n",
       "    }\n",
       "\n",
       "    .dataframe thead th {\n",
       "        text-align: right;\n",
       "    }\n",
       "</style>\n",
       "<table border=\"1\" class=\"dataframe\">\n",
       "  <thead>\n",
       "    <tr style=\"text-align: right;\">\n",
       "      <th>MARRIAGE</th>\n",
       "      <th>0</th>\n",
       "      <th>1</th>\n",
       "      <th>2</th>\n",
       "      <th>3</th>\n",
       "    </tr>\n",
       "    <tr>\n",
       "      <th>default</th>\n",
       "      <th></th>\n",
       "      <th></th>\n",
       "      <th></th>\n",
       "      <th></th>\n",
       "    </tr>\n",
       "  </thead>\n",
       "  <tbody>\n",
       "    <tr>\n",
       "      <th>0</th>\n",
       "      <td>49</td>\n",
       "      <td>10453</td>\n",
       "      <td>12623</td>\n",
       "      <td>239</td>\n",
       "    </tr>\n",
       "    <tr>\n",
       "      <th>1</th>\n",
       "      <td>5</td>\n",
       "      <td>3206</td>\n",
       "      <td>3341</td>\n",
       "      <td>84</td>\n",
       "    </tr>\n",
       "  </tbody>\n",
       "</table>\n",
       "</div>"
      ],
      "text/plain": [
       "MARRIAGE   0      1      2    3\n",
       "default                        \n",
       "0         49  10453  12623  239\n",
       "1          5   3206   3341   84"
      ]
     },
     "execution_count": 29,
     "metadata": {
      "tags": []
     },
     "output_type": "execute_result"
    }
   ],
   "source": [
    "# Построим таблицу сопряжённости\n",
    "mdtable = pd.crosstab(index=data.default, columns=data.MARRIAGE)\n",
    "mdtable"
   ]
  },
  {
   "cell_type": "code",
   "execution_count": 30,
   "metadata": {
    "colab": {
     "base_uri": "https://localhost:8080/",
     "height": 35
    },
    "colab_type": "code",
    "executionInfo": {
     "elapsed": 16603,
     "status": "ok",
     "timestamp": 1596566829937,
     "user": {
      "displayName": "Павел Ананьев",
      "photoUrl": "",
      "userId": "07746041064703407151"
     },
     "user_tz": -180
    },
    "id": "sNkWMJOCP9Oj",
    "outputId": "465a5af8-faca-48d0-d548-2e021c2a7720"
   },
   "outputs": [
    {
     "name": "stdout",
     "output_type": "stream",
     "text": [
      "p-value для критерия хи-квадрат: 8.825862457577375e-08\n"
     ]
    }
   ],
   "source": [
    "# Применим критерий хи-квадрат\n",
    "print(f'p-value для критерия хи-квадрат: {stats.chi2_contingency(mdtable)[1]}') "
   ]
  },
  {
   "cell_type": "markdown",
   "metadata": {
    "colab_type": "text",
    "id": "H68kS09Haw2Y"
   },
   "source": [
    "Такое значение p-value позволяет уверенно отвергнуть нулевую гипотезу и сказать, что признаки каким-то образом связаны. Чтобы посмотреть на силу этой связи, можно посчитать коэффициент V Крамера."
   ]
  },
  {
   "cell_type": "code",
   "execution_count": 31,
   "metadata": {
    "colab": {},
    "colab_type": "code",
    "executionInfo": {
     "elapsed": 16600,
     "status": "ok",
     "timestamp": 1596566829937,
     "user": {
      "displayName": "Павел Ананьев",
      "photoUrl": "",
      "userId": "07746041064703407151"
     },
     "user_tz": -180
    },
    "id": "4hO1ZZDQbibb"
   },
   "outputs": [],
   "source": [
    "def cramerv(table):\n",
    "    chi2 = stats.chi2_contingency(table)[0]\n",
    "    return np.sqrt(chi2 / (table.sum().sum() * (np.minimum(*table.shape) - 1)))"
   ]
  },
  {
   "cell_type": "code",
   "execution_count": 32,
   "metadata": {
    "colab": {
     "base_uri": "https://localhost:8080/",
     "height": 35
    },
    "colab_type": "code",
    "executionInfo": {
     "elapsed": 16597,
     "status": "ok",
     "timestamp": 1596566829938,
     "user": {
      "displayName": "Павел Ананьев",
      "photoUrl": "",
      "userId": "07746041064703407151"
     },
     "user_tz": -180
    },
    "id": "7ZkMyI6GP9Hb",
    "outputId": "6e69d63e-e290-4497-e443-a2e4ac2bfa5d"
   },
   "outputs": [
    {
     "name": "stdout",
     "output_type": "stream",
     "text": [
      "Коэффициент V Крамера для признаков MARRIAGE и default: 0.0345\n"
     ]
    }
   ],
   "source": [
    "print(f'Коэффициент V Крамера для признаков MARRIAGE и default: {round(cramerv(mdtable), 4)}')"
   ]
  },
  {
   "cell_type": "markdown",
   "metadata": {
    "colab_type": "text",
    "id": "kyFRPJhuN2fR"
   },
   "source": [
    "Коэффициент V Крамера получился очень маленьким. Вряд ли такую связь можно считать практически значимой, хоть она и получилась статистически значимой. Скорее всего здесь очень сильно влияет то, что критерий хи-квадрат при больших выборках (а у нас она достаточно большая) склонен давать большое значение статистики при очень небольших отличиях, что приводит к статистической значимости."
   ]
  },
  {
   "cell_type": "markdown",
   "metadata": {
    "colab_type": "text",
    "id": "Gs6cjWODQf4x"
   },
   "source": [
    "**Задание 5.** Возраст (AGE): Относительно двух групп людей вернувших и не вернувших кредит проверьте следующие гипотезы: a) о равенстве медианных значений возрастов людей b) о равенстве распределений с помощью одного из подходящих непараметрических критериев проверки равенства средних. Значимы ли полученные результаты с практической точки зрения ?"
   ]
  },
  {
   "cell_type": "code",
   "execution_count": 33,
   "metadata": {
    "colab": {},
    "colab_type": "code",
    "executionInfo": {
     "elapsed": 16595,
     "status": "ok",
     "timestamp": 1596566829939,
     "user": {
      "displayName": "Павел Ананьев",
      "photoUrl": "",
      "userId": "07746041064703407151"
     },
     "user_tz": -180
    },
    "id": "aSIQkmAKbb5y"
   },
   "outputs": [],
   "source": [
    "age_debtor_data = data[data.default == 1].AGE\n",
    "age_paid_data = data[data.default == 0].AGE"
   ]
  },
  {
   "cell_type": "code",
   "execution_count": 34,
   "metadata": {
    "colab": {
     "base_uri": "https://localhost:8080/",
     "height": 611
    },
    "colab_type": "code",
    "executionInfo": {
     "elapsed": 17602,
     "status": "ok",
     "timestamp": 1596566830950,
     "user": {
      "displayName": "Павел Ананьев",
      "photoUrl": "",
      "userId": "07746041064703407151"
     },
     "user_tz": -180
    },
    "id": "Mewevyyhbb3B",
    "outputId": "d297d7c1-20a6-472f-a415-5d454278d13b"
   },
   "outputs": [
    {
     "data": {
      "image/png": "[encoded data removed]",
      "text/plain": [
       "<Figure size 1440x720 with 1 Axes>"
      ]
     },
     "metadata": {
      "tags": []
     },
     "output_type": "display_data"
    }
   ],
   "source": [
    "# Посмотрим распределение\n",
    "sns.distplot(age_debtor_data, color='r', label='Default = 1')\n",
    "sns.distplot(age_paid_data, color='b', label='Default = 0')\n",
    "plt.legend();"
   ]
  },
  {
   "cell_type": "code",
   "execution_count": 35,
   "metadata": {
    "colab": {
     "base_uri": "https://localhost:8080/",
     "height": 611
    },
    "colab_type": "code",
    "executionInfo": {
     "elapsed": 17953,
     "status": "ok",
     "timestamp": 1596566831305,
     "user": {
      "displayName": "Павел Ананьев",
      "photoUrl": "",
      "userId": "07746041064703407151"
     },
     "user_tz": -180
    },
    "id": "_ObZpQBkUZCv",
    "outputId": "0599e4a1-d83c-464e-8888-c05b69ee3551"
   },
   "outputs": [
    {
     "data": {
      "image/png": "[encoded data removed]",
      "text/plain": [
       "<Figure size 1440x720 with 1 Axes>"
      ]
     },
     "metadata": {
      "tags": []
     },
     "output_type": "display_data"
    }
   ],
   "source": [
    "sns.boxplot(data.AGE, data.default, orient='h');"
   ]
  },
  {
   "cell_type": "markdown",
   "metadata": {
    "colab_type": "text",
    "id": "3q4_0Xp8Sbpy"
   },
   "source": [
    "Из графика видно, что распределения почти одинаковые. Сложно вытащить отсюда какую-либо важную информацию. Попробуем получить информацию с помощью статистических критериев."
   ]
  },
  {
   "cell_type": "markdown",
   "metadata": {
    "colab_type": "text",
    "id": "L6XmPhe2asSF"
   },
   "source": [
    "Сначала проверим нулевую гипотезу о равенстве медиан возраста в обеих группах против альтернативы, что медианы отличаются. Воспользуемся критерием Краскела-Уоллиса. Если выполняется предположение о  том, что все рассматриваемые группы имеют примерно одинаковую форму распределения и одинаковый масштаб, то можно проверить нулевую гипотезу о равенстве медиан этих распределений против альтернативы, что медианы различны. Из графиков можно видеть, что оба этих предположения выполняются. Также построим бутстрэп интервал для разности медиан, чтобы убедиться в результате критерия."
   ]
  },
  {
   "cell_type": "code",
   "execution_count": 36,
   "metadata": {
    "colab": {
     "base_uri": "https://localhost:8080/",
     "height": 35
    },
    "colab_type": "code",
    "executionInfo": {
     "elapsed": 17949,
     "status": "ok",
     "timestamp": 1596566831305,
     "user": {
      "displayName": "Павел Ананьев",
      "photoUrl": "",
      "userId": "07746041064703407151"
     },
     "user_tz": -180
    },
    "id": "2u9AkgjWbbsQ",
    "outputId": "d54ba1b5-69ef-412d-913e-867202bb090d"
   },
   "outputs": [
    {
     "name": "stdout",
     "output_type": "stream",
     "text": [
      "p-value для критерия Краскела-Уоллиса: 0.3725\n"
     ]
    }
   ],
   "source": [
    "print(f'p-value для критерия Краскела-Уоллиса: {round(stats.kruskal(age_debtor_data, age_paid_data)[1], 4)}')"
   ]
  },
  {
   "cell_type": "code",
   "execution_count": 37,
   "metadata": {
    "colab": {
     "base_uri": "https://localhost:8080/",
     "height": 35
    },
    "colab_type": "code",
    "executionInfo": {
     "elapsed": 18980,
     "status": "ok",
     "timestamp": 1596566832339,
     "user": {
      "displayName": "Павел Ананьев",
      "photoUrl": "",
      "userId": "07746041064703407151"
     },
     "user_tz": -180
    },
    "id": "sIA8I_WdxvXG",
    "outputId": "551e40fb-c749-4920-eed8-3eb35abdc054"
   },
   "outputs": [
    {
     "name": "stdout",
     "output_type": "stream",
     "text": [
      "95% доверительный интервал для разности медиан возраста двух групп: [-1.  0.]\n"
     ]
    }
   ],
   "source": [
    "print(f'95% доверительный интервал для разности медиан возраста двух групп: \\\n",
    "{get_interval(np.median(get_bootstrap_samples(age_paid_data, n_samples), axis=1) - \\\n",
    "             np.median(get_bootstrap_samples(age_debtor_data, n_samples), axis=1), alpha=0.05)}')"
   ]
  },
  {
   "cell_type": "markdown",
   "metadata": {
    "colab_type": "text",
    "id": "ipvF4w1Qn54_"
   },
   "source": [
    "Полученный p-value не позволяет отклонить нулевую гипотезу, а доверительный интервал разности медиан содержит 0,поэтому мы не можем сказать, что медианы в рассматриваемых группах отличаются. Теперь воспользуемся критерием Манна-Уитни (выборки независимые) с нулевой гипотезой о равенстве распределений. проверять будем против альтернативы, что распределения различаются."
   ]
  },
  {
   "cell_type": "code",
   "execution_count": 38,
   "metadata": {
    "colab": {
     "base_uri": "https://localhost:8080/",
     "height": 35
    },
    "colab_type": "code",
    "executionInfo": {
     "elapsed": 18977,
     "status": "ok",
     "timestamp": 1596566832340,
     "user": {
      "displayName": "Павел Ананьев",
      "photoUrl": "",
      "userId": "07746041064703407151"
     },
     "user_tz": -180
    },
    "id": "FEI7E4NLbbo2",
    "outputId": "e1de414a-1458-44b2-f00c-a7706bd6ed4d"
   },
   "outputs": [
    {
     "name": "stdout",
     "output_type": "stream",
     "text": [
      "p-value для критерия Манна-Уитни: 0.1863\n"
     ]
    }
   ],
   "source": [
    "print(f'p-value для критерия Манна-Уитни: {round(stats.mannwhitneyu(age_debtor_data, age_paid_data)[1], 4)}')"
   ]
  },
  {
   "cell_type": "markdown",
   "metadata": {
    "colab_type": "text",
    "id": "Lxn5KnBUokKu"
   },
   "source": [
    "Опять получили p-value, который не позволяет отвергнуть нулевую гипотезу. Судя по графикам и результатам статистических тестов, возможно, с практической точки зрения, при принятии решения выдачи кредита, на возраст стоит смотреть в последнюю очередь."
   ]
  }
 ],
 "metadata": {
  "colab": {
   "authorship_tag": "ABX9TyPbGo9eSPwJuvkLpnRe02Nz",
   "collapsed_sections": [],
   "mount_file_id": "1vru1FQIFq-OFqrwNesOCfJR3i5K8nitG",
   "name": "credit_score",
   "provenance": []
  },
  "kernelspec": {
   "display_name": "Python 3",
   "language": "python",
   "name": "python3"
  },
  "language_info": {
   "codemirror_mode": {
    "name": "ipython",
    "version": 3
   },
   "file_extension": ".py",
   "mimetype": "text/x-python",
   "name": "python",
   "nbconvert_exporter": "python",
   "pygments_lexer": "ipython3",
   "version": "3.7.8"
  }
 },
 "nbformat": 4,
 "nbformat_minor": 4
}
