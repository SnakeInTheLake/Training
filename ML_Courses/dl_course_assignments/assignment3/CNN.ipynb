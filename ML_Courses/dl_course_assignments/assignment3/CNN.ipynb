{
 "cells": [
  {
   "cell_type": "markdown",
   "metadata": {
    "colab_type": "text",
    "id": "AEtAZHUehFd6"
   },
   "source": [
    "# Задание 3.1 - Сверточные нейронные сети (Convolutional Neural Networks)\n",
    "\n",
    "Это последнее задание на numpy, вы до него дожили! Остался последний марш-бросок, дальше только PyTorch.\n",
    "\n",
    "В этом задании вы реализуете свою собственную сверточную нейронную сеть."
   ]
  },
  {
   "cell_type": "code",
   "execution_count": 1,
   "metadata": {
    "colab": {},
    "colab_type": "code",
    "executionInfo": {
     "elapsed": 2789,
     "status": "ok",
     "timestamp": 1598087369282,
     "user": {
      "displayName": "Павел Ананьев",
      "photoUrl": "",
      "userId": "07746041064703407151"
     },
     "user_tz": -180
    },
    "id": "PhBfM0OyhFd9"
   },
   "outputs": [],
   "source": [
    "import numpy as np\n",
    "import matplotlib.pyplot as plt\n",
    "\n",
    "%matplotlib inline\n",
    "\n",
    "%load_ext autoreload\n",
    "%autoreload 2"
   ]
  },
  {
   "cell_type": "code",
   "execution_count": 2,
   "metadata": {
    "colab": {},
    "colab_type": "code",
    "executionInfo": {
     "elapsed": 4174,
     "status": "ok",
     "timestamp": 1598087371483,
     "user": {
      "displayName": "Павел Ананьев",
      "photoUrl": "",
      "userId": "07746041064703407151"
     },
     "user_tz": -180
    },
    "id": "GV8UIjN4hFeI"
   },
   "outputs": [],
   "source": [
    "from dataset import load_svhn, random_split_train_val\n",
    "from gradient_check import check_layer_gradient, check_layer_param_gradient, check_model_gradient\n",
    "from layers import FullyConnectedLayer, ReLULayer, ConvolutionalLayer, MaxPoolingLayer, Flattener\n",
    "from model import ConvNet\n",
    "from trainer import Trainer, Dataset\n",
    "from optim import SGD, MomentumSGD\n",
    "from metrics import multiclass_accuracy"
   ]
  },
  {
   "cell_type": "markdown",
   "metadata": {
    "colab_type": "text",
    "id": "uCYotZfJhFeV"
   },
   "source": [
    "# Загружаем данные\n",
    "\n",
    "На этот раз мы не будем их преобразовывать в один вектор, а оставим размерности (num_samples, 32, 32, 3)."
   ]
  },
  {
   "cell_type": "code",
   "execution_count": 3,
   "metadata": {
    "colab": {},
    "colab_type": "code",
    "executionInfo": {
     "elapsed": 19737,
     "status": "ok",
     "timestamp": 1598087388599,
     "user": {
      "displayName": "Павел Ананьев",
      "photoUrl": "",
      "userId": "07746041064703407151"
     },
     "user_tz": -180
    },
    "id": "7ulvc_MHhFeW"
   },
   "outputs": [],
   "source": [
    "def prepare_for_neural_network(train_X, test_X):    \n",
    "    train_X = train_X.astype(np.float) / 255.0\n",
    "    test_X = test_X.astype(np.float) / 255.0\n",
    "    \n",
    "    # Subtract mean\n",
    "    mean_image = np.mean(train_X, axis = 0)\n",
    "    train_X -= mean_image\n",
    "    test_X -= mean_image\n",
    "    \n",
    "    return train_X, test_X\n",
    "    \n",
    "train_X, train_y, test_X, test_y = load_svhn(\"data\", max_train=10000, max_test=1000)    \n",
    "train_X, test_X = prepare_for_neural_network(train_X, test_X)\n",
    "# Split train into train and val\n",
    "train_X, train_y, val_X, val_y = random_split_train_val(train_X, train_y, num_val = 1000)"
   ]
  },
  {
   "cell_type": "markdown",
   "metadata": {
    "colab_type": "text",
    "id": "ZKxhRhighFeg"
   },
   "source": [
    "# Реализуем новые слои!\n",
    "\n",
    "Сначала основной новый слой - сверточный (Convolutional layer). \n",
    "Для начала мы реализуем его для только одного канала, а потом для нескольких.\n",
    "\n",
    "Сверточный слой выполняет операцию свертки (convolution) с весами для каждого канала, а потом складывает результаты. \n",
    "Возможно, поможет пересмотреть Лекцию 6 или внимательно прочитать\n",
    "http://cs231n.github.io/convolutional-networks/\n",
    "\n",
    "Один из подходов к реализации сверточного слоя основан на том, что для конкретного \"пикселя\" выхода применение сверточного слоя эквивалентно обычному полносвязному.  \n",
    "Рассмотрим один такой \"пиксель\":\n",
    "![image.png](attachment:image.png)\n",
    "\n",
    "Он получает на вход   \n",
    "регион входа I размера `(batch_size, filter_size, filter_size, input_channels)`,  \n",
    "применяет к нему веса W `(filter_size, filter_size, input_channels, output_channels`\n",
    "и выдает `(batch_size, output_channels)`. \n",
    "\n",
    "Если:  \n",
    "- вход преобразовать в I' `(batch_size, filter_size*filter_size*input_channels)`,  \n",
    "- веса в W' `(filter_size*filter_size*input_channels, output_channels)`,  \n",
    "то выход \"пикселе\" будет эквивалентен полносвязному слою со входом I' и весами W'.\n",
    "\n",
    "Осталось выполнить его в цикле для каждого пикселя :)"
   ]
  },
  {
   "cell_type": "code",
   "execution_count": 4,
   "metadata": {
    "colab": {
     "base_uri": "https://localhost:8080/",
     "height": 72
    },
    "colab_type": "code",
    "executionInfo": {
     "elapsed": 13864,
     "status": "ok",
     "timestamp": 1598087388603,
     "user": {
      "displayName": "Павел Ананьев",
      "photoUrl": "",
      "userId": "07746041064703407151"
     },
     "user_tz": -180
    },
    "id": "ZLyzj04mhFei",
    "outputId": "44fe5bd1-f045-4078-c666-fc893379616f"
   },
   "outputs": [
    {
     "name": "stdout",
     "output_type": "stream",
     "text": [
      "Shape of X: (2, 2, 2, 1)\n",
      "Shape of W (2, 2, 1, 1)\n",
      "Shape of X: (2, 2, 2, 2)\n"
     ]
    }
   ],
   "source": [
    "# TODO: Implement ConvolutionaLayer that supports only 1 output and input channel\n",
    "\n",
    "# Note: now you're working with images, so X is 4-dimensional tensor of\n",
    "# (batch_size, height, width, channels)\n",
    "\n",
    "X = np.array([\n",
    "              [\n",
    "               [[1.0], [2.0]],\n",
    "               [[0.0], [-1.0]]\n",
    "              ]\n",
    "              ,\n",
    "              [\n",
    "               [[0.0], [1.0]],\n",
    "               [[-2.0], [-1.0]]\n",
    "              ]\n",
    "             ])\n",
    "\n",
    "# Batch of 2 images of dimensions 2x2 with a single channel\n",
    "print(\"Shape of X:\",X.shape)\n",
    "\n",
    "layer = ConvolutionalLayer(in_channels=1, out_channels=1, filter_size=2, padding=0)\n",
    "print(\"Shape of W\", layer.W.value.shape)\n",
    "layer.W.value = np.zeros_like(layer.W.value)\n",
    "layer.W.value[0, 0, 0, 0] = 1.0\n",
    "layer.B.value = np.ones_like(layer.B.value)\n",
    "result = layer.forward(X)\n",
    "\n",
    "assert result.shape == (2, 1, 1, 1)\n",
    "assert np.all(result == X[:, :1, :1, :1] +1), \"result: %s, X: %s\" % (result, X[:, :1, :1, :1])\n",
    "\n",
    "\n",
    "# Now let's implement multiple output channels\n",
    "layer = ConvolutionalLayer(in_channels=1, out_channels=2, filter_size=2, padding=0)\n",
    "result = layer.forward(X)\n",
    "assert result.shape == (2, 1, 1, 2)\n",
    "\n",
    "\n",
    "# And now multple input channels!\n",
    "X = np.array([\n",
    "              [\n",
    "               [[1.0, 0.0], [2.0, 1.0]],\n",
    "               [[0.0, -1.0], [-1.0, -2.0]]\n",
    "              ]\n",
    "              ,\n",
    "              [\n",
    "               [[0.0, 1.0], [1.0, -1.0]],\n",
    "               [[-2.0, 2.0], [-1.0, 0.0]]\n",
    "              ]\n",
    "             ])\n",
    "\n",
    "print(\"Shape of X:\", X.shape)\n",
    "layer = ConvolutionalLayer(in_channels=2, out_channels=2, filter_size=2, padding=0)\n",
    "result = layer.forward(X)\n",
    "assert result.shape == (2, 1, 1, 2)"
   ]
  },
  {
   "cell_type": "markdown",
   "metadata": {
    "colab_type": "text",
    "id": "H0hmNeQmhFeo"
   },
   "source": [
    "## А теперь имплементируем обратный проход\n",
    "Возможно, это самое сложное место в курсе. Дальше будет лучше.\n",
    "\n",
    "Раз выполнение сверточного слоя эквивалентно полносвязному слою для каждого \"пикселя\" выхода, то общий обратный проход эквивалентен обратному проходу каждого из таких \"слоев\".  \n",
    "Градиенты от каждого из этих \"слоев\" в каждом пикселе надо сложить в соответствующие пиксели градиента по входу, а градиенты весов сложить все вместе."
   ]
  },
  {
   "cell_type": "code",
   "execution_count": 5,
   "metadata": {
    "colab": {
     "base_uri": "https://localhost:8080/",
     "height": 374
    },
    "colab_type": "code",
    "executionInfo": {
     "elapsed": 970,
     "status": "error",
     "timestamp": 1598091905510,
     "user": {
      "displayName": "Павел Ананьев",
      "photoUrl": "",
      "userId": "07746041064703407151"
     },
     "user_tz": -180
    },
    "id": "2tb8-TvrhFeq",
    "outputId": "7af3e0f7-6b81-4c20-ac02-4f9f088fd1f7"
   },
   "outputs": [
    {
     "name": "stdout",
     "output_type": "stream",
     "text": [
      "Gradient check passed!\n",
      "Gradient check passed!\n",
      "Gradient check passed!\n"
     ]
    }
   ],
   "source": [
    "# First test - check the shape is right\n",
    "layer = ConvolutionalLayer(in_channels=2, out_channels=2, filter_size=2, padding=0)\n",
    "result = layer.forward(X)\n",
    "d_input = layer.backward(np.ones_like(result))\n",
    "assert d_input.shape == X.shape\n",
    "\n",
    "# Actually test the backward pass\n",
    "# As usual, you'll need to copy gradient check code from the previous assignment\n",
    "layer = ConvolutionalLayer(in_channels=2, out_channels=2, filter_size=2, padding=0)\n",
    "assert check_layer_gradient(layer, X)\n",
    "\n",
    "layer = ConvolutionalLayer(in_channels=2, out_channels=2, filter_size=2, padding=0)\n",
    "assert check_layer_param_gradient(layer, X, 'W')\n",
    "layer = ConvolutionalLayer(in_channels=2, out_channels=2, filter_size=2, padding=0)\n",
    "assert check_layer_param_gradient(layer, X, 'B')"
   ]
  },
  {
   "cell_type": "markdown",
   "metadata": {
    "colab_type": "text",
    "id": "GaezLuRThFew"
   },
   "source": [
    "Осталось реализовать дополнение нулями (padding).   \n",
    "Достаточно дополнить входной тензор нулями по сторонам. Не забудьте учесть это при обратном проходе!"
   ]
  },
  {
   "cell_type": "code",
   "execution_count": 6,
   "metadata": {
    "colab": {
     "base_uri": "https://localhost:8080/",
     "height": 35
    },
    "colab_type": "code",
    "executionInfo": {
     "elapsed": 647,
     "status": "ok",
     "timestamp": 1598095053858,
     "user": {
      "displayName": "Павел Ананьев",
      "photoUrl": "",
      "userId": "07746041064703407151"
     },
     "user_tz": -180
    },
    "id": "T8myDC8fhFex",
    "outputId": "2821db9e-be28-4a38-9b86-d42bc45f4d98",
    "scrolled": true
   },
   "outputs": [
    {
     "name": "stdout",
     "output_type": "stream",
     "text": [
      "Gradient check passed!\n"
     ]
    }
   ],
   "source": [
    "layer = ConvolutionalLayer(in_channels=2, out_channels=2, filter_size=3, padding=1)\n",
    "result = layer.forward(X)\n",
    "# Note this kind of layer produces the same dimensions as input\n",
    "assert result.shape == X.shape,\"Result shape: %s - Expected shape %s\" % (result.shape, X.shape)\n",
    "d_input = layer.backward(np.ones_like(result))\n",
    "assert d_input.shape == X.shape\n",
    "layer = ConvolutionalLayer(in_channels=2, out_channels=2, filter_size=3, padding=1)\n",
    "assert check_layer_gradient(layer, X)"
   ]
  },
  {
   "cell_type": "markdown",
   "metadata": {
    "colab_type": "text",
    "id": "S6HpA-MahFe2"
   },
   "source": [
    "## После следующего слоя вам уже будет все ни по чем - max pooling\n",
    "\n",
    "Max Pooling - это слой, реализующий операцию максимума для каждого канала отдельно в окресности из `pool_size` \"пикселей\".\n",
    "\n",
    "![image](https://upload.wikimedia.org/wikipedia/commons/e/e9/Max_pooling.png)\n",
    "\n",
    "И напомним что такое stride.  \n",
    "Stride - это на сколько \"пикселей\" сдвигается окно на одном шаге.  \n",
    "Вот здесь, например, stride = 2\n",
    "\n",
    "![image.png](http://deeplearning.net/software/theano/_images/no_padding_strides.gif)\n",
    "\n",
    "На практике, для max pooling значение stride часто равно pool size."
   ]
  },
  {
   "cell_type": "code",
   "execution_count": 7,
   "metadata": {
    "colab": {
     "base_uri": "https://localhost:8080/",
     "height": 35
    },
    "colab_type": "code",
    "executionInfo": {
     "elapsed": 951,
     "status": "ok",
     "timestamp": 1598095462050,
     "user": {
      "displayName": "Павел Ананьев",
      "photoUrl": "",
      "userId": "07746041064703407151"
     },
     "user_tz": -180
    },
    "id": "OCsx7YdJhFe4",
    "outputId": "ff9eb3db-ed7d-4713-9b6a-79c07433ffe5"
   },
   "outputs": [
    {
     "name": "stdout",
     "output_type": "stream",
     "text": [
      "Gradient check passed!\n"
     ]
    }
   ],
   "source": [
    "pool = MaxPoolingLayer(2, 2)\n",
    "result = pool.forward(X)\n",
    "assert result.shape == (2, 1, 1, 2)\n",
    "assert check_layer_gradient(pool, X)"
   ]
  },
  {
   "cell_type": "markdown",
   "metadata": {
    "colab_type": "text",
    "id": "7exZQ7NOhFe7"
   },
   "source": [
    "И на закуску - слой, преобразующий четырехмерные тензоры в двумерные.\n",
    "\n",
    "Этот слой понадобится нам, чтобы в конце сети перейти от сверточных слоев к полносвязным."
   ]
  },
  {
   "cell_type": "code",
   "execution_count": 8,
   "metadata": {
    "colab": {
     "base_uri": "https://localhost:8080/",
     "height": 35
    },
    "colab_type": "code",
    "executionInfo": {
     "elapsed": 553,
     "status": "ok",
     "timestamp": 1598095062024,
     "user": {
      "displayName": "Павел Ананьев",
      "photoUrl": "",
      "userId": "07746041064703407151"
     },
     "user_tz": -180
    },
    "id": "2U2tDj59hFe9",
    "outputId": "3fac265e-0c13-48c1-f657-c90503d284fe"
   },
   "outputs": [
    {
     "name": "stdout",
     "output_type": "stream",
     "text": [
      "Gradient check passed!\n"
     ]
    }
   ],
   "source": [
    "flattener = Flattener()\n",
    "result = flattener.forward(X)\n",
    "assert result.shape == (2,8)\n",
    "\n",
    "assert check_layer_gradient(flattener, X)"
   ]
  },
  {
   "cell_type": "markdown",
   "metadata": {
    "colab_type": "text",
    "id": "G235cL0LhFfC"
   },
   "source": [
    "# Теперь есть все кирпичики, создаем модель"
   ]
  },
  {
   "cell_type": "code",
   "execution_count": 9,
   "metadata": {
    "colab": {
     "base_uri": "https://localhost:8080/",
     "height": 274
    },
    "colab_type": "code",
    "executionInfo": {
     "elapsed": 12674,
     "status": "ok",
     "timestamp": 1598103295298,
     "user": {
      "displayName": "Павел Ананьев",
      "photoUrl": "",
      "userId": "07746041064703407151"
     },
     "user_tz": -180
    },
    "id": "5d-IgFf5hFfC",
    "outputId": "e28cd255-e316-40b5-d38c-8d93bdaa2391"
   },
   "outputs": [
    {
     "name": "stdout",
     "output_type": "stream",
     "text": [
      "Checking gradient for W1\n",
      "Gradient check passed!\n",
      "Checking gradient for B1\n",
      "Gradient check passed!\n",
      "Checking gradient for W2\n",
      "Gradient check passed!\n",
      "Checking gradient for B2\n",
      "Gradient check passed!\n",
      "Checking gradient for W3\n",
      "Gradient check passed!\n",
      "Checking gradient for B3\n",
      "Gradient check passed!\n"
     ]
    },
    {
     "data": {
      "text/plain": [
       "True"
      ]
     },
     "execution_count": 9,
     "metadata": {},
     "output_type": "execute_result"
    }
   ],
   "source": [
    "# TODO: In model.py, implement missed functions function for ConvNet model\n",
    "\n",
    "# No need to use L2 regularization\n",
    "model = ConvNet(input_shape=(32,32,3), n_output_classes=10, conv1_channels=2, conv2_channels=2)\n",
    "loss = model.compute_loss_and_gradients(train_X[:2], train_y[:2])\n",
    "# TODO Now implement backward pass and aggregate all of the params\n",
    "check_model_gradient(model, train_X[:2], train_y[:2])"
   ]
  },
  {
   "cell_type": "markdown",
   "metadata": {
    "colab_type": "text",
    "id": "F-s0UNXGhFfI"
   },
   "source": [
    "# Оптимизатор и код для тренировки \n",
    "Должен заработать с кодом из прошлого задания без изменений!"
   ]
  },
  {
   "cell_type": "code",
   "execution_count": 10,
   "metadata": {
    "colab": {
     "base_uri": "https://localhost:8080/",
     "height": 384
    },
    "colab_type": "code",
    "executionInfo": {
     "elapsed": 3560,
     "status": "ok",
     "timestamp": 1598103273120,
     "user": {
      "displayName": "Павел Ананьев",
      "photoUrl": "",
      "userId": "07746041064703407151"
     },
     "user_tz": -180
    },
    "id": "aXihfXduhFfJ",
    "outputId": "4165bae5-cb55-4b9c-9b04-5d6526dfd899"
   },
   "outputs": [
    {
     "name": "stdout",
     "output_type": "stream",
     "text": [
      "Loss: 2.302902, Train accuracy: 0.187500, val accuracy: 0.125000\n",
      "Loss: 2.233090, Train accuracy: 0.187500, val accuracy: 0.125000\n",
      "Loss: 2.173501, Train accuracy: 0.187500, val accuracy: 0.125000\n",
      "Loss: 2.121569, Train accuracy: 0.187500, val accuracy: 0.125000\n",
      "Loss: 2.075651, Train accuracy: 0.187500, val accuracy: 0.125000\n",
      "Loss: 2.034708, Train accuracy: 0.187500, val accuracy: 0.125000\n",
      "Loss: 1.997988, Train accuracy: 0.250000, val accuracy: 0.125000\n",
      "Loss: 1.964431, Train accuracy: 0.312500, val accuracy: 0.125000\n",
      "Loss: 1.932820, Train accuracy: 0.375000, val accuracy: 0.125000\n",
      "Loss: 1.902319, Train accuracy: 0.375000, val accuracy: 0.125000\n",
      "Loss: 1.872731, Train accuracy: 0.437500, val accuracy: 0.125000\n",
      "Loss: 1.843880, Train accuracy: 0.437500, val accuracy: 0.187500\n",
      "Loss: 1.816050, Train accuracy: 0.437500, val accuracy: 0.250000\n",
      "Loss: 1.788703, Train accuracy: 0.437500, val accuracy: 0.250000\n",
      "Loss: 1.762102, Train accuracy: 0.437500, val accuracy: 0.250000\n",
      "Loss: 1.736455, Train accuracy: 0.437500, val accuracy: 0.250000\n",
      "Loss: 1.711259, Train accuracy: 0.437500, val accuracy: 0.250000\n",
      "Loss: 1.686540, Train accuracy: 0.437500, val accuracy: 0.250000\n",
      "Loss: 1.662186, Train accuracy: 0.437500, val accuracy: 0.250000\n",
      "Loss: 1.638093, Train accuracy: 0.437500, val accuracy: 0.250000\n"
     ]
    }
   ],
   "source": [
    "model = ConvNet(input_shape=(32,32,3), n_output_classes=10, conv1_channels=2, conv2_channels=2)\n",
    "dataset = Dataset(train_X[:16], train_y[:16], val_X[:16], val_y[:16])\n",
    "trainer = Trainer(model, dataset, SGD(), batch_size=16, learning_rate=1e-1)\n",
    "\n",
    "loss_history, train_history, val_history = trainer.fit()"
   ]
  },
  {
   "cell_type": "code",
   "execution_count": 11,
   "metadata": {
    "colab": {
     "base_uri": "https://localhost:8080/",
     "height": 283
    },
    "colab_type": "code",
    "executionInfo": {
     "elapsed": 899,
     "status": "ok",
     "timestamp": 1598101044362,
     "user": {
      "displayName": "Павел Ананьев",
      "photoUrl": "",
      "userId": "07746041064703407151"
     },
     "user_tz": -180
    },
    "id": "YAstIWa3hFfN",
    "outputId": "3f611bce-9be7-4923-863e-d032ca00d07a"
   },
   "outputs": [
    {
     "data": {
      "text/plain": [
       "[<matplotlib.lines.Line2D at 0x7f7b9875b850>]"
      ]
     },
     "execution_count": 11,
     "metadata": {},
     "output_type": "execute_result"
    },
    {
     "data": {
      "image/png": "[encoded data removed]",
      "text/plain": [
       "<Figure size 432x288 with 1 Axes>"
      ]
     },
     "metadata": {
      "needs_background": "light"
     },
     "output_type": "display_data"
    }
   ],
   "source": [
    "plt.plot(train_history)\n",
    "plt.plot(val_history)"
   ]
  },
  {
   "cell_type": "markdown",
   "metadata": {
    "colab_type": "text",
    "id": "7vUq3sXzhFfT"
   },
   "source": [
    "# Последнее упражнение\n",
    "В качестве последнего упражнения мы доведем точность на тренировочном наборе данных до 100% на небольшом наборе данных.\n",
    "Сверточные сети требуют большого количества вычислений и аккуратной эффективной реализации, поэтому настоящие модели мы будем тренировать уже на PyTorch в следующем задании."
   ]
  },
  {
   "cell_type": "markdown",
   "metadata": {
    "colab_type": "text",
    "id": "4ZczDYl-hFfU"
   },
   "source": [
    "## Итак, оверфитим маленький набор данных\n"
   ]
  },
  {
   "cell_type": "code",
   "execution_count": 126,
   "metadata": {
    "colab": {
     "base_uri": "https://localhost:8080/",
     "height": 398
    },
    "colab_type": "code",
    "executionInfo": {
     "elapsed": 501,
     "status": "error",
     "timestamp": 1598114380422,
     "user": {
      "displayName": "Павел Ананьев",
      "photoUrl": "",
      "userId": "07746041064703407151"
     },
     "user_tz": -180
    },
    "id": "WCnAQz5_hFfV",
    "outputId": "daca2b6b-d497-4cfc-9cdd-3444f424287e"
   },
   "outputs": [
    {
     "name": "stdout",
     "output_type": "stream",
     "text": [
      "Loss: 2.303312, Train accuracy: 0.187500, val accuracy: 0.125000\n",
      "Loss: 2.108909, Train accuracy: 0.187500, val accuracy: 0.062500\n",
      "Loss: 2.091359, Train accuracy: 0.312500, val accuracy: 0.125000\n",
      "Loss: 2.034152, Train accuracy: 0.375000, val accuracy: 0.125000\n",
      "Loss: 1.908905, Train accuracy: 0.312500, val accuracy: 0.125000\n",
      "Loss: 1.819447, Train accuracy: 0.312500, val accuracy: 0.000000\n",
      "Loss: 1.659701, Train accuracy: 0.312500, val accuracy: 0.000000\n",
      "Loss: 1.596912, Train accuracy: 0.375000, val accuracy: 0.062500\n",
      "Loss: 1.511260, Train accuracy: 0.375000, val accuracy: 0.125000\n",
      "Loss: 1.423828, Train accuracy: 0.500000, val accuracy: 0.062500\n",
      "Loss: 1.376421, Train accuracy: 0.687500, val accuracy: 0.125000\n",
      "Loss: 1.263079, Train accuracy: 0.562500, val accuracy: 0.187500\n",
      "Loss: 1.220362, Train accuracy: 0.750000, val accuracy: 0.187500\n",
      "Loss: 1.077817, Train accuracy: 0.687500, val accuracy: 0.062500\n",
      "Loss: 1.032013, Train accuracy: 0.750000, val accuracy: 0.062500\n",
      "Loss: 0.951508, Train accuracy: 0.687500, val accuracy: 0.125000\n",
      "Loss: 0.898309, Train accuracy: 0.750000, val accuracy: 0.062500\n",
      "Loss: 0.826227, Train accuracy: 0.687500, val accuracy: 0.062500\n",
      "Loss: 0.777464, Train accuracy: 0.687500, val accuracy: 0.125000\n",
      "Loss: 0.732093, Train accuracy: 0.750000, val accuracy: 0.125000\n",
      "Loss: 0.676238, Train accuracy: 0.750000, val accuracy: 0.062500\n",
      "Loss: 0.640795, Train accuracy: 0.750000, val accuracy: 0.062500\n",
      "Loss: 0.597442, Train accuracy: 0.687500, val accuracy: 0.125000\n",
      "Loss: 0.560600, Train accuracy: 0.812500, val accuracy: 0.125000\n",
      "Loss: 0.531354, Train accuracy: 0.875000, val accuracy: 0.125000\n",
      "Loss: 0.489902, Train accuracy: 0.937500, val accuracy: 0.062500\n",
      "Loss: 0.459247, Train accuracy: 0.875000, val accuracy: 0.125000\n",
      "Loss: 0.419366, Train accuracy: 0.937500, val accuracy: 0.125000\n",
      "Loss: 0.397097, Train accuracy: 1.000000, val accuracy: 0.125000\n",
      "Loss: 0.361375, Train accuracy: 1.000000, val accuracy: 0.125000\n",
      "Loss: 0.338209, Train accuracy: 1.000000, val accuracy: 0.125000\n",
      "Loss: 0.310200, Train accuracy: 1.000000, val accuracy: 0.125000\n",
      "Loss: 0.279495, Train accuracy: 1.000000, val accuracy: 0.062500\n",
      "Loss: 0.260229, Train accuracy: 1.000000, val accuracy: 0.062500\n",
      "Loss: 0.238402, Train accuracy: 1.000000, val accuracy: 0.125000\n",
      "Loss: 0.217643, Train accuracy: 1.000000, val accuracy: 0.125000\n",
      "Loss: 0.200809, Train accuracy: 1.000000, val accuracy: 0.062500\n",
      "Loss: 0.187007, Train accuracy: 1.000000, val accuracy: 0.062500\n",
      "Loss: 0.170005, Train accuracy: 1.000000, val accuracy: 0.125000\n",
      "Loss: 0.156713, Train accuracy: 1.000000, val accuracy: 0.125000\n",
      "Loss: 0.144488, Train accuracy: 1.000000, val accuracy: 0.062500\n",
      "Loss: 0.131922, Train accuracy: 1.000000, val accuracy: 0.062500\n",
      "Loss: 0.121015, Train accuracy: 1.000000, val accuracy: 0.125000\n",
      "Loss: 0.111247, Train accuracy: 1.000000, val accuracy: 0.125000\n",
      "Loss: 0.103377, Train accuracy: 1.000000, val accuracy: 0.125000\n",
      "Loss: 0.094615, Train accuracy: 1.000000, val accuracy: 0.125000\n",
      "Loss: 0.087618, Train accuracy: 1.000000, val accuracy: 0.125000\n",
      "Loss: 0.081150, Train accuracy: 1.000000, val accuracy: 0.125000\n",
      "Loss: 0.074986, Train accuracy: 1.000000, val accuracy: 0.125000\n",
      "Loss: 0.070004, Train accuracy: 1.000000, val accuracy: 0.125000\n"
     ]
    }
   ],
   "source": [
    "data_size = 16\n",
    "model = ConvNet(input_shape=(32,32,3), n_output_classes=10, conv1_channels=2, conv2_channels=2)\n",
    "dataset = Dataset(train_X[:data_size], train_y[:data_size], val_X[:data_size], val_y[:data_size])\n",
    "# TODO: Change any hyperparamers or optimizators to reach 1.0 training accuracy in 50 epochs or less\n",
    "# Hint: If you have hard time finding the right parameters manually, try grid search or random search!\n",
    "\n",
    "trainer = Trainer(model, dataset, MomentumSGD(), learning_rate=0.05, num_epochs=50, batch_size=16, learning_rate_decay=0.99)\n",
    "loss_history, train_history, val_history = trainer.fit()"
   ]
  },
  {
   "cell_type": "code",
   "execution_count": 127,
   "metadata": {
    "colab": {
     "base_uri": "https://localhost:8080/",
     "height": 283
    },
    "colab_type": "code",
    "executionInfo": {
     "elapsed": 598,
     "status": "ok",
     "timestamp": 1598103987555,
     "user": {
      "displayName": "Павел Ананьев",
      "photoUrl": "",
      "userId": "07746041064703407151"
     },
     "user_tz": -180
    },
    "id": "xao0_BEShFfZ",
    "outputId": "8ad740da-6da7-4234-cb84-780fe820d891"
   },
   "outputs": [
    {
     "data": {
      "text/plain": [
       "[<matplotlib.lines.Line2D at 0x7f7b983cf090>]"
      ]
     },
     "execution_count": 127,
     "metadata": {},
     "output_type": "execute_result"
    },
    {
     "data": {
      "image/png": "[encoded data removed]",
      "text/plain": [
       "<Figure size 432x288 with 1 Axes>"
      ]
     },
     "metadata": {
      "needs_background": "light"
     },
     "output_type": "display_data"
    }
   ],
   "source": [
    "plt.plot(train_history)\n",
    "plt.plot(val_history)"
   ]
  },
  {
   "cell_type": "markdown",
   "metadata": {
    "colab_type": "text",
    "id": "em8P_hvshFfd"
   },
   "source": [
    "Дальнейшие упражнения - уже на PyTorch, открывайте следующий notebook!\n",
    "\n",
    "![image.png](attachment:image.png)"
   ]
  }
 ],
 "metadata": {
  "colab": {
   "collapsed_sections": [],
   "name": "CNN.ipynb",
   "provenance": [],
   "toc_visible": true
  },
  "kernelspec": {
   "display_name": "Python 3",
   "language": "python",
   "name": "python3"
  },
  "language_info": {
   "codemirror_mode": {
    "name": "ipython",
    "version": 3
   },
   "file_extension": ".py",
   "mimetype": "text/x-python",
   "name": "python",
   "nbconvert_exporter": "python",
   "pygments_lexer": "ipython3",
   "version": "3.7.8"
  },
  "widgets": {
   "application/vnd.jupyter.widget-state+json": {
    "state": {},
    "version_major": 2,
    "version_minor": 0
   }
  }
 },
 "nbformat": 4,
 "nbformat_minor": 4
}
